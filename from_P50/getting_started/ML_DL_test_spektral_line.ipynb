{
 "cells": [
  {
   "cell_type": "code",
   "execution_count": 1,
   "metadata": {},
   "outputs": [],
   "source": [
    "import numpy as np\n",
    "import matplotlib.pyplot as plt\n",
    "import os\n",
    "import pandas as pd\n",
    "from scipy.spatial import distance\n",
    "from tqdm import tqdm\n",
    "\n",
    "import spektral\n",
    "import matplotlib.pyplot as plt\n",
    "\n",
    "from spektral.layers.convolutional import GraphSageConv, GCNConv\n",
    "from spektral.layers.pooling import GlobalAttentionPool\n",
    "from spektral import utils\n",
    "\n",
    "import tensorflow as tf\n",
    "# Set CPU as available physical device\n",
    "#my_devices = tf.config.experimental.list_physical_devices(device_type='CPU')\n",
    "#tf.config.experimental.set_visible_devices(devices= my_devices, device_type='CPU')\n",
    "#tf.config.set_visible_devices([], 'CPU')\n",
    "\n",
    "from tensorflow.keras.models import Model\n",
    "from tensorflow.keras.layers import Input, Dropout, Flatten, Concatenate\n",
    "from tensorflow.keras import backend as K\n",
    "from tensorflow.keras.metrics import mean_squared_error\n",
    "from tensorflow.keras.utils import multi_gpu_model\n",
    "from tensorflow.keras.optimizers import Adam"
   ]
  },
  {
   "cell_type": "code",
   "execution_count": 2,
   "metadata": {},
   "outputs": [
    {
     "data": {
      "text/plain": [
       "array(['graphNN_linegraph_samples_series-3_target-1_20181203.npz'],\n",
       "      dtype='<U56')"
      ]
     },
     "execution_count": 2,
     "metadata": {},
     "output_type": "execute_result"
    }
   ],
   "source": [
    "#source = '/media/storage_3/abiricz/Mobilcell/TimeIntervalGraphs/'\n",
    "source = '/media/Data_storage/Mobilcell/TimeIntervalGraphs_spektral/'\n",
    "source_pol = '/media/Data_storage/Mobilcell/DayPolygonData/'\n",
    "files = np.array( sorted([ i for i in os.listdir(source) if 'line' in i ]) )\n",
    "files[:10]"
   ]
  },
  {
   "cell_type": "code",
   "execution_count": 3,
   "metadata": {},
   "outputs": [
    {
     "data": {
      "text/plain": [
       "array(['20181203'], dtype='<U8')"
      ]
     },
     "execution_count": 3,
     "metadata": {},
     "output_type": "execute_result"
    }
   ],
   "source": [
    "dates = np.unique( [ j.split('_')[5][:-4] for j in files ] )\n",
    "dates"
   ]
  },
  {
   "cell_type": "code",
   "execution_count": 4,
   "metadata": {},
   "outputs": [
    {
     "data": {
      "text/plain": [
       "(8622, 2)"
      ]
     },
     "execution_count": 4,
     "metadata": {},
     "output_type": "execute_result"
    }
   ],
   "source": [
    "tower_info = pd.read_csv( source_pol+'fixed_merged-40_tower_locations.csv' ) ## CHANGED\n",
    "sort_idx = np.argsort( tower_info.tower_id.values )\n",
    "tower_info = tower_info.iloc[ sort_idx ]\n",
    "tower_info.reset_index(inplace=True)\n",
    "\n",
    "coords = np.unique( tower_info.iloc[:,2:], axis=0 )[:,1:]\n",
    "coords.shape"
   ]
  },
  {
   "cell_type": "markdown",
   "metadata": {},
   "source": [
    "#### Adjacency matrix as decaying distance matrix"
   ]
  },
  {
   "cell_type": "raw",
   "metadata": {},
   "source": [
    "adj_mat = np.exp( -distance.cdist( coords, coords, 'euclidean' ) / 20000 )\n",
    "adj_mat = adj_mat*(1*adj_mat < 1e-3) # zero at 140 km away"
   ]
  },
  {
   "cell_type": "raw",
   "metadata": {},
   "source": [
    "plt.pcolormesh( adj_mat )"
   ]
  },
  {
   "cell_type": "markdown",
   "metadata": {},
   "source": [
    "### Ideas:\n",
    "- node prediction: \n",
    "    - use node features\n",
    "    \n",
    "    \n",
    "- link prediction the same way using line graph\n",
    "\n",
    "- try spektral edge conditioned conv / graph conv to predict node features \n",
    "    - stack 3 consequtive steps as node and edge feature sets"
   ]
  },
  {
   "cell_type": "markdown",
   "metadata": {},
   "source": [
    "### Data loader "
   ]
  },
  {
   "cell_type": "code",
   "execution_count": 5,
   "metadata": {},
   "outputs": [
    {
     "name": "stdout",
     "output_type": "stream",
     "text": [
      "['node_filt', 'adj_mat_filt', 'adj_mat_line', 'nf', 'ef_mat', 'nf_line']\n"
     ]
    }
   ],
   "source": [
    "daynum = 0\n",
    "loaded = np.load( source+'graphNN_linegraph_samples_series-3_target-1_'+dates[daynum]+'.npz' )\n",
    "print( list( loaded.keys() ) )\n",
    "\n",
    "nfs = loaded['nf']\n",
    "ef_mats = loaded['ef_mat']\n",
    "nfs_line = loaded['nf_line']\n",
    "nf_line_targets = nfs_line[:,:,-1]\n",
    "nfs_line = nfs_line[:,:,:-1]\n",
    "adj_mat_line = loaded['adj_mat_line']\n",
    "\n",
    "#nf_targets = loaded['nf_target']\n",
    "#node_filt = loaded['node_filt']\n",
    "#adj_mat_filt = loaded['adj_mat_filt']\n",
    "#adj_mat = adj_mat[ np.ix_(node_filt, node_filt) ]\n",
    "#adj_mat = np.repeat( np.expand_dims(adj_mat, 0), 21, 0 )"
   ]
  },
  {
   "cell_type": "code",
   "execution_count": 6,
   "metadata": {
    "scrolled": false
   },
   "outputs": [
    {
     "data": {
      "text/plain": [
       "((3150, 3150), (20, 3150, 3), (20, 3150), (20, 3436, 4), (20, 3436, 3436, 4))"
      ]
     },
     "execution_count": 6,
     "metadata": {},
     "output_type": "execute_result"
    }
   ],
   "source": [
    "adj_mat_line.shape, nfs_line.shape, nf_line_targets.shape, nfs.shape, ef_mats.shape, "
   ]
  },
  {
   "cell_type": "code",
   "execution_count": 7,
   "metadata": {
    "scrolled": true
   },
   "outputs": [
    {
     "data": {
      "text/plain": [
       "array([ 2,  1,  0,  0,  0,  0, 11,  0,  0,  2], dtype=uint32)"
      ]
     },
     "execution_count": 7,
     "metadata": {},
     "output_type": "execute_result"
    }
   ],
   "source": [
    "nf_line_targets[0][:10]"
   ]
  },
  {
   "cell_type": "code",
   "execution_count": 8,
   "metadata": {},
   "outputs": [
    {
     "data": {
      "text/plain": [
       "array([ 2,  1,  0,  0,  0,  0, 11,  0,  0,  2], dtype=uint32)"
      ]
     },
     "execution_count": 8,
     "metadata": {},
     "output_type": "execute_result"
    }
   ],
   "source": [
    "nfs_line[1,:,-1][:10]"
   ]
  },
  {
   "cell_type": "markdown",
   "metadata": {},
   "source": [
    "### ML"
   ]
  },
  {
   "cell_type": "code",
   "execution_count": 41,
   "metadata": {},
   "outputs": [],
   "source": [
    "# Parameters\n",
    "N = nfs_line.shape[-2]          # Number of nodes in the graphs\n",
    "F = nfs_line.shape[-1]          # Node features dimensionality\n",
    "#N_line = nf_train_line.shape[-2]          # Number of nodes in the graphs\n",
    "#F_line = nf_train_line.shape[-1]          # Node features dimensionality\n",
    "# Dimensionalities of the targets\n",
    "n_out = nf_line_targets.shape[-2]\n",
    "learning_rate = 1e-3      # Learning rate for SGD\n",
    "epochs = 10              # Number of training epochs\n",
    "batch_size = 1         # Batch size\n",
    "es_patience = 5           # Patience fot early stopping"
   ]
  },
  {
   "cell_type": "code",
   "execution_count": null,
   "metadata": {},
   "outputs": [],
   "source": [
    "# Model definition\n",
    "nf_in = Input(shape=(N, F))\n",
    "adj_in = Input(shape=(N, N))\n",
    "\n",
    "gc0 = GCNConv( 32, activation='relu')([nf_in, adj_in])\n",
    "gc0 = GCNConv( 32, activation='relu')([gc0, adj_in])\n",
    "gc0 = GCNConv( 1, activation='relu')([gc0, adj_in])\n",
    "\n",
    "outp = Flatten()(gc0)\n",
    "#outp = GlobalAttentionPool()(gc0)"
   ]
  },
  {
   "cell_type": "code",
   "execution_count": null,
   "metadata": {},
   "outputs": [],
   "source": [
    "# Build model\n",
    "model = Model( inputs=[nf_in, adj_in], outputs=outp )\n",
    "#model = multi_gpu_model(model, 2)\n",
    "optimizer = Adam( lr=learning_rate, amsgrad=True, decay=1e-6 )\n",
    "model.compile( optimizer=optimizer, loss='mae' )\n",
    "model.summary()"
   ]
  },
  {
   "cell_type": "code",
   "execution_count": null,
   "metadata": {},
   "outputs": [],
   "source": [
    "# Train model\n",
    "# [nf_in, adj_in, ef_in, dm_in, cm_in]\n",
    "history = model.fit([nfs, adj_mat],\n",
    "          nf_targets,\n",
    "          batch_size=batch_size,\n",
    "          validation_split=0.1,\n",
    "          epochs=epochs)"
   ]
  },
  {
   "cell_type": "code",
   "execution_count": null,
   "metadata": {},
   "outputs": [],
   "source": []
  }
 ],
 "metadata": {
  "kernelspec": {
   "display_name": "Python 3",
   "language": "python",
   "name": "python3"
  },
  "language_info": {
   "codemirror_mode": {
    "name": "ipython",
    "version": 3
   },
   "file_extension": ".py",
   "mimetype": "text/x-python",
   "name": "python",
   "nbconvert_exporter": "python",
   "pygments_lexer": "ipython3",
   "version": "3.6.9"
  }
 },
 "nbformat": 4,
 "nbformat_minor": 2
}
