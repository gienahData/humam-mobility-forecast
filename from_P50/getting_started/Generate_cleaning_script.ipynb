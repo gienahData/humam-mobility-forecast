{
 "cells": [
  {
   "cell_type": "code",
   "execution_count": 1,
   "metadata": {},
   "outputs": [],
   "source": [
    "import numpy as np\n",
    "import os"
   ]
  },
  {
   "cell_type": "code",
   "execution_count": 2,
   "metadata": {},
   "outputs": [],
   "source": [
    "source = '/mnt2/data/csv/'"
   ]
  },
  {
   "cell_type": "raw",
   "metadata": {},
   "source": [
    "files_events = sorted( [ i for i in os.listdir( source ) if 'MT_MTA' in i  ] )\n",
    "files_events = np.array( [ i for i in files_events if 'EVENTS' in i ] )\n",
    "files_events = np.array( [ i for i in files_events if '.gz' in i ] )\n",
    "files_events.shape, files_events[:5], files_events[-5:]"
   ]
  },
  {
   "cell_type": "code",
   "execution_count": 3,
   "metadata": {},
   "outputs": [
    {
     "data": {
      "text/plain": [
       "((365,),\n",
       " array(['MT_MTA_NETWORK_EVENTS_20181201.csv.gz',\n",
       "        'MT_MTA_NETWORK_EVENTS_20181202.csv.gz',\n",
       "        'MT_MTA_NETWORK_EVENTS_20181203.csv.gz',\n",
       "        'MT_MTA_NETWORK_EVENTS_20181204.csv.gz',\n",
       "        'MT_MTA_NETWORK_EVENTS_20181205.csv.gz'], dtype='<U37'),\n",
       " array(['MT_MTA_NETWORK_EVENTS_20191126.csv.gz',\n",
       "        'MT_MTA_NETWORK_EVENTS_20191127.csv.gz',\n",
       "        'MT_MTA_NETWORK_EVENTS_20191128.csv.gz',\n",
       "        'MT_MTA_NETWORK_EVENTS_20191129.csv.gz',\n",
       "        'MT_MTA_NETWORK_EVENTS_20191130.csv.gz'], dtype='<U37'))"
      ]
     },
     "execution_count": 3,
     "metadata": {},
     "output_type": "execute_result"
    }
   ],
   "source": [
    "files_events = sorted( [ i for i in os.listdir( source ) if 'MT_MTA' in i  ] )\n",
    "files_events = np.array( [ i for i in files_events if 'EVENTS' in i ] )\n",
    "files_events.shape, files_events[:5], files_events[-5:]"
   ]
  },
  {
   "cell_type": "code",
   "execution_count": 4,
   "metadata": {},
   "outputs": [
    {
     "data": {
      "text/plain": [
       "array(['20181201', '20181202', '20181203', '20181204', '20181205'],\n",
       "      dtype='<U8')"
      ]
     },
     "execution_count": 4,
     "metadata": {},
     "output_type": "execute_result"
    }
   ],
   "source": [
    "dates = np.array( sorted([ i.split('.')[0].split('_')[4] for i in files_events ]) )\n",
    "dates[:5]"
   ]
  },
  {
   "cell_type": "markdown",
   "metadata": {},
   "source": [
    "#### This is a block"
   ]
  },
  {
   "cell_type": "raw",
   "metadata": {},
   "source": [
    "gunzip MT_MTA_NETWORK_EVENTS_20181201.csv\n",
    "gunzip MT_MTA_NETWORK_POLIGONS_20181201.csv\n",
    "java -Xmx2g -jar AdatTisztitasMentes.jar 20181201\n",
    "gzip MT_MTA_NETWORK_EVENTS_20181201.csv\n",
    "gzip MT_MTA_NETWORK_POLIGONS_20181201.csv"
   ]
  },
  {
   "cell_type": "code",
   "execution_count": 5,
   "metadata": {},
   "outputs": [
    {
     "name": "stdout",
     "output_type": "stream",
     "text": [
      "gunzip MT_MTA_NETWORK_EVENTS_20181201.csv.gz\n",
      "gunzip MT_MTA_NETWORK_POLIGONS_20181201.csv.gz\n",
      "java -Xmx6g -jar AdatTisztitasMentes.jar 20181201\n",
      "gzip Events_20181201.csv\n",
      "gzip MT_MTA_NETWORK_EVENTS_20181201.csv\n",
      "gzip MT_MTA_NETWORK_POLIGONS_20181201.csv\n"
     ]
    }
   ],
   "source": [
    "print([ 'gunzip MT_MTA_NETWORK_EVENTS_'+i+'.csv.gz\\n'+\\\n",
    "'gunzip MT_MTA_NETWORK_POLIGONS_'+i+'.csv.gz\\n'+\\\n",
    "'java -Xmx6g -jar AdatTisztitasMentes.jar '+i+'\\n'+\\\n",
    "'gzip Events_'+i+'.csv\\n'+\\\n",
    "'gzip MT_MTA_NETWORK_EVENTS_'+i+'.csv'+'\\n'+\\\n",
    "'gzip MT_MTA_NETWORK_POLIGONS_'+i+'.csv' for i in dates ][0])"
   ]
  },
  {
   "cell_type": "code",
   "execution_count": 6,
   "metadata": {},
   "outputs": [
    {
     "name": "stdout",
     "output_type": "stream",
     "text": [
      "rm: cannot remove 'script.sh': No such file or directory\r\n"
     ]
    }
   ],
   "source": [
    "!rm script.sh"
   ]
  },
  {
   "cell_type": "code",
   "execution_count": 7,
   "metadata": {},
   "outputs": [],
   "source": [
    "all_command = np.array( [ 'gunzip MT_MTA_NETWORK_EVENTS_'+i+'.csv.gz\\n'+\\\n",
    "'gunzip MT_MTA_NETWORK_POLIGONS_'+i+'.csv.gz\\n'+\\\n",
    "'java -Xmx4g -jar AdatTisztitasMentes.jar '+i+'\\n'+\\\n",
    "'gzip Events_'+i+'.csv\\n'\n",
    "'gzip MT_MTA_NETWORK_EVENTS_'+i+'.csv\\n'+\\\n",
    "'gzip MT_MTA_NETWORK_POLIGONS_'+i+'.csv' for i in dates ] )"
   ]
  },
  {
   "cell_type": "code",
   "execution_count": 8,
   "metadata": {},
   "outputs": [],
   "source": [
    "thread_num = 5\n",
    "to_threads = all_command.reshape(thread_num, -1)"
   ]
  },
  {
   "cell_type": "code",
   "execution_count": 9,
   "metadata": {},
   "outputs": [],
   "source": [
    "for i in range(thread_num):\n",
    "    np.savetxt( './script_to_clean_thread_'+str(i)+'.sh', to_threads[i], fmt='%s' )"
   ]
  }
 ],
 "metadata": {
  "kernelspec": {
   "display_name": "Python 3",
   "language": "python",
   "name": "python3"
  },
  "language_info": {
   "codemirror_mode": {
    "name": "ipython",
    "version": 3
   },
   "file_extension": ".py",
   "mimetype": "text/x-python",
   "name": "python",
   "nbconvert_exporter": "python",
   "pygments_lexer": "ipython3",
   "version": "3.6.9"
  }
 },
 "nbformat": 4,
 "nbformat_minor": 4
}
