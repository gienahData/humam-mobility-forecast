{
 "cells": [
  {
   "cell_type": "code",
   "execution_count": 5,
   "metadata": {},
   "outputs": [],
   "source": [
    "import numpy as np\n",
    "import pandas as pd\n",
    "from itertools import product\n",
    "import os\n",
    "from tqdm import tqdm"
   ]
  },
  {
   "cell_type": "code",
   "execution_count": 6,
   "metadata": {},
   "outputs": [
    {
     "name": "stdout",
     "output_type": "stream",
     "text": [
      "CPU times: user 0 ns, sys: 665 ms, total: 665 ms\n",
      "Wall time: 668 ms\n"
     ]
    },
    {
     "data": {
      "text/plain": [
       "(27988670, 9)"
      ]
     },
     "execution_count": 6,
     "metadata": {},
     "output_type": "execute_result"
    }
   ],
   "source": [
    "%%time\n",
    "eq_info = np.load('/media/Data_storage/Mobilcell/DayEventData/output_daily-events-data_20190311.npy')\n",
    "eq_info.shape"
   ]
  },
  {
   "cell_type": "raw",
   "metadata": {},
   "source": [
    "eq_info_df = pd.read_csv( '/media/Data_storage/Mobilcell/DayEventData/output_daily-events-data_20190311.csv' )\n",
    "eq_info_df.shape"
   ]
  },
  {
   "cell_type": "raw",
   "metadata": {},
   "source": [
    "eq_info_df.head()"
   ]
  },
  {
   "cell_type": "code",
   "execution_count": null,
   "metadata": {},
   "outputs": [],
   "source": []
  },
  {
   "cell_type": "code",
   "execution_count": 4,
   "metadata": {},
   "outputs": [
    {
     "data": {
      "text/plain": [
       "((497526, 9),\n",
       " array([[     7,    603, 223629, 659898, 225589, 661267,      3,   2391,\n",
       "             13],\n",
       "        [    34,    600, 198761, 506523, 197126, 505540,      5,   1907,\n",
       "              6],\n",
       "        [    34,    605, 197126, 505540, 198761, 506523,      6,   1907,\n",
       "              5]], dtype=int32))"
      ]
     },
     "execution_count": 4,
     "metadata": {},
     "output_type": "execute_result"
    }
   ],
   "source": [
    "eq_to_map = eq_info[ np.in1d( eq_info[:,1], np.arange(600, 615) ) ]\n",
    "eq_to_map.shape, eq_to_map[:3]"
   ]
  },
  {
   "cell_type": "code",
   "execution_count": 14,
   "metadata": {},
   "outputs": [
    {
     "data": {
      "text/plain": [
       "(518865, 4)"
      ]
     },
     "execution_count": 14,
     "metadata": {},
     "output_type": "execute_result"
    }
   ],
   "source": [
    "np.unique( eq_to_map[:,2:6], return_counts=True, axis=0)[0].shape"
   ]
  },
  {
   "cell_type": "code",
   "execution_count": 18,
   "metadata": {
    "scrolled": true
   },
   "outputs": [
    {
     "data": {
      "text/plain": [
       "(array([516925,   1508,    278,     82,     38,     16,      7,      7,\n",
       "             1,      3]),\n",
       " array([ 1. , 10.1, 19.2, 28.3, 37.4, 46.5, 55.6, 64.7, 73.8, 82.9, 92. ]))"
      ]
     },
     "execution_count": 18,
     "metadata": {},
     "output_type": "execute_result"
    }
   ],
   "source": [
    "np.histogram( np.unique( eq_to_map[:,2:6], return_counts=True, axis=0)[1] )"
   ]
  },
  {
   "cell_type": "markdown",
   "metadata": {},
   "source": [
    "### TODO:\n",
    "- investigate polygon grid\n",
    "- fix polygon grid somehow beyond days, towers should be at the same pos\n",
    "- maybe do it in post proc phase with np.isclose and threshold\n",
    "- check polygons for technology (2G, 3G, 4G), maybe embed data into multiple layers?\n",
    "\n",
    "\n",
    "- check mobilecell data for different kind of events (data, sms, call)\n",
    "- which is most problematic?\n",
    "\n",
    "\n",
    "- can do great improvement:\n",
    "    * match polygon grid with openstreetmap\n",
    "    * movements should be along roads, trainlines, etc.\n",
    "    * might be good to interpolate only events shorter that 60 minutes\n",
    "\n",
    "\n",
    "- goal: \n",
    "    * same network node distribution, same positions, but different links\n",
    "    * graph links evolving in time -> encoder embedding, LSTM or RNN to pred, then tranform back or look for link prediction algorithms"
   ]
  },
  {
   "cell_type": "markdown",
   "metadata": {},
   "source": [
    "Some sources:\n",
    "\n",
    "- https://github.com/facebookresearch/SEAL_OGB\n",
    "- https://ogb.stanford.edu/docs/linkprop/#ogbl-ppa\n",
    "- https://ogb.stanford.edu/docs/leader_linkprop/\n"
   ]
  },
  {
   "cell_type": "markdown",
   "metadata": {},
   "source": []
  }
 ],
 "metadata": {
  "kernelspec": {
   "display_name": "Python 3",
   "language": "python",
   "name": "python3"
  },
  "language_info": {
   "codemirror_mode": {
    "name": "ipython",
    "version": 3
   },
   "file_extension": ".py",
   "mimetype": "text/x-python",
   "name": "python",
   "nbconvert_exporter": "python",
   "pygments_lexer": "ipython3",
   "version": "3.6.9"
  }
 },
 "nbformat": 4,
 "nbformat_minor": 2
}
