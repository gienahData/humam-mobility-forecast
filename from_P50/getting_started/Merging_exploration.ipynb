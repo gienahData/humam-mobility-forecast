{
 "cells": [
  {
   "cell_type": "code",
   "execution_count": 61,
   "metadata": {},
   "outputs": [],
   "source": [
    "import numpy as np\n",
    "import pandas as pd\n",
    "from itertools import product\n",
    "import os\n",
    "from tqdm import tqdm\n",
    "import networkx as nx\n",
    "import matplotlib.pyplot as plt\n",
    "#from joblib import Parallel, delayed\n",
    "\n",
    "#from sklearn.neighbors import kd_tree\n",
    "\n",
    "from pyproj import CRS, Transformer\n",
    "import cartopy.crs as ccrs\n",
    "import cartopy.io.img_tiles as cimgt"
   ]
  },
  {
   "cell_type": "markdown",
   "metadata": {},
   "source": [
    "### Already calculated:\n",
    "- fix cell positions throughout the year\n",
    "- (slightly) different overlap matrix for each day"
   ]
  },
  {
   "cell_type": "markdown",
   "metadata": {},
   "source": [
    "### To-do in this notebook: explore merging \n",
    "- load a daily overlap matrix\n",
    "- check for overlapping cells and measure their distance\n",
    "- keep only close connections\n",
    "- merge cells (build graph?)"
   ]
  },
  {
   "cell_type": "markdown",
   "metadata": {},
   "source": [
    "### Locate data"
   ]
  },
  {
   "cell_type": "raw",
   "metadata": {},
   "source": [
    "# This seems to be the global grid of rasters, same for every day!\n",
    "start_x = 48262\n",
    "end_x = 362968\n",
    "start_y = 426468\n",
    "end_y = 934214\n",
    "num_x = int( ( end_x - start_x ) / 127 )\n",
    "num_y = int( ( end_y - start_y ) / 127 )\n",
    "\n",
    "# this raster encoding is universal then\n",
    "raster_x = np.arange(start_x, end_x+127, 127, dtype=np.int32)\n",
    "raster_y = np.arange(start_y, end_y+127, 127, dtype=np.int32)\n",
    "\n",
    "# get coordinate vector\n",
    "raster_coords = np.array( list(product( raster_x, raster_y )) )"
   ]
  },
  {
   "cell_type": "code",
   "execution_count": 59,
   "metadata": {},
   "outputs": [],
   "source": [
    "source = '/media/Data_storage/Mobilcell/DayPolygonData/'\n",
    "destination = '/media/Data_storage/Mobilcell/DayPolygonData/'"
   ]
  },
  {
   "cell_type": "markdown",
   "metadata": {},
   "source": [
    "### Load tower locations"
   ]
  },
  {
   "cell_type": "code",
   "execution_count": 15,
   "metadata": {},
   "outputs": [
    {
     "data": {
      "text/html": [
       "<div>\n",
       "<style scoped>\n",
       "    .dataframe tbody tr th:only-of-type {\n",
       "        vertical-align: middle;\n",
       "    }\n",
       "\n",
       "    .dataframe tbody tr th {\n",
       "        vertical-align: top;\n",
       "    }\n",
       "\n",
       "    .dataframe thead th {\n",
       "        text-align: right;\n",
       "    }\n",
       "</style>\n",
       "<table border=\"1\" class=\"dataframe\">\n",
       "  <thead>\n",
       "    <tr style=\"text-align: right;\">\n",
       "      <th></th>\n",
       "      <th>original_id</th>\n",
       "      <th>tower_id</th>\n",
       "      <th>mean_x</th>\n",
       "      <th>mean_y</th>\n",
       "      <th>std_x</th>\n",
       "      <th>std_y</th>\n",
       "      <th>perc_10_x</th>\n",
       "      <th>perc_10_y</th>\n",
       "      <th>perc_50_x</th>\n",
       "      <th>perc_50_y</th>\n",
       "      <th>perc_90_x</th>\n",
       "      <th>perc_90_y</th>\n",
       "      <th>perc_99_x</th>\n",
       "      <th>perc_99_y</th>\n",
       "    </tr>\n",
       "  </thead>\n",
       "  <tbody>\n",
       "    <tr>\n",
       "      <td>0</td>\n",
       "      <td>71892</td>\n",
       "      <td>0</td>\n",
       "      <td>250859</td>\n",
       "      <td>557285</td>\n",
       "      <td>4</td>\n",
       "      <td>2</td>\n",
       "      <td>250851</td>\n",
       "      <td>557281</td>\n",
       "      <td>250862</td>\n",
       "      <td>557287</td>\n",
       "      <td>250862</td>\n",
       "      <td>557287</td>\n",
       "      <td>250862</td>\n",
       "      <td>557287</td>\n",
       "    </tr>\n",
       "    <tr>\n",
       "      <td>1</td>\n",
       "      <td>72307</td>\n",
       "      <td>1</td>\n",
       "      <td>243343</td>\n",
       "      <td>558377</td>\n",
       "      <td>4</td>\n",
       "      <td>9</td>\n",
       "      <td>243342</td>\n",
       "      <td>558374</td>\n",
       "      <td>243342</td>\n",
       "      <td>558374</td>\n",
       "      <td>243345</td>\n",
       "      <td>558383</td>\n",
       "      <td>243355</td>\n",
       "      <td>558407</td>\n",
       "    </tr>\n",
       "    <tr>\n",
       "      <td>2</td>\n",
       "      <td>72922</td>\n",
       "      <td>2</td>\n",
       "      <td>247254</td>\n",
       "      <td>549716</td>\n",
       "      <td>5</td>\n",
       "      <td>2</td>\n",
       "      <td>247247</td>\n",
       "      <td>549714</td>\n",
       "      <td>247258</td>\n",
       "      <td>549716</td>\n",
       "      <td>247258</td>\n",
       "      <td>549724</td>\n",
       "      <td>247258</td>\n",
       "      <td>549724</td>\n",
       "    </tr>\n",
       "    <tr>\n",
       "      <td>3</td>\n",
       "      <td>73325</td>\n",
       "      <td>3</td>\n",
       "      <td>248646</td>\n",
       "      <td>551068</td>\n",
       "      <td>3</td>\n",
       "      <td>3</td>\n",
       "      <td>248646</td>\n",
       "      <td>551066</td>\n",
       "      <td>248646</td>\n",
       "      <td>551066</td>\n",
       "      <td>248652</td>\n",
       "      <td>551072</td>\n",
       "      <td>248652</td>\n",
       "      <td>551081</td>\n",
       "    </tr>\n",
       "    <tr>\n",
       "      <td>4</td>\n",
       "      <td>140903</td>\n",
       "      <td>4</td>\n",
       "      <td>273540</td>\n",
       "      <td>796042</td>\n",
       "      <td>47</td>\n",
       "      <td>39</td>\n",
       "      <td>273514</td>\n",
       "      <td>796019</td>\n",
       "      <td>273514</td>\n",
       "      <td>796019</td>\n",
       "      <td>273622</td>\n",
       "      <td>796118</td>\n",
       "      <td>273635</td>\n",
       "      <td>796118</td>\n",
       "    </tr>\n",
       "  </tbody>\n",
       "</table>\n",
       "</div>"
      ],
      "text/plain": [
       "   original_id  tower_id  mean_x  mean_y  std_x  std_y  perc_10_x  perc_10_y  \\\n",
       "0        71892         0  250859  557285      4      2     250851     557281   \n",
       "1        72307         1  243343  558377      4      9     243342     558374   \n",
       "2        72922         2  247254  549716      5      2     247247     549714   \n",
       "3        73325         3  248646  551068      3      3     248646     551066   \n",
       "4       140903         4  273540  796042     47     39     273514     796019   \n",
       "\n",
       "   perc_50_x  perc_50_y  perc_90_x  perc_90_y  perc_99_x  perc_99_y  \n",
       "0     250862     557287     250862     557287     250862     557287  \n",
       "1     243342     558374     243345     558383     243355     558407  \n",
       "2     247258     549716     247258     549724     247258     549724  \n",
       "3     248646     551066     248652     551072     248652     551081  \n",
       "4     273514     796019     273622     796118     273635     796118  "
      ]
     },
     "execution_count": 15,
     "metadata": {},
     "output_type": "execute_result"
    }
   ],
   "source": [
    "tower_loc_df = pd.read_csv( source+'fixed_tower_locations.csv' )\n",
    "tower_loc_df.head()"
   ]
  },
  {
   "cell_type": "code",
   "execution_count": 14,
   "metadata": {
    "scrolled": true
   },
   "outputs": [
    {
     "data": {
      "text/plain": [
       "43376"
      ]
     },
     "execution_count": 14,
     "metadata": {},
     "output_type": "execute_result"
    }
   ],
   "source": [
    "# all unique ids of polygons for the whole year\n",
    "tower_id_all_global = np.load( source+'unique-tower-id_all.npy' )[:,0] # 0th column contains the ids\n",
    "tower_to_int_all = dict( zip( tower_id_all_global, np.arange( tower_id_all_global.shape[0] ) ) )\n",
    "len(tower_to_int_all)"
   ]
  },
  {
   "cell_type": "markdown",
   "metadata": {},
   "source": [
    "### Load overlap matrix"
   ]
  },
  {
   "cell_type": "code",
   "execution_count": 4,
   "metadata": {
    "scrolled": true
   },
   "outputs": [
    {
     "data": {
      "text/plain": [
       "((365,), array(['overlap-matrix_normed_20181201.npz',\n",
       "        'overlap-matrix_normed_20181202.npz',\n",
       "        'overlap-matrix_normed_20181203.npz'], dtype='<U34'))"
      ]
     },
     "execution_count": 4,
     "metadata": {},
     "output_type": "execute_result"
    }
   ],
   "source": [
    "files_ovr = np.array( sorted( [ i for i in os.listdir( source ) if 'overlap' in i] ) )\n",
    "files_ovr.shape, files_ovr[:3]"
   ]
  },
  {
   "cell_type": "raw",
   "metadata": {
    "scrolled": true
   },
   "source": [
    "ovr_mat = np.load( source + files_ovr[0] )['ovr']\n",
    "ovr_mat.shape"
   ]
  },
  {
   "cell_type": "code",
   "execution_count": 5,
   "metadata": {},
   "outputs": [],
   "source": [
    "ovr_mat_global = np.zeros( ( len(tower_to_int_all), len(tower_to_int_all) ), np.float16)\n",
    "#ovr_mat_norm = np.zeros( ( len(tower_to_int_all), len(tower_to_int_all) ), np.uint16)"
   ]
  },
  {
   "cell_type": "code",
   "execution_count": 6,
   "metadata": {},
   "outputs": [
    {
     "name": "stderr",
     "output_type": "stream",
     "text": [
      "100%|██████████| 365/365 [3:03:07<00:00, 30.10s/it]  \n"
     ]
    }
   ],
   "source": [
    "for t in tqdm( range( files_ovr.shape[0] ) ):\n",
    "    ovr_mat_global += np.load( source + files_ovr[t] )['ovr']\n",
    "    #ovr_mat_norm += ( (ovr_mat > 0)*1 ).astype(np.uint16)"
   ]
  },
  {
   "cell_type": "raw",
   "metadata": {},
   "source": [
    "np.save( './ovr_mat_global', ovr_mat_global )"
   ]
  },
  {
   "cell_type": "code",
   "execution_count": null,
   "metadata": {},
   "outputs": [],
   "source": []
  },
  {
   "cell_type": "markdown",
   "metadata": {},
   "source": [
    "#### Try to paralellize (works, but not for this large computation due to 32 bit limit)"
   ]
  },
  {
   "cell_type": "raw",
   "metadata": {},
   "source": [
    "def par_load_and_add_func( start, stop ):\n",
    "    ovr_mat_temp = np.zeros( ( len(tower_to_int_all), len(tower_to_int_all) ), \n",
    "                         np.float16 )\n",
    "    for t in range( start, stop ):\n",
    "        ovr_loaded = np.load( source + files_ovr[t] )['ovr'].astype(np.float16)\n",
    "        ovr_mat_temp += ovr_loaded\n",
    "    \n",
    "    return ovr_mat_temp.astype(np.float16)"
   ]
  },
  {
   "cell_type": "raw",
   "metadata": {},
   "source": [
    "num_jobs = 4\n",
    "job_split_idx = np.append( np.arange( 0, files_ovr.shape[0], np.ceil(files_ovr.shape[0]/num_jobs) ), files_ovr.shape[0] ).astype(int)\n",
    "job_split_idx = np.vstack( (job_split_idx[:-1], job_split_idx[1:]) ).T\n",
    "\n",
    "output_list = Parallel(n_jobs=num_jobs,\n",
    "                       backend='multiprocessing',\n",
    "                       #max_nbytes='10G',\n",
    "                      )(delayed(par_load_and_add_func) \n",
    "                                 (c[0], c[1])\n",
    "                                 for c in job_split_idx ) \n",
    "#\n",
    "output_array = np.sum( np.array(output_list), axis=0 )"
   ]
  },
  {
   "cell_type": "markdown",
   "metadata": {},
   "source": [
    "#### Todo: Normalize each row with the diagonal element"
   ]
  },
  {
   "cell_type": "code",
   "execution_count": 8,
   "metadata": {},
   "outputs": [
    {
     "data": {
      "text/plain": [
       "(43376, 43376)"
      ]
     },
     "execution_count": 8,
     "metadata": {},
     "output_type": "execute_result"
    }
   ],
   "source": [
    "norm_factor = np.ones( ovr_mat_global.shape[0], dtype=np.float32 )\n",
    "nonzero = ovr_mat_global[ np.diag_indices(ovr_mat_global.shape[0]) ] > 0\n",
    "norm_factor[nonzero] = ovr_mat_global[ np.diag_indices(ovr_mat_global.shape[0]) ][nonzero]\n",
    "ovr_mat_normed = ovr_mat_global / norm_factor\n",
    "ovr_mat_normed.shape"
   ]
  },
  {
   "cell_type": "code",
   "execution_count": 9,
   "metadata": {},
   "outputs": [
    {
     "data": {
      "text/plain": [
       "array([[1., 0., 0., ..., 0., 0., 0.],\n",
       "       [0., 1., 0., ..., 0., 0., 0.],\n",
       "       [0., 0., 1., ..., 0., 0., 0.],\n",
       "       ...,\n",
       "       [0., 0., 0., ..., 1., 0., 0.],\n",
       "       [0., 0., 0., ..., 0., 1., 0.],\n",
       "       [0., 0., 0., ..., 0., 0., 1.]], dtype=float32)"
      ]
     },
     "execution_count": 9,
     "metadata": {},
     "output_type": "execute_result"
    }
   ],
   "source": [
    "ovr_mat_normed"
   ]
  },
  {
   "cell_type": "code",
   "execution_count": 12,
   "metadata": {},
   "outputs": [
    {
     "data": {
      "image/png": "[encoded data removed]",
      "text/plain": [
       "<Figure size 432x288 with 1 Axes>"
      ]
     },
     "metadata": {
      "needs_background": "light"
     },
     "output_type": "display_data"
    }
   ],
   "source": [
    "plt.hist( norm_factor )\n",
    "plt.yscale('log')"
   ]
  },
  {
   "cell_type": "markdown",
   "metadata": {},
   "source": [
    "#### Cell encodings"
   ]
  },
  {
   "cell_type": "code",
   "execution_count": 16,
   "metadata": {},
   "outputs": [],
   "source": [
    "tower_to_int = dict( zip(tower_loc_df.original_id, tower_loc_df.tower_id) )\n",
    "int_to_tower = dict( zip(tower_loc_df.tower_id, tower_loc_df.original_id) )\n",
    "int_to_pos = dict( zip(tower_loc_df.tower_id, tower_loc_df.iloc[:,2:4].values.tolist() ) )"
   ]
  },
  {
   "cell_type": "markdown",
   "metadata": {},
   "source": [
    "#### Lets check few"
   ]
  },
  {
   "cell_type": "code",
   "execution_count": 17,
   "metadata": {},
   "outputs": [
    {
     "data": {
      "text/plain": [
       "([250859, 557285], [208627, 818347])"
      ]
     },
     "execution_count": 17,
     "metadata": {},
     "output_type": "execute_result"
    }
   ],
   "source": [
    "int_to_pos[0], int_to_pos[120]"
   ]
  },
  {
   "cell_type": "markdown",
   "metadata": {},
   "source": [
    "#### Interestingly there are more cells at the exact same position!"
   ]
  },
  {
   "cell_type": "code",
   "execution_count": 18,
   "metadata": {
    "scrolled": true
   },
   "outputs": [
    {
     "data": {
      "text/plain": [
       "([250827, 559437],\n",
       " [250827, 559437],\n",
       " [250827, 559437],\n",
       " [250827, 559437],\n",
       " [250827, 559437])"
      ]
     },
     "execution_count": 18,
     "metadata": {},
     "output_type": "execute_result"
    }
   ],
   "source": [
    "int_to_pos[32153-8], int_to_pos[32154-8], int_to_pos[32157-8], int_to_pos[26226], int_to_pos[26227]"
   ]
  },
  {
   "cell_type": "markdown",
   "metadata": {},
   "source": [
    "https://www.google.hu/maps/@47.5941336,17.8439783,3a,75y,340.88h,96.97t/data=!3m6!1e1!3m4!1srHwD7QIjd9Vz6Qce20Nw7Q!2e0!7i13312!8i6656?hl=en"
   ]
  },
  {
   "cell_type": "markdown",
   "metadata": {},
   "source": [
    "### Process"
   ]
  },
  {
   "cell_type": "markdown",
   "metadata": {},
   "source": [
    "#### This can be done for a day or for a year with the summed matrix"
   ]
  },
  {
   "cell_type": "code",
   "execution_count": 19,
   "metadata": {},
   "outputs": [],
   "source": [
    "threshold_ovr = 0.25 # fraction of overlap\n",
    "threshold_dist = 127*10 # distance in m"
   ]
  },
  {
   "cell_type": "code",
   "execution_count": 20,
   "metadata": {
    "scrolled": true
   },
   "outputs": [
    {
     "data": {
      "text/plain": [
       "array([[    0,     0],\n",
       "       [    0, 12375],\n",
       "       [    0, 12378],\n",
       "       [    0, 21669],\n",
       "       [    0, 21670]])"
      ]
     },
     "execution_count": 20,
     "metadata": {},
     "output_type": "execute_result"
    }
   ],
   "source": [
    "ovr_mat = ovr_mat_normed\n",
    "ovr_mat_thrs_idxs = np.argwhere( ovr_mat > threshold_ovr )\n",
    "ovr_mat_thrs_idxs[:5]"
   ]
  },
  {
   "cell_type": "code",
   "execution_count": 21,
   "metadata": {},
   "outputs": [],
   "source": [
    "ovr_diff_idx = np.where( np.diff( ovr_mat_thrs_idxs[:,0] ) )[0]+1\n",
    "# insert first element (zero) ## otherwise left out!\n",
    "ovr_diff_idx = np.insert(ovr_diff_idx, 0, 0, axis=0)\n",
    "# insert last element (size of array) ## otherwise left out!\n",
    "ovr_diff_idx = np.append( ovr_diff_idx, ovr_mat_thrs_idxs.shape[0] )\n",
    "\n",
    "ovr_mat_indexing = np.vstack( ( ovr_diff_idx[:-1], ovr_diff_idx[1:] ) ).T"
   ]
  },
  {
   "cell_type": "code",
   "execution_count": 22,
   "metadata": {},
   "outputs": [
    {
     "data": {
      "text/plain": [
       "array([[     0,     15],\n",
       "       [    15,     27],\n",
       "       [    27,     31],\n",
       "       ...,\n",
       "       [402144, 402147],\n",
       "       [402147, 402152],\n",
       "       [402152, 402156]])"
      ]
     },
     "execution_count": 22,
     "metadata": {},
     "output_type": "execute_result"
    }
   ],
   "source": [
    "ovr_mat_indexing"
   ]
  },
  {
   "cell_type": "code",
   "execution_count": 23,
   "metadata": {},
   "outputs": [],
   "source": [
    "def euclidean_distance( x, y ):\n",
    "    return np.sqrt( np.sum( (x-y)**2 ) )"
   ]
  },
  {
   "cell_type": "code",
   "execution_count": 24,
   "metadata": {},
   "outputs": [
    {
     "data": {
      "text/plain": [
       "6532.961656094424"
      ]
     },
     "execution_count": 24,
     "metadata": {},
     "output_type": "execute_result"
    }
   ],
   "source": [
    "euclidean_distance( np.array([250859, 557285]), np.array([246001, 552917]) )"
   ]
  },
  {
   "cell_type": "code",
   "execution_count": 25,
   "metadata": {},
   "outputs": [
    {
     "name": "stderr",
     "output_type": "stream",
     "text": [
      "100%|██████████| 43376/43376 [00:05<00:00, 8042.85it/s] \n"
     ]
    }
   ],
   "source": [
    "merge_idxs_all = []\n",
    "for i in tqdm( range(ovr_mat_indexing.shape[0]) ):\n",
    "    #print(i)\n",
    "    # get current tower indices, where distance needs to be checked\n",
    "    curr_idxs = ovr_mat_thrs_idxs[ ovr_mat_indexing[i,0]:ovr_mat_indexing[i,1] ]\n",
    "    curr_idxs = curr_idxs[ curr_idxs[:,0] != curr_idxs[:,1] ]\n",
    "    \n",
    "    if len(curr_idxs) > 0:\n",
    "        # current line (current cell to measure distance to)\n",
    "        base_pos = np.array( int_to_pos[ curr_idxs[0,0] ] )\n",
    "        #print(base_pos)\n",
    "        check_pos = np.array( [ int_to_pos[q] for q in curr_idxs[:,1] ] )\n",
    "        #print(check_pos)\n",
    "        dists = np.array( [ euclidean_distance(base_pos, s ) for s in check_pos ] )\n",
    "        merge_idxs = curr_idxs[ np.argwhere( dists < threshold_dist ), 1]\n",
    "        if len(merge_idxs) > 0:\n",
    "            merge_idxs = np.insert( merge_idxs, 0, i )\n",
    "            merge_idxs_all.append( merge_idxs )"
   ]
  },
  {
   "cell_type": "markdown",
   "metadata": {},
   "source": [
    "### Merging preparation"
   ]
  },
  {
   "cell_type": "markdown",
   "metadata": {},
   "source": [
    "#### Add ones in previously calculated positions into an empy matrix"
   ]
  },
  {
   "cell_type": "code",
   "execution_count": 26,
   "metadata": {},
   "outputs": [],
   "source": [
    "ovr_mat_int = np.zeros( ovr_mat.shape, dtype=np.uint16 )\n",
    "for n in merge_idxs_all:\n",
    "    line = n[0]\n",
    "    idx_to_add_at = n[1:]\n",
    "    np.add.at( ovr_mat_int[line], idx_to_add_at, 1 )"
   ]
  },
  {
   "cell_type": "code",
   "execution_count": 27,
   "metadata": {
    "scrolled": true
   },
   "outputs": [
    {
     "data": {
      "text/plain": [
       "array([[0, 0, 0, 0, 0, 0, 0, 0, 0, 0],\n",
       "       [0, 0, 0, 0, 0, 0, 0, 0, 0, 0],\n",
       "       [0, 0, 0, 0, 0, 0, 0, 0, 0, 0],\n",
       "       [0, 0, 0, 0, 1, 1, 0, 0, 0, 0],\n",
       "       [0, 0, 0, 1, 0, 1, 0, 0, 0, 0],\n",
       "       [0, 0, 0, 1, 1, 0, 0, 0, 0, 0],\n",
       "       [0, 0, 0, 0, 0, 0, 0, 0, 0, 0],\n",
       "       [0, 0, 0, 0, 0, 0, 0, 0, 0, 0],\n",
       "       [0, 0, 0, 0, 0, 0, 0, 0, 0, 0],\n",
       "       [0, 0, 0, 0, 0, 0, 0, 0, 0, 0]], dtype=uint16)"
      ]
     },
     "execution_count": 27,
     "metadata": {},
     "output_type": "execute_result"
    }
   ],
   "source": [
    "ovr_mat_int[20:30,20:30]"
   ]
  },
  {
   "cell_type": "code",
   "execution_count": 28,
   "metadata": {
    "scrolled": true
   },
   "outputs": [
    {
     "data": {
      "text/plain": [
       "[array([    4, 25241, 32422, 32424, 34224, 34294]),\n",
       " array([    6,  1202,  6824,  9871, 16987, 30809]),\n",
       " array([    7,  1201,  6808,  9872, 16988, 30808]),\n",
       " array([    8,  1199,  6806,  9873, 30807]),\n",
       " array([    9,  7345,  9906, 30020]),\n",
       " array([   10,  7321,  9907, 30019]),\n",
       " array([   11,  7316,  9908, 30018]),\n",
       " array([   12,  3199,  5546,  9133, 31289]),\n",
       " array([   13,  3198,  5545,  9134, 31288]),\n",
       " array([   14,  3197,  5544,  9135, 17047, 31287])]"
      ]
     },
     "execution_count": 28,
     "metadata": {},
     "output_type": "execute_result"
    }
   ],
   "source": [
    "merge_idxs_all[:10]"
   ]
  },
  {
   "cell_type": "markdown",
   "metadata": {},
   "source": [
    "#### Keep only symmetric connections? (A and B cells would have to both overlap each other up to defined ratio)"
   ]
  },
  {
   "cell_type": "code",
   "execution_count": 29,
   "metadata": {
    "scrolled": true
   },
   "outputs": [
    {
     "name": "stderr",
     "output_type": "stream",
     "text": [
      "100%|██████████| 43376/43376 [00:21<00:00, 2064.59it/s]\n"
     ]
    }
   ],
   "source": [
    "merge_idxs_symm = []\n",
    "for a in tqdm( range( ovr_mat_int.shape[0] ) ):\n",
    "    inline_idx_symm = np.argwhere( np.logical_and( ovr_mat_int[a] > 0, ovr_mat_int[:,a] > 0 ) ).flatten()\n",
    "    if inline_idx_symm.shape[0] > 0:\n",
    "        merge_idxs_symm.append( np.insert( inline_idx_symm, 0, a ) )"
   ]
  },
  {
   "cell_type": "code",
   "execution_count": 30,
   "metadata": {},
   "outputs": [
    {
     "data": {
      "text/plain": [
       "[array([    4, 25241]),\n",
       " array([    6,  1202,  6824,  9871, 16987, 30809]),\n",
       " array([    7,  1201,  6808,  9872, 16988, 30808]),\n",
       " array([    8,  1199,  6806,  9873, 30807]),\n",
       " array([    9,  7345,  9906, 30020]),\n",
       " array([   10,  7321,  9907, 30019]),\n",
       " array([   11,  7316,  9908, 30018]),\n",
       " array([   12,  3199,  5546,  9133, 31289]),\n",
       " array([   13,  3198,  5545,  9134, 31288]),\n",
       " array([   14,  3197,  5544,  9135, 17047, 31287])]"
      ]
     },
     "execution_count": 30,
     "metadata": {},
     "output_type": "execute_result"
    }
   ],
   "source": [
    "merge_idxs_symm[:10]"
   ]
  },
  {
   "cell_type": "code",
   "execution_count": 31,
   "metadata": {},
   "outputs": [],
   "source": [
    "ovr_mat_int = np.zeros( ovr_mat.shape, dtype=np.uint16 )\n",
    "for n in merge_idxs_symm:\n",
    "    line = n[0]\n",
    "    idx_to_add_at = n[1:]\n",
    "    np.add.at( ovr_mat_int[line], idx_to_add_at, 1 )"
   ]
  },
  {
   "cell_type": "code",
   "execution_count": 32,
   "metadata": {},
   "outputs": [
    {
     "data": {
      "text/plain": [
       "array([[0, 0, 0, 0, 0, 0, 0, 0, 0, 0],\n",
       "       [0, 0, 0, 0, 0, 0, 0, 0, 0, 0],\n",
       "       [0, 0, 0, 0, 0, 0, 0, 0, 0, 0],\n",
       "       [0, 0, 0, 0, 1, 1, 0, 0, 0, 0],\n",
       "       [0, 0, 0, 1, 0, 1, 0, 0, 0, 0],\n",
       "       [0, 0, 0, 1, 1, 0, 0, 0, 0, 0],\n",
       "       [0, 0, 0, 0, 0, 0, 0, 0, 0, 0],\n",
       "       [0, 0, 0, 0, 0, 0, 0, 0, 0, 0],\n",
       "       [0, 0, 0, 0, 0, 0, 0, 0, 0, 0],\n",
       "       [0, 0, 0, 0, 0, 0, 0, 0, 0, 0]], dtype=uint16)"
      ]
     },
     "execution_count": 32,
     "metadata": {},
     "output_type": "execute_result"
    }
   ],
   "source": [
    "ovr_mat_int[20:30,20:30]"
   ]
  },
  {
   "cell_type": "markdown",
   "metadata": {},
   "source": [
    "#### Build graph then find communities? Remove community linking edges based on graph prop?"
   ]
  },
  {
   "cell_type": "code",
   "execution_count": 33,
   "metadata": {},
   "outputs": [],
   "source": [
    "ovr_mat_to_graph = (ovr_mat_int > 0)*1"
   ]
  },
  {
   "cell_type": "code",
   "execution_count": 34,
   "metadata": {
    "scrolled": false
   },
   "outputs": [
    {
     "data": {
      "text/plain": [
       "array([[0, 0, 0, ..., 0, 0, 0],\n",
       "       [0, 0, 0, ..., 0, 0, 0],\n",
       "       [0, 0, 0, ..., 0, 0, 0],\n",
       "       ...,\n",
       "       [0, 0, 0, ..., 0, 0, 0],\n",
       "       [0, 0, 0, ..., 0, 0, 0],\n",
       "       [0, 0, 0, ..., 0, 0, 0]])"
      ]
     },
     "execution_count": 34,
     "metadata": {},
     "output_type": "execute_result"
    }
   ],
   "source": [
    "ovr_mat_to_graph"
   ]
  },
  {
   "cell_type": "markdown",
   "metadata": {},
   "source": [
    "##### Make adjacency matrix symmetric (linking to cells to each other is a symmetric relation)"
   ]
  },
  {
   "cell_type": "raw",
   "metadata": {},
   "source": [
    "ovr_mat_to_graph = (ovr_mat_int > 0)*1\n",
    "ovr_mat_to_graph = 0.5*(ovr_mat_to_graph + ovr_mat_to_graph.T)"
   ]
  },
  {
   "cell_type": "markdown",
   "metadata": {},
   "source": [
    "##### Graph creation"
   ]
  },
  {
   "cell_type": "code",
   "execution_count": 35,
   "metadata": {
    "scrolled": false
   },
   "outputs": [
    {
     "data": {
      "text/plain": [
       "(43376, 88371)"
      ]
     },
     "execution_count": 35,
     "metadata": {},
     "output_type": "execute_result"
    }
   ],
   "source": [
    "G = nx.from_numpy_matrix(ovr_mat_to_graph)\n",
    "len( G.nodes() ), len( G.edges() )"
   ]
  },
  {
   "cell_type": "raw",
   "metadata": {},
   "source": [
    "(43376, 51976)"
   ]
  },
  {
   "cell_type": "markdown",
   "metadata": {},
   "source": [
    "##### Check for 5 biggest connected components"
   ]
  },
  {
   "cell_type": "code",
   "execution_count": 36,
   "metadata": {},
   "outputs": [
    {
     "data": {
      "text/plain": [
       "[454, 388, 141, 138, 103]"
      ]
     },
     "execution_count": 36,
     "metadata": {},
     "output_type": "execute_result"
    }
   ],
   "source": [
    "[ len(c) for c in sorted(nx.connected_components(G), key=len, reverse=True)][:5]"
   ]
  },
  {
   "cell_type": "code",
   "execution_count": 37,
   "metadata": {
    "scrolled": true
   },
   "outputs": [
    {
     "data": {
      "text/plain": [
       "14585"
      ]
     },
     "execution_count": 37,
     "metadata": {},
     "output_type": "execute_result"
    }
   ],
   "source": [
    "len([ len(c) for c in sorted(nx.connected_components(G), key=len, reverse=True)])"
   ]
  },
  {
   "cell_type": "code",
   "execution_count": 38,
   "metadata": {
    "scrolled": true
   },
   "outputs": [
    {
     "data": {
      "text/plain": [
       "([236349, 650877], [236349, 650877], [236349, 650877])"
      ]
     },
     "execution_count": 38,
     "metadata": {},
     "output_type": "execute_result"
    }
   ],
   "source": [
    "int_to_pos[23], int_to_pos[24], int_to_pos[25]"
   ]
  },
  {
   "cell_type": "markdown",
   "metadata": {},
   "source": [
    "##### Check some indexing"
   ]
  },
  {
   "cell_type": "code",
   "execution_count": 39,
   "metadata": {
    "scrolled": true
   },
   "outputs": [
    {
     "data": {
      "text/plain": [
       "([236349, 650877], [236349, 650877], [236349, 650877], [178437, 481967])"
      ]
     },
     "execution_count": 39,
     "metadata": {},
     "output_type": "execute_result"
    }
   ],
   "source": [
    "int_to_pos[23], int_to_pos[24], int_to_pos[25], int_to_pos[32791]"
   ]
  },
  {
   "cell_type": "markdown",
   "metadata": {},
   "source": [
    "#### Biggest connected comp"
   ]
  },
  {
   "cell_type": "code",
   "execution_count": 40,
   "metadata": {
    "scrolled": true
   },
   "outputs": [
    {
     "data": {
      "text/plain": [
       "{39,\n",
       " 236,\n",
       " 237,\n",
       " 238,\n",
       " 239,\n",
       " 448,\n",
       " 489,\n",
       " 649,\n",
       " 702,\n",
       " 704,\n",
       " 706,\n",
       " 780,\n",
       " 782,\n",
       " 957,\n",
       " 1134,\n",
       " 1139,\n",
       " 1140,\n",
       " 1142,\n",
       " 1250,\n",
       " 1252,\n",
       " 1380,\n",
       " 1382,\n",
       " 1383,\n",
       " 1474,\n",
       " 1476,\n",
       " 1486,\n",
       " 1488,\n",
       " 1489,\n",
       " 1680,\n",
       " 1683,\n",
       " 1684,\n",
       " 1763,\n",
       " 1765,\n",
       " 1778,\n",
       " 1780,\n",
       " 1852,\n",
       " 1853,\n",
       " 1855,\n",
       " 1869,\n",
       " 1909,\n",
       " 1910,\n",
       " 1963,\n",
       " 2024,\n",
       " 2025,\n",
       " 2233,\n",
       " 2410,\n",
       " 2412,\n",
       " 2473,\n",
       " 2477,\n",
       " 2478,\n",
       " 2560,\n",
       " 2618,\n",
       " 2619,\n",
       " 2637,\n",
       " 2824,\n",
       " 2825,\n",
       " 2879,\n",
       " 2886,\n",
       " 2938,\n",
       " 2971,\n",
       " 2982,\n",
       " 3125,\n",
       " 4143,\n",
       " 4221,\n",
       " 4222,\n",
       " 4495,\n",
       " 4496,\n",
       " 4497,\n",
       " 4555,\n",
       " 4556,\n",
       " 4557,\n",
       " 4846,\n",
       " 4890,\n",
       " 4918,\n",
       " 4987,\n",
       " 4989,\n",
       " 5114,\n",
       " 5506,\n",
       " 5539,\n",
       " 5540,\n",
       " 5560,\n",
       " 5569,\n",
       " 5570,\n",
       " 5619,\n",
       " 5702,\n",
       " 5704,\n",
       " 5811,\n",
       " 5812,\n",
       " 5933,\n",
       " 5934,\n",
       " 5935,\n",
       " 5936,\n",
       " 5937,\n",
       " 5938,\n",
       " 5971,\n",
       " 6012,\n",
       " 6013,\n",
       " 6017,\n",
       " 6021,\n",
       " 6022,\n",
       " 6023,\n",
       " 6051,\n",
       " 6052,\n",
       " 6053,\n",
       " 6078,\n",
       " 6079,\n",
       " 6080,\n",
       " 6243,\n",
       " 6271,\n",
       " 6272,\n",
       " 6273,\n",
       " 6294,\n",
       " 6321,\n",
       " 6322,\n",
       " 6323,\n",
       " 6325,\n",
       " 6386,\n",
       " 6458,\n",
       " 6459,\n",
       " 6460,\n",
       " 6793,\n",
       " 6795,\n",
       " 6810,\n",
       " 7662,\n",
       " 7664,\n",
       " 7893,\n",
       " 7950,\n",
       " 8636,\n",
       " 8638,\n",
       " 8649,\n",
       " 8654,\n",
       " 8946,\n",
       " 8947,\n",
       " 8948,\n",
       " 8949,\n",
       " 9054,\n",
       " 9055,\n",
       " 9056,\n",
       " 9057,\n",
       " 9142,\n",
       " 10079,\n",
       " 11141,\n",
       " 11356,\n",
       " 11405,\n",
       " 11406,\n",
       " 11407,\n",
       " 11769,\n",
       " 11770,\n",
       " 11771,\n",
       " 11772,\n",
       " 11794,\n",
       " 11881,\n",
       " 11882,\n",
       " 11883,\n",
       " 12341,\n",
       " 12342,\n",
       " 12343,\n",
       " 12479,\n",
       " 12480,\n",
       " 12481,\n",
       " 12482,\n",
       " 12483,\n",
       " 12491,\n",
       " 12492,\n",
       " 12493,\n",
       " 12500,\n",
       " 12501,\n",
       " 12502,\n",
       " 12503,\n",
       " 12513,\n",
       " 12514,\n",
       " 12515,\n",
       " 12716,\n",
       " 12718,\n",
       " 12778,\n",
       " 12779,\n",
       " 12780,\n",
       " 12802,\n",
       " 12919,\n",
       " 12920,\n",
       " 12921,\n",
       " 13086,\n",
       " 13087,\n",
       " 13106,\n",
       " 13147,\n",
       " 13154,\n",
       " 13155,\n",
       " 13238,\n",
       " 13269,\n",
       " 13305,\n",
       " 13306,\n",
       " 13307,\n",
       " 13349,\n",
       " 13350,\n",
       " 13351,\n",
       " 13458,\n",
       " 13469,\n",
       " 13470,\n",
       " 13471,\n",
       " 13529,\n",
       " 13530,\n",
       " 13531,\n",
       " 13532,\n",
       " 13534,\n",
       " 13539,\n",
       " 13600,\n",
       " 13601,\n",
       " 14370,\n",
       " 14990,\n",
       " 14991,\n",
       " 16419,\n",
       " 16694,\n",
       " 16715,\n",
       " 16742,\n",
       " 16743,\n",
       " 16794,\n",
       " 16827,\n",
       " 16838,\n",
       " 16839,\n",
       " 16844,\n",
       " 16847,\n",
       " 16954,\n",
       " 16969,\n",
       " 17167,\n",
       " 17238,\n",
       " 17540,\n",
       " 17589,\n",
       " 17595,\n",
       " 17620,\n",
       " 17621,\n",
       " 17622,\n",
       " 17675,\n",
       " 17726,\n",
       " 17747,\n",
       " 17948,\n",
       " 17966,\n",
       " 17967,\n",
       " 18096,\n",
       " 18097,\n",
       " 18133,\n",
       " 18134,\n",
       " 18135,\n",
       " 18136,\n",
       " 18137,\n",
       " 18138,\n",
       " 18541,\n",
       " 20126,\n",
       " 20127,\n",
       " 20142,\n",
       " 20149,\n",
       " 20150,\n",
       " 20151,\n",
       " 20164,\n",
       " 20166,\n",
       " 20167,\n",
       " 20168,\n",
       " 20172,\n",
       " 20319,\n",
       " 21562,\n",
       " 21566,\n",
       " 21567,\n",
       " 21568,\n",
       " 21572,\n",
       " 21573,\n",
       " 21574,\n",
       " 21602,\n",
       " 21634,\n",
       " 21643,\n",
       " 21644,\n",
       " 21645,\n",
       " 21649,\n",
       " 21798,\n",
       " 21799,\n",
       " 21800,\n",
       " 22548,\n",
       " 22549,\n",
       " 22550,\n",
       " 22575,\n",
       " 22576,\n",
       " 22577,\n",
       " 23340,\n",
       " 23341,\n",
       " 25956,\n",
       " 25958,\n",
       " 25971,\n",
       " 25972,\n",
       " 27061,\n",
       " 27062,\n",
       " 28825,\n",
       " 29419,\n",
       " 29420,\n",
       " 29425,\n",
       " 29431,\n",
       " 29435,\n",
       " 29437,\n",
       " 29445,\n",
       " 29449,\n",
       " 29451,\n",
       " 29456,\n",
       " 29457,\n",
       " 29466,\n",
       " 29467,\n",
       " 29470,\n",
       " 29473,\n",
       " 29477,\n",
       " 29485,\n",
       " 29488,\n",
       " 29493,\n",
       " 29498,\n",
       " 29504,\n",
       " 29519,\n",
       " 29525,\n",
       " 29597,\n",
       " 29604,\n",
       " 29703,\n",
       " 29704,\n",
       " 29705,\n",
       " 29706,\n",
       " 29710,\n",
       " 29775,\n",
       " 29785,\n",
       " 29942,\n",
       " 29959,\n",
       " 29960,\n",
       " 29961,\n",
       " 29962,\n",
       " 30006,\n",
       " 30032,\n",
       " 30050,\n",
       " 30051,\n",
       " 30052,\n",
       " 30200,\n",
       " 30214,\n",
       " 30216,\n",
       " 30458,\n",
       " 30470,\n",
       " 30471,\n",
       " 30686,\n",
       " 30687,\n",
       " 30688,\n",
       " 30690,\n",
       " 30691,\n",
       " 30748,\n",
       " 30825,\n",
       " 30826,\n",
       " 30827,\n",
       " 30828,\n",
       " 30936,\n",
       " 30937,\n",
       " 30938,\n",
       " 30939,\n",
       " 31332,\n",
       " 31333,\n",
       " 31334,\n",
       " 31335,\n",
       " 32778,\n",
       " 32779,\n",
       " 32780,\n",
       " 32781,\n",
       " 32782,\n",
       " 32783,\n",
       " 32784,\n",
       " 32785,\n",
       " 32786,\n",
       " 32787,\n",
       " 32788,\n",
       " 32789,\n",
       " 33559,\n",
       " 33560,\n",
       " 38016,\n",
       " 38017,\n",
       " 38023,\n",
       " 38119,\n",
       " 38120,\n",
       " 38121,\n",
       " 38122,\n",
       " 38123,\n",
       " 38124,\n",
       " 38125,\n",
       " 38126,\n",
       " 38217,\n",
       " 38426,\n",
       " 38427,\n",
       " 38428,\n",
       " 38429,\n",
       " 38430,\n",
       " 38504,\n",
       " 38528,\n",
       " 38530,\n",
       " 38531,\n",
       " 38594,\n",
       " 38693,\n",
       " 38694,\n",
       " 38699,\n",
       " 38700,\n",
       " 38957,\n",
       " 38959,\n",
       " 38960,\n",
       " 38961,\n",
       " 38964,\n",
       " 39002,\n",
       " 39003,\n",
       " 39010,\n",
       " 39074,\n",
       " 39084,\n",
       " 39529,\n",
       " 39584,\n",
       " 39873,\n",
       " 39874,\n",
       " 39875,\n",
       " 39876,\n",
       " 39879,\n",
       " 39880,\n",
       " 39881,\n",
       " 39882,\n",
       " 40385,\n",
       " 40388,\n",
       " 40868,\n",
       " 40873,\n",
       " 40874,\n",
       " 40878,\n",
       " 40879,\n",
       " 41069,\n",
       " 41070,\n",
       " 41071,\n",
       " 41139,\n",
       " 41140,\n",
       " 41141,\n",
       " 41541,\n",
       " 41542,\n",
       " 41910,\n",
       " 41911,\n",
       " 41912,\n",
       " 41913,\n",
       " 41914,\n",
       " 41915,\n",
       " 41916,\n",
       " 41917,\n",
       " 42955,\n",
       " 42957,\n",
       " 42961,\n",
       " 42962,\n",
       " 42963,\n",
       " 42965,\n",
       " 42982,\n",
       " 42983,\n",
       " 42990,\n",
       " 42991,\n",
       " 42992,\n",
       " 42993,\n",
       " 42997,\n",
       " 42998,\n",
       " 43263,\n",
       " 43264}"
      ]
     },
     "execution_count": 40,
     "metadata": {},
     "output_type": "execute_result"
    }
   ],
   "source": [
    "[ c for c in sorted(nx.connected_components(G), key=len, reverse=True)][0]"
   ]
  },
  {
   "cell_type": "markdown",
   "metadata": {},
   "source": [
    "### Prepare output to save"
   ]
  },
  {
   "cell_type": "code",
   "execution_count": 41,
   "metadata": {},
   "outputs": [
    {
     "data": {
      "text/plain": [
       "14585"
      ]
     },
     "execution_count": 41,
     "metadata": {},
     "output_type": "execute_result"
    }
   ],
   "source": [
    "group_idxs = [ list(c) for c in sorted(nx.connected_components(G),  key=len, reverse=True) ]\n",
    "len(group_idxs)"
   ]
  },
  {
   "cell_type": "code",
   "execution_count": 42,
   "metadata": {},
   "outputs": [],
   "source": [
    "groups_save = np.zeros( len(int_to_tower), dtype=np.uint16 )\n",
    "for n in range( len(group_idxs) ):\n",
    "    idx_to_add_at = group_idxs[n]\n",
    "    np.add.at( groups_save, idx_to_add_at, n )"
   ]
  },
  {
   "cell_type": "code",
   "execution_count": 60,
   "metadata": {},
   "outputs": [],
   "source": [
    "np.save( destination, np.vstack( (tower_loc_df.tower_id.values, groups_save) ).T )"
   ]
  },
  {
   "cell_type": "code",
   "execution_count": 43,
   "metadata": {
    "scrolled": true
   },
   "outputs": [
    {
     "data": {
      "text/plain": [
       "array([9058, 9059, 9060, ..., 4786, 3399, 4787], dtype=uint16)"
      ]
     },
     "execution_count": 43,
     "metadata": {},
     "output_type": "execute_result"
    }
   ],
   "source": [
    "groups_save"
   ]
  },
  {
   "cell_type": "code",
   "execution_count": 52,
   "metadata": {},
   "outputs": [
    {
     "data": {
      "text/plain": [
       "array([    0,     1,     2, ..., 43373, 43374, 43375])"
      ]
     },
     "execution_count": 52,
     "metadata": {},
     "output_type": "execute_result"
    }
   ],
   "source": [
    "tower_loc_df.tower_id.values"
   ]
  },
  {
   "cell_type": "code",
   "execution_count": 49,
   "metadata": {},
   "outputs": [
    {
     "data": {
      "text/plain": [
       "(0, 0, 0)"
      ]
     },
     "execution_count": 49,
     "metadata": {},
     "output_type": "execute_result"
    }
   ],
   "source": [
    "groups_save[39], groups_save[236], groups_save[237]"
   ]
  },
  {
   "cell_type": "code",
   "execution_count": 67,
   "metadata": {},
   "outputs": [
    {
     "data": {
      "text/plain": [
       "(array([250859, 243343, 247254, ..., 288436, 286467, 287483]),\n",
       " array([557285, 558377, 549716, ..., 826650, 826669, 824713]))"
      ]
     },
     "execution_count": 67,
     "metadata": {},
     "output_type": "execute_result"
    }
   ],
   "source": [
    "tower_loc_df.mean_x.values, tower_loc_df.mean_y.values"
   ]
  },
  {
   "cell_type": "code",
   "execution_count": 127,
   "metadata": {},
   "outputs": [
    {
     "data": {
      "text/plain": [
       "array([[ 71892,      0, 250859, 557285,   9058],\n",
       "       [ 72307,      1, 243343, 558377,   9059],\n",
       "       [ 72922,      2, 247254, 549716,   9060],\n",
       "       [ 73325,      3, 248646, 551068,   9061],\n",
       "       [140903,      4, 273540, 796042,   5295]])"
      ]
     },
     "execution_count": 127,
     "metadata": {},
     "output_type": "execute_result"
    }
   ],
   "source": [
    "cell_groups = np.vstack( (tower_loc_df.original_id.values,\n",
    "                          tower_loc_df.tower_id.values,\n",
    "                          tower_loc_df.mean_x.values, \n",
    "                          tower_loc_df.mean_y.values, \n",
    "                          groups_save) ).T\n",
    "cell_groups[:5]"
   ]
  },
  {
   "cell_type": "code",
   "execution_count": 128,
   "metadata": {},
   "outputs": [
    {
     "data": {
      "text/plain": [
       "array([[   0,  454],\n",
       "       [ 454,  842],\n",
       "       [ 842,  983],\n",
       "       [ 983, 1121],\n",
       "       [1121, 1224]])"
      ]
     },
     "execution_count": 128,
     "metadata": {},
     "output_type": "execute_result"
    }
   ],
   "source": [
    "sort_idx = np.argsort( cell_groups[:,-1] )\n",
    "cell_groups = cell_groups[sort_idx]\n",
    "\n",
    "diff_idx = np.where( np.diff( cell_groups[:,-1] ) )[0]+1\n",
    "# insert first element (zero) ## otherwise left out!\n",
    "diff_idx = np.insert( diff_idx, 0, 0, axis=0 )\n",
    "# insert last element (size of array) ## otherwise left out!\n",
    "diff_idx = np.append( diff_idx, cell_groups.shape[0] )\n",
    "\n",
    "cell_groups_indexing = np.vstack( ( diff_idx[:-1], diff_idx[1:] ) ).T\n",
    "cell_groups_indexing[:5]"
   ]
  },
  {
   "cell_type": "code",
   "execution_count": 129,
   "metadata": {},
   "outputs": [
    {
     "data": {
      "text/plain": [
       "array([[ 42751908,     11770,    239320,    650140,         0],\n",
       "       [ 62654186,     12921,    239778,    650496,         0],\n",
       "       [  1915243,      5935,    238508,    651131,         0],\n",
       "       ...,\n",
       "       [530179853,     43231,    138098,    546224,     14582],\n",
       "       [530180036,     43232,    136503,    541487,     14583],\n",
       "       [530180236,     43233,    141515,    542085,     14584]])"
      ]
     },
     "execution_count": 129,
     "metadata": {},
     "output_type": "execute_result"
    }
   ],
   "source": [
    "cell_groups"
   ]
  },
  {
   "cell_type": "code",
   "execution_count": 130,
   "metadata": {},
   "outputs": [],
   "source": [
    "cell_groups_coords = np.zeros( (cell_groups.shape[0], 2), dtype=np.uint32 )\n",
    "for l in cell_groups_indexing:\n",
    "    current_coords = np.round( np.mean( cell_groups[ l[0]:l[1], 2:4 ], axis=0 ), 0 ).astype(np.uint32)\n",
    "    cell_groups_coords[ l[0]:l[1] ] = current_coords"
   ]
  },
  {
   "cell_type": "code",
   "execution_count": 131,
   "metadata": {},
   "outputs": [
    {
     "data": {
      "text/plain": [
       "array([[179453, 503430],\n",
       "       [123133, 689076],\n",
       "       [228026, 662964],\n",
       "       ...,\n",
       "       [264917, 544858],\n",
       "       [263670, 546490],\n",
       "       [255032, 544168]], dtype=uint32)"
      ]
     },
     "execution_count": 131,
     "metadata": {},
     "output_type": "execute_result"
    }
   ],
   "source": [
    "cell_groups_coords[sort_idx]"
   ]
  },
  {
   "cell_type": "code",
   "execution_count": 132,
   "metadata": {},
   "outputs": [],
   "source": [
    "cell_groups_save = np.concatenate( (cell_groups[:,[0, 4]], cell_groups_coords), axis=1 )\n",
    "sort_idx = np.argsort( cell_groups_save[:,0] )\n",
    "cell_groups_save = cell_groups_save[ sort_idx ]"
   ]
  },
  {
   "cell_type": "code",
   "execution_count": 137,
   "metadata": {},
   "outputs": [],
   "source": [
    "pd.DataFrame( cell_groups_save, \n",
    "              columns=['original_id', 'tower_id', \n",
    "                       'mean_x', 'mean_y'] ).to_csv( destination+'fixed_merged_tower_locations.csv', \n",
    "                                                       index=False )"
   ]
  },
  {
   "cell_type": "code",
   "execution_count": null,
   "metadata": {},
   "outputs": [],
   "source": []
  },
  {
   "cell_type": "code",
   "execution_count": null,
   "metadata": {},
   "outputs": [],
   "source": []
  },
  {
   "cell_type": "markdown",
   "metadata": {},
   "source": [
    "### Some test outputs"
   ]
  },
  {
   "cell_type": "code",
   "execution_count": null,
   "metadata": {},
   "outputs": [],
   "source": [
    "[ [ k, int_to_pos[k] ] for k in list( [ c for c in sorted(nx.connected_components(G), key=len, reverse=True)][0] ) ]"
   ]
  },
  {
   "cell_type": "code",
   "execution_count": null,
   "metadata": {
    "scrolled": true
   },
   "outputs": [],
   "source": [
    "[ [ k, int_to_pos[k] ] for k in list( [ c for c in sorted(nx.connected_components(G), key=len, reverse=True)][1] ) ]"
   ]
  },
  {
   "cell_type": "markdown",
   "metadata": {},
   "source": [
    "#### Load polygon file for this day to check back results"
   ]
  },
  {
   "cell_type": "code",
   "execution_count": null,
   "metadata": {},
   "outputs": [],
   "source": [
    "len([ len(c) for c in sorted(nx.connected_components(G), key=len, reverse=True)])"
   ]
  },
  {
   "cell_type": "code",
   "execution_count": null,
   "metadata": {},
   "outputs": [],
   "source": [
    "poligons_df = pd.read_csv( '/media/Data_storage/Mobilcell/Data/MT_MTA_NETWORK_POLIGONS_20181201.csv.gz', delimiter=';')\n",
    "poligons_df.head()"
   ]
  },
  {
   "cell_type": "code",
   "execution_count": null,
   "metadata": {},
   "outputs": [],
   "source": [
    "int_to_tower[21026], int_to_tower[42146], int_to_tower[42147], int_to_tower[42148], int_to_tower[21024]"
   ]
  },
  {
   "cell_type": "code",
   "execution_count": null,
   "metadata": {},
   "outputs": [],
   "source": [
    "ovr_mat_int[42147, 21026], ovr_mat_int[42146, 21026], ovr_mat_int[42146, 42147]"
   ]
  },
  {
   "cell_type": "code",
   "execution_count": null,
   "metadata": {
    "scrolled": true
   },
   "outputs": [],
   "source": [
    "poligons_df[ (poligons_df.network_identifier.values == 144500198) ]"
   ]
  },
  {
   "cell_type": "code",
   "execution_count": null,
   "metadata": {},
   "outputs": [],
   "source": [
    "poligons_df[ (poligons_df.network_identifier.values == 393353115) ]"
   ]
  },
  {
   "cell_type": "code",
   "execution_count": null,
   "metadata": {},
   "outputs": [],
   "source": [
    "poligons_df[ (poligons_df.network_identifier.values == 393353177) ]"
   ]
  },
  {
   "cell_type": "code",
   "execution_count": null,
   "metadata": {
    "scrolled": true
   },
   "outputs": [],
   "source": [
    "poligons_df[ (poligons_df.network_identifier.values == 393353231) ]"
   ]
  },
  {
   "cell_type": "code",
   "execution_count": null,
   "metadata": {},
   "outputs": [],
   "source": [
    "poligons_df[ (poligons_df.network_identifier.values == 144500080) ]"
   ]
  },
  {
   "cell_type": "code",
   "execution_count": null,
   "metadata": {},
   "outputs": [],
   "source": [
    "ovr_mat_int[ 26226, 26227 ], int_to_tower[26226], int_to_tower[26227], int_to_tower[32146]"
   ]
  },
  {
   "cell_type": "code",
   "execution_count": null,
   "metadata": {},
   "outputs": [],
   "source": [
    "poligons_df[ (poligons_df.network_identifier.values == 196621467) ]"
   ]
  },
  {
   "cell_type": "code",
   "execution_count": null,
   "metadata": {},
   "outputs": [],
   "source": [
    "poligons_df[ (poligons_df.network_identifier.values == 196621544) ]"
   ]
  },
  {
   "cell_type": "code",
   "execution_count": null,
   "metadata": {},
   "outputs": [],
   "source": [
    "poligons_df[ (poligons_df.network_identifier.values == 252707087) ]"
   ]
  },
  {
   "cell_type": "code",
   "execution_count": null,
   "metadata": {},
   "outputs": [],
   "source": [
    "int_to_pos[0], int_to_tower[0]"
   ]
  },
  {
   "cell_type": "code",
   "execution_count": null,
   "metadata": {},
   "outputs": [],
   "source": [
    "poligons_df[ (poligons_df.network_identifier.values == 71892) ]"
   ]
  },
  {
   "cell_type": "code",
   "execution_count": null,
   "metadata": {},
   "outputs": [],
   "source": [
    "from matplotlib.patches import Rectangle"
   ]
  },
  {
   "cell_type": "code",
   "execution_count": null,
   "metadata": {},
   "outputs": [],
   "source": [
    "X = poligons_df[ (poligons_df.network_identifier.values == 144500198) ].eovx.values\n",
    "Y = poligons_df[ (poligons_df.network_identifier.values == 144500198) ].eovy.values\n",
    "print( X.shape, Y.shape )\n",
    "\n",
    "fig = plt.figure()\n",
    "ax = fig.add_subplot(111)\n",
    "ax.scatter(X, Y, color = 'red', s=10)\n",
    "\n",
    "# Add rectangles of size dx and dy\n",
    "width = 127\n",
    "height = 127\n",
    "a_zipped = zip(X, Y)\n",
    "for a_x, a_y in a_zipped:\n",
    "    ax.add_patch(Rectangle(xy=(a_x-width/2, a_y-height/2) ,width=width, height=height, linewidth=1, color='red', fill=False))\n",
    "ax.axis('equal')\n",
    "\n",
    "X = poligons_df[ (poligons_df.network_identifier.values == 393353115) ].eovx.values\n",
    "Y = poligons_df[ (poligons_df.network_identifier.values == 393353115) ].eovy.values\n",
    "print( X.shape, Y.shape )\n",
    "\n",
    "ax.scatter(X, Y, color = 'red', s=10)\n",
    "\n",
    "# Add rectangles of size dx and dy\n",
    "width = 127\n",
    "height = 127\n",
    "a_zipped = zip(X, Y)\n",
    "for a_x, a_y in a_zipped:\n",
    "    ax.add_patch(Rectangle(xy=(a_x-width/2, a_y-height/2) ,width=width, height=height, linewidth=1, color='red', fill=False))\n",
    "ax.axis('equal')"
   ]
  },
  {
   "cell_type": "code",
   "execution_count": null,
   "metadata": {},
   "outputs": [],
   "source": []
  },
  {
   "cell_type": "code",
   "execution_count": null,
   "metadata": {
    "scrolled": true
   },
   "outputs": [],
   "source": [
    "[ [ k ,int_to_pos[k] ] for k in list( [ c for c in sorted(nx.connected_components(G), key=len, reverse=True)][2] ) ]"
   ]
  },
  {
   "cell_type": "code",
   "execution_count": null,
   "metadata": {
    "scrolled": true
   },
   "outputs": [],
   "source": [
    "[ [ k ,int_to_pos[k] ] for k in list( [ c for c in sorted(nx.connected_components(G), key=len, reverse=True)][3] ) ]"
   ]
  },
  {
   "cell_type": "code",
   "execution_count": null,
   "metadata": {},
   "outputs": [],
   "source": []
  },
  {
   "cell_type": "code",
   "execution_count": null,
   "metadata": {},
   "outputs": [],
   "source": []
  },
  {
   "cell_type": "code",
   "execution_count": null,
   "metadata": {},
   "outputs": [],
   "source": []
  }
 ],
 "metadata": {
  "kernelspec": {
   "display_name": "Python 3",
   "language": "python",
   "name": "python3"
  },
  "language_info": {
   "codemirror_mode": {
    "name": "ipython",
    "version": 3
   },
   "file_extension": ".py",
   "mimetype": "text/x-python",
   "name": "python",
   "nbconvert_exporter": "python",
   "pygments_lexer": "ipython3",
   "version": "3.6.9"
  }
 },
 "nbformat": 4,
 "nbformat_minor": 2
}
