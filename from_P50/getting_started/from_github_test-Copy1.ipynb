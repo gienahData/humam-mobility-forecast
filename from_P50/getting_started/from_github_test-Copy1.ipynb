{
 "cells": [
  {
   "cell_type": "code",
   "execution_count": 48,
   "metadata": {},
   "outputs": [],
   "source": [
    "# this script is created by A. Biricz, last modified 03.01.2021.\n",
    "\n",
    "## Arguments:\n",
    "# --source_folder: where processed polygons data located\n",
    "# --target_folder: save folder (same as source by default)\n",
    "\n",
    "# Example for running:\n",
    "# python3 .py --source_folder '/media/Data_storage/Mobilcell/DayPolygonData/' --target_folder '/media/Data_storage/Mobilcell/DayPolygonData/'\n",
    "\n",
    "import numpy as np\n",
    "import pandas as pd\n",
    "from itertools import product\n",
    "import os\n",
    "from tqdm import tqdm"
   ]
  },
  {
   "cell_type": "code",
   "execution_count": 2,
   "metadata": {},
   "outputs": [],
   "source": [
    "source = '/media/Data_storage/Mobilcell/DayPolygonData/'\n",
    "#target = '/media/Data_storage/Mobilcell/DayEventData/"
   ]
  },
  {
   "cell_type": "code",
   "execution_count": 3,
   "metadata": {},
   "outputs": [],
   "source": [
    "# already encoded daily data of polygons\n",
    "files_pol_enc = np.array( sorted( [ i for i in \n",
    "                            os.listdir( source ) if 'encoded' in i ] ) )"
   ]
  },
  {
   "cell_type": "code",
   "execution_count": 4,
   "metadata": {},
   "outputs": [],
   "source": [
    "# all unique ids of polygons for the whole year\n",
    "tower_id_all_global = np.load( source+'unique-tower-id_all.npy' )[:,0] # 0th column contains the ids\n",
    "tower_to_int_all = dict( zip( tower_id_all_global, np.arange( tower_id_all_global.shape[0] ) ) )"
   ]
  },
  {
   "cell_type": "code",
   "execution_count": 9,
   "metadata": {},
   "outputs": [
    {
     "data": {
      "text/plain": [
       "(43384,)"
      ]
     },
     "execution_count": 9,
     "metadata": {},
     "output_type": "execute_result"
    }
   ],
   "source": [
    "tower_id_all_global.shape"
   ]
  },
  {
   "cell_type": "code",
   "execution_count": 10,
   "metadata": {},
   "outputs": [],
   "source": [
    "# This seems to be the global grid of rasters, same for every day!\n",
    "start_x = 48262\n",
    "end_x = 362968\n",
    "start_y = 426468\n",
    "end_y = 934214\n",
    "num_x = int( ( end_x - start_x ) / 127 )\n",
    "num_y = int( ( end_y - start_y ) / 127 )\n",
    "\n",
    "# this raster encoding is universal then\n",
    "raster_x = np.arange(start_x, end_x+127, 127, dtype=np.int32)\n",
    "raster_y = np.arange(start_y, end_y+127, 127, dtype=np.int32)\n",
    "\n",
    "# get coordinate vector\n",
    "raster_coords = np.array( list(product( raster_x, raster_y )) )"
   ]
  },
  {
   "cell_type": "code",
   "execution_count": 35,
   "metadata": {},
   "outputs": [],
   "source": [
    "pol_enc = np.load( source + files_pol_enc[2] )\n",
    "\n",
    "sort_idx = np.argsort( pol_enc[:,0] )\n",
    "pol_enc_tower = pol_enc[ sort_idx ]\n",
    "\n",
    "pol_enc_diff_idx = np.where( np.diff( pol_enc_tower[:,0] ) )[0]+1\n",
    "# insert first element (zero) ## otherwise left out!\n",
    "pol_enc_idx = np.insert(pol_enc_diff_idx, 0, 0, axis=0)\n",
    "# insert last element (size of array) ## otherwise left out!\n",
    "pol_enc_idx = np.append( pol_enc_idx, pol_enc.shape[0] )\n",
    "\n",
    "all_idx_tower = np.vstack( ( pol_enc_idx[:-1], pol_enc_idx[1:] ) ).T"
   ]
  },
  {
   "cell_type": "code",
   "execution_count": 36,
   "metadata": {},
   "outputs": [
    {
     "data": {
      "text/plain": [
       "array([[  71892, 6379446],\n",
       "       [  71892, 6395447],\n",
       "       [  71892, 6395446],\n",
       "       [  71892, 6395445],\n",
       "       [  71892, 6395444],\n",
       "       [  71892, 6395443],\n",
       "       [  71892, 6395442],\n",
       "       [  71892, 6395448],\n",
       "       [  71892, 6395441],\n",
       "       [  71892, 6395439]])"
      ]
     },
     "execution_count": 36,
     "metadata": {},
     "output_type": "execute_result"
    }
   ],
   "source": [
    "pol_enc_tower[:10]"
   ]
  },
  {
   "cell_type": "code",
   "execution_count": 37,
   "metadata": {},
   "outputs": [
    {
     "data": {
      "text/plain": [
       "array([[   0, 3956],\n",
       "       [3956, 6706],\n",
       "       [6706, 8644]])"
      ]
     },
     "execution_count": 37,
     "metadata": {},
     "output_type": "execute_result"
    }
   ],
   "source": [
    "all_idx_tower[:3]"
   ]
  },
  {
   "cell_type": "code",
   "execution_count": 38,
   "metadata": {},
   "outputs": [],
   "source": [
    "tower_id_all = []\n",
    "tower_coords_all = []\n",
    "for j in all_idx_tower:\n",
    "    tower_id_all.append( pol_enc_tower[:,0][ j[0] ] )\n",
    "    tower_coords_all.append( np.mean( raster_coords[ pol_enc_tower[:,1][ j[0]:j[1] ] ], axis=0 ) )\n",
    "tower_id_all = np.array( tower_id_all )\n",
    "tower_coords_all = np.array( tower_coords_all )"
   ]
  },
  {
   "cell_type": "code",
   "execution_count": 39,
   "metadata": {},
   "outputs": [
    {
     "data": {
      "text/plain": [
       "((42785,), (42785, 2))"
      ]
     },
     "execution_count": 39,
     "metadata": {},
     "output_type": "execute_result"
    }
   ],
   "source": [
    "tower_id_all.shape, tower_coords_all.shape"
   ]
  },
  {
   "cell_type": "code",
   "execution_count": 45,
   "metadata": {},
   "outputs": [
    {
     "data": {
      "text/plain": [
       "array([[    71892,         0,    250856,    557281],\n",
       "       [    72307,         1,    243355,    558407],\n",
       "       [    72922,         2,    247247,    549713],\n",
       "       ...,\n",
       "       [553841622,     43381,    288496,    826877],\n",
       "       [553841698,     43382,    286254,    826714],\n",
       "       [553841790,     43383,    287470,    824406]])"
      ]
     },
     "execution_count": 45,
     "metadata": {},
     "output_type": "execute_result"
    }
   ],
   "source": [
    "np.concatenate( (tower_id_all.reshape(-1,1), np.array([ tower_to_int_all[ k ] for k in tower_id_all ]).reshape(-1,1), \n",
    "                     tower_coords_all.astype(int) ), axis=1 )"
   ]
  },
  {
   "cell_type": "code",
   "execution_count": 46,
   "metadata": {},
   "outputs": [
    {
     "data": {
      "text/html": [
       "<div>\n",
       "<style scoped>\n",
       "    .dataframe tbody tr th:only-of-type {\n",
       "        vertical-align: middle;\n",
       "    }\n",
       "\n",
       "    .dataframe tbody tr th {\n",
       "        vertical-align: top;\n",
       "    }\n",
       "\n",
       "    .dataframe thead th {\n",
       "        text-align: right;\n",
       "    }\n",
       "</style>\n",
       "<table border=\"1\" class=\"dataframe\">\n",
       "  <thead>\n",
       "    <tr style=\"text-align: right;\">\n",
       "      <th></th>\n",
       "      <th>original_id</th>\n",
       "      <th>tower_id</th>\n",
       "      <th>mean_x</th>\n",
       "      <th>mean_y</th>\n",
       "      <th>std_x</th>\n",
       "      <th>std_y</th>\n",
       "      <th>perc_10_x</th>\n",
       "      <th>perc_10_y</th>\n",
       "      <th>perc_50_x</th>\n",
       "      <th>perc_50_y</th>\n",
       "      <th>perc_90_x</th>\n",
       "      <th>perc_90_y</th>\n",
       "      <th>perc_99_x</th>\n",
       "      <th>perc_99_y</th>\n",
       "    </tr>\n",
       "  </thead>\n",
       "  <tbody>\n",
       "    <tr>\n",
       "      <td>0</td>\n",
       "      <td>71892</td>\n",
       "      <td>0</td>\n",
       "      <td>48797</td>\n",
       "      <td>429016</td>\n",
       "      <td>2</td>\n",
       "      <td>3</td>\n",
       "      <td>48796</td>\n",
       "      <td>429014</td>\n",
       "      <td>48796</td>\n",
       "      <td>429018</td>\n",
       "      <td>48800</td>\n",
       "      <td>429018</td>\n",
       "      <td>48803</td>\n",
       "      <td>429018</td>\n",
       "    </tr>\n",
       "    <tr>\n",
       "      <td>1</td>\n",
       "      <td>72307</td>\n",
       "      <td>1</td>\n",
       "      <td>48905</td>\n",
       "      <td>431421</td>\n",
       "      <td>0</td>\n",
       "      <td>0</td>\n",
       "      <td>48905</td>\n",
       "      <td>431421</td>\n",
       "      <td>48905</td>\n",
       "      <td>431421</td>\n",
       "      <td>48905</td>\n",
       "      <td>431421</td>\n",
       "      <td>48905</td>\n",
       "      <td>431421</td>\n",
       "    </tr>\n",
       "    <tr>\n",
       "      <td>2</td>\n",
       "      <td>72922</td>\n",
       "      <td>2</td>\n",
       "      <td>48906</td>\n",
       "      <td>432519</td>\n",
       "      <td>1</td>\n",
       "      <td>15</td>\n",
       "      <td>48905</td>\n",
       "      <td>432484</td>\n",
       "      <td>48908</td>\n",
       "      <td>432529</td>\n",
       "      <td>48908</td>\n",
       "      <td>432529</td>\n",
       "      <td>48908</td>\n",
       "      <td>432529</td>\n",
       "    </tr>\n",
       "    <tr>\n",
       "      <td>3</td>\n",
       "      <td>73325</td>\n",
       "      <td>3</td>\n",
       "      <td>49123</td>\n",
       "      <td>432576</td>\n",
       "      <td>0</td>\n",
       "      <td>22</td>\n",
       "      <td>49122</td>\n",
       "      <td>432563</td>\n",
       "      <td>49124</td>\n",
       "      <td>432563</td>\n",
       "      <td>49124</td>\n",
       "      <td>432607</td>\n",
       "      <td>49124</td>\n",
       "      <td>432642</td>\n",
       "    </tr>\n",
       "    <tr>\n",
       "      <td>4</td>\n",
       "      <td>140903</td>\n",
       "      <td>4</td>\n",
       "      <td>49247</td>\n",
       "      <td>432691</td>\n",
       "      <td>4</td>\n",
       "      <td>0</td>\n",
       "      <td>49247</td>\n",
       "      <td>432691</td>\n",
       "      <td>49247</td>\n",
       "      <td>432691</td>\n",
       "      <td>49247</td>\n",
       "      <td>432691</td>\n",
       "      <td>49262</td>\n",
       "      <td>432691</td>\n",
       "    </tr>\n",
       "    <tr>\n",
       "      <td>...</td>\n",
       "      <td>...</td>\n",
       "      <td>...</td>\n",
       "      <td>...</td>\n",
       "      <td>...</td>\n",
       "      <td>...</td>\n",
       "      <td>...</td>\n",
       "      <td>...</td>\n",
       "      <td>...</td>\n",
       "      <td>...</td>\n",
       "      <td>...</td>\n",
       "      <td>...</td>\n",
       "      <td>...</td>\n",
       "      <td>...</td>\n",
       "      <td>...</td>\n",
       "    </tr>\n",
       "    <tr>\n",
       "      <td>43371</td>\n",
       "      <td>553841508</td>\n",
       "      <td>43379</td>\n",
       "      <td>358778</td>\n",
       "      <td>932530</td>\n",
       "      <td>3</td>\n",
       "      <td>43</td>\n",
       "      <td>358777</td>\n",
       "      <td>932496</td>\n",
       "      <td>358778</td>\n",
       "      <td>932519</td>\n",
       "      <td>358786</td>\n",
       "      <td>932642</td>\n",
       "      <td>358786</td>\n",
       "      <td>932649</td>\n",
       "    </tr>\n",
       "    <tr>\n",
       "      <td>43372</td>\n",
       "      <td>553841557</td>\n",
       "      <td>43380</td>\n",
       "      <td>358805</td>\n",
       "      <td>932809</td>\n",
       "      <td>5</td>\n",
       "      <td>92</td>\n",
       "      <td>358803</td>\n",
       "      <td>932653</td>\n",
       "      <td>358803</td>\n",
       "      <td>932889</td>\n",
       "      <td>358815</td>\n",
       "      <td>932889</td>\n",
       "      <td>358819</td>\n",
       "      <td>932889</td>\n",
       "    </tr>\n",
       "    <tr>\n",
       "      <td>43373</td>\n",
       "      <td>553841622</td>\n",
       "      <td>43381</td>\n",
       "      <td>358908</td>\n",
       "      <td>933641</td>\n",
       "      <td>1</td>\n",
       "      <td>346</td>\n",
       "      <td>358908</td>\n",
       "      <td>932889</td>\n",
       "      <td>358908</td>\n",
       "      <td>933779</td>\n",
       "      <td>358910</td>\n",
       "      <td>933915</td>\n",
       "      <td>358915</td>\n",
       "      <td>933915</td>\n",
       "    </tr>\n",
       "    <tr>\n",
       "      <td>43374</td>\n",
       "      <td>553841698</td>\n",
       "      <td>43382</td>\n",
       "      <td>358971</td>\n",
       "      <td>933976</td>\n",
       "      <td>4</td>\n",
       "      <td>73</td>\n",
       "      <td>358969</td>\n",
       "      <td>933915</td>\n",
       "      <td>358969</td>\n",
       "      <td>933915</td>\n",
       "      <td>358977</td>\n",
       "      <td>934064</td>\n",
       "      <td>358985</td>\n",
       "      <td>934064</td>\n",
       "    </tr>\n",
       "    <tr>\n",
       "      <td>43375</td>\n",
       "      <td>553841790</td>\n",
       "      <td>43383</td>\n",
       "      <td>359733</td>\n",
       "      <td>934143</td>\n",
       "      <td>12</td>\n",
       "      <td>50</td>\n",
       "      <td>359714</td>\n",
       "      <td>934064</td>\n",
       "      <td>359741</td>\n",
       "      <td>934176</td>\n",
       "      <td>359741</td>\n",
       "      <td>934176</td>\n",
       "      <td>359741</td>\n",
       "      <td>934176</td>\n",
       "    </tr>\n",
       "  </tbody>\n",
       "</table>\n",
       "<p>43376 rows × 14 columns</p>\n",
       "</div>"
      ],
      "text/plain": [
       "       original_id  tower_id  mean_x  mean_y  std_x  std_y  perc_10_x  \\\n",
       "0            71892         0   48797  429016      2      3      48796   \n",
       "1            72307         1   48905  431421      0      0      48905   \n",
       "2            72922         2   48906  432519      1     15      48905   \n",
       "3            73325         3   49123  432576      0     22      49122   \n",
       "4           140903         4   49247  432691      4      0      49247   \n",
       "...            ...       ...     ...     ...    ...    ...        ...   \n",
       "43371    553841508     43379  358778  932530      3     43     358777   \n",
       "43372    553841557     43380  358805  932809      5     92     358803   \n",
       "43373    553841622     43381  358908  933641      1    346     358908   \n",
       "43374    553841698     43382  358971  933976      4     73     358969   \n",
       "43375    553841790     43383  359733  934143     12     50     359714   \n",
       "\n",
       "       perc_10_y  perc_50_x  perc_50_y  perc_90_x  perc_90_y  perc_99_x  \\\n",
       "0         429014      48796     429018      48800     429018      48803   \n",
       "1         431421      48905     431421      48905     431421      48905   \n",
       "2         432484      48908     432529      48908     432529      48908   \n",
       "3         432563      49124     432563      49124     432607      49124   \n",
       "4         432691      49247     432691      49247     432691      49262   \n",
       "...          ...        ...        ...        ...        ...        ...   \n",
       "43371     932496     358778     932519     358786     932642     358786   \n",
       "43372     932653     358803     932889     358815     932889     358819   \n",
       "43373     932889     358908     933779     358910     933915     358915   \n",
       "43374     933915     358969     933915     358977     934064     358985   \n",
       "43375     934064     359741     934176     359741     934176     359741   \n",
       "\n",
       "       perc_99_y  \n",
       "0         429018  \n",
       "1         431421  \n",
       "2         432529  \n",
       "3         432642  \n",
       "4         432691  \n",
       "...          ...  \n",
       "43371     932649  \n",
       "43372     932889  \n",
       "43373     933915  \n",
       "43374     934064  \n",
       "43375     934176  \n",
       "\n",
       "[43376 rows x 14 columns]"
      ]
     },
     "execution_count": 46,
     "metadata": {},
     "output_type": "execute_result"
    }
   ],
   "source": [
    "pd.read_csv( source+'fixed_tower_locations.csv' )"
   ]
  },
  {
   "cell_type": "code",
   "execution_count": 60,
   "metadata": {},
   "outputs": [
    {
     "name": "stderr",
     "output_type": "stream",
     "text": [
      "100%|██████████| 5/5 [00:12<00:00,  2.53s/it]\n"
     ]
    }
   ],
   "source": [
    "\n",
    "\n",
    "# function that does the calculations for all days\n",
    "def calc_tower_coords_day( source, files_pol_enc ):\n",
    "    pol_enc = np.load( source + files_pol_enc )\n",
    "\n",
    "    sort_idx = np.argsort( pol_enc[:,0] )\n",
    "    pol_enc_tower = pol_enc[ sort_idx ]\n",
    "\n",
    "    pol_enc_diff_idx = np.where( np.diff( pol_enc_tower[:,0] ) )[0]+1\n",
    "    # insert first element (zero) ## otherwise left out!\n",
    "    pol_enc_idx = np.insert(pol_enc_diff_idx, 0, 0, axis=0)\n",
    "    # insert last element (size of array) ## otherwise left out!\n",
    "    pol_enc_idx = np.append( pol_enc_idx, pol_enc.shape[0] )\n",
    "\n",
    "    all_idx_tower = np.vstack( ( pol_enc_idx[:-1], pol_enc_idx[1:] ) ).T\n",
    "\n",
    "    tower_id_all = []\n",
    "    tower_coords_all = []\n",
    "    for j in all_idx_tower:\n",
    "        tower_id_all.append( pol_enc_tower[:,0][ j[0] ] )\n",
    "        tower_coords_all.append( np.mean( raster_coords[ pol_enc_tower[:,1][ j[0]:j[1] ] ], axis=0 ) )\n",
    "    tower_id_all = np.array( tower_id_all )\n",
    "    tower_coords_all = np.array( tower_coords_all )\n",
    "\n",
    "    return np.concatenate( (np.array([ tower_to_int_all[ k ] for k in tower_id_all ]).reshape(-1,1), \n",
    "                     tower_coords_all.astype(int) ), axis=1 )\n",
    "\n",
    "# calling the function for the whole year\n",
    "tower_coords_year = []\n",
    "for s in tqdm( range( files_pol_enc.shape[0] )[:5] ):\n",
    "    tower_coords_year.append( calc_tower_coords_day( source, files_pol_enc[s] ) )"
   ]
  },
  {
   "cell_type": "code",
   "execution_count": 61,
   "metadata": {},
   "outputs": [],
   "source": [
    "# collecting, sorting results\n",
    "all_tower_coords_year = np.concatenate( tower_coords_year )\n",
    "sorting = np.argsort( all_tower_coords_year[:,0] )\n",
    "all_tower_coords_year = all_tower_coords_year[sorting]"
   ]
  },
  {
   "cell_type": "code",
   "execution_count": 66,
   "metadata": {
    "scrolled": true
   },
   "outputs": [
    {
     "data": {
      "text/plain": [
       "array([[     0, 250856, 557281],\n",
       "       [     0, 250856, 557281],\n",
       "       [     0, 250856, 557281],\n",
       "       [     0, 250856, 557281],\n",
       "       [     0, 250856, 557281],\n",
       "       [     1, 243355, 558407],\n",
       "       [     1, 243355, 558407],\n",
       "       [     1, 243355, 558407],\n",
       "       [     1, 243355, 558407],\n",
       "       [     1, 243355, 558407],\n",
       "       [     2, 247247, 549713],\n",
       "       [     2, 247247, 549713],\n",
       "       [     2, 247247, 549713],\n",
       "       [     2, 247247, 549713],\n",
       "       [     2, 247247, 549713],\n",
       "       [     3, 248652, 551070],\n",
       "       [     3, 248652, 551070],\n",
       "       [     3, 248652, 551070],\n",
       "       [     3, 248652, 551070],\n",
       "       [     3, 248652, 551070],\n",
       "       [     4, 273635, 796106],\n",
       "       [     4, 273635, 796106],\n",
       "       [     4, 273635, 796106],\n",
       "       [     4, 273635, 796106],\n",
       "       [     4, 273635, 796106],\n",
       "       [     5, 270283, 645289],\n",
       "       [     5, 270283, 645289],\n",
       "       [     5, 270283, 645289],\n",
       "       [     5, 270283, 645289],\n",
       "       [     5, 270283, 645289],\n",
       "       [     6, 235169, 657063],\n",
       "       [     6, 235169, 657063],\n",
       "       [     6, 235169, 657063],\n",
       "       [     6, 235169, 657063],\n",
       "       [     6, 235169, 657063],\n",
       "       [     7, 234408, 656572],\n",
       "       [     7, 234408, 656572],\n",
       "       [     7, 234408, 656572],\n",
       "       [     7, 234408, 656572],\n",
       "       [     7, 234408, 656572],\n",
       "       [     8, 235079, 656755],\n",
       "       [     8, 235079, 656755],\n",
       "       [     8, 235079, 656755],\n",
       "       [     8, 235079, 656755],\n",
       "       [     8, 235079, 656755],\n",
       "       [     9, 232756, 656229],\n",
       "       [     9, 232756, 656229],\n",
       "       [     9, 232756, 656229],\n",
       "       [     9, 232756, 656229],\n",
       "       [     9, 232756, 656229],\n",
       "       [    10, 232557, 655975],\n",
       "       [    10, 232557, 655975],\n",
       "       [    10, 232557, 655975],\n",
       "       [    10, 232557, 655975],\n",
       "       [    10, 232557, 655975],\n",
       "       [    11, 232894, 655906],\n",
       "       [    11, 232894, 655906],\n",
       "       [    11, 232894, 655906],\n",
       "       [    11, 232894, 655906],\n",
       "       [    11, 232894, 655906],\n",
       "       [    12, 227067, 655064],\n",
       "       [    12, 227067, 655064],\n",
       "       [    12, 227067, 655064],\n",
       "       [    12, 227067, 655064],\n",
       "       [    12, 227067, 655064],\n",
       "       [    13, 226604, 654632],\n",
       "       [    13, 226604, 654632],\n",
       "       [    13, 226604, 654632],\n",
       "       [    13, 226604, 654632],\n",
       "       [    13, 226604, 654632],\n",
       "       [    14, 227427, 654316],\n",
       "       [    14, 227427, 654316],\n",
       "       [    14, 227427, 654316],\n",
       "       [    14, 227427, 654316],\n",
       "       [    14, 227427, 654316],\n",
       "       [    15, 238211, 646051],\n",
       "       [    15, 238211, 646051],\n",
       "       [    15, 238211, 646051],\n",
       "       [    15, 238211, 646051],\n",
       "       [    15, 238211, 646051],\n",
       "       [    16, 238254, 645585],\n",
       "       [    16, 238254, 645585],\n",
       "       [    16, 238254, 645585],\n",
       "       [    16, 238254, 645585],\n",
       "       [    16, 238254, 645585],\n",
       "       [    17, 238656, 645871],\n",
       "       [    17, 238656, 645871],\n",
       "       [    17, 238656, 645871],\n",
       "       [    17, 238656, 645871],\n",
       "       [    17, 238656, 645871],\n",
       "       [    18, 296158, 775681],\n",
       "       [    18, 296158, 775681],\n",
       "       [    18, 296158, 775681],\n",
       "       [    18, 296158, 775681],\n",
       "       [    18, 296158, 775681],\n",
       "       [    19, 292972, 775344],\n",
       "       [    19, 292972, 775344],\n",
       "       [    19, 292972, 775344],\n",
       "       [    19, 292972, 775344],\n",
       "       [    19, 292972, 775344]])"
      ]
     },
     "execution_count": 66,
     "metadata": {},
     "output_type": "execute_result"
    }
   ],
   "source": [
    "all_tower_coords_year[:100]"
   ]
  },
  {
   "cell_type": "code",
   "execution_count": 63,
   "metadata": {},
   "outputs": [],
   "source": [
    "# calculating fix coordinates (and do some analysis) for the towers for the whole year\n",
    "all_tower_coords_year_diff_idx = np.where( np.diff( all_tower_coords_year[:,0] ) )[0]+1\n",
    "all_tower_coords_year_diff_idx = np.insert(all_tower_coords_year_diff_idx, 0, 0, axis=0)\n",
    "all_tower_coords_year_diff_idx = np.append( all_tower_coords_year_diff_idx, all_tower_coords_year.shape[0] )\n",
    "\n",
    "all_tower_coords_year_idx = np.vstack( ( all_tower_coords_year_diff_idx[:-1], all_tower_coords_year_diff_idx[1:] ) ).T\n"
   ]
  },
  {
   "cell_type": "code",
   "execution_count": 68,
   "metadata": {},
   "outputs": [
    {
     "data": {
      "text/plain": [
       "array([[     0,      5],\n",
       "       [     5,     10],\n",
       "       [    10,     15],\n",
       "       ...,\n",
       "       [213910, 213915],\n",
       "       [213915, 213920],\n",
       "       [213920, 213925]])"
      ]
     },
     "execution_count": 68,
     "metadata": {},
     "output_type": "execute_result"
    }
   ],
   "source": [
    "all_tower_coords_year_idx"
   ]
  },
  {
   "cell_type": "code",
   "execution_count": 69,
   "metadata": {},
   "outputs": [],
   "source": [
    "tower_data_year = []\n",
    "for l, j in enumerate( all_tower_coords_year_idx ):\n",
    "    mean_val = np.mean( all_tower_coords_year[ j[0]:j[1], 1: ], axis=0 )\n",
    "    std_val = np.std( all_tower_coords_year[ j[0]:j[1], 1: ], axis=0 )\n",
    "    perc_val_10 = np.percentile( all_tower_coords_year[ j[0]:j[1], 1: ], 10, axis=0 )\n",
    "    perc_val_50 = np.percentile( all_tower_coords_year[ j[0]:j[1], 1: ], 50, axis=0 )\n",
    "    perc_val_90 = np.percentile( all_tower_coords_year[ j[0]:j[1], 1: ], 90, axis=0 )\n",
    "    perc_val_99 = np.percentile( all_tower_coords_year[ j[0]:j[1], 1: ], 99, axis=0 )\n",
    "    tower_data_year.append( np.concatenate( ( [ all_tower_coords_year[ j[0], 0 ] ], \n",
    "                                              mean_val, std_val, \n",
    "                                              perc_val_10, perc_val_50, \n",
    "                                              perc_val_90, perc_val_99, \n",
    "                                            ) \n",
    "                                          ).astype(np.int64) )\n",
    "tower_data_year = np.array( tower_data_year )"
   ]
  },
  {
   "cell_type": "code",
   "execution_count": 70,
   "metadata": {},
   "outputs": [
    {
     "data": {
      "text/plain": [
       "array([[     0, 250856, 557281, ..., 557281, 250856, 557281],\n",
       "       [     1, 243355, 558407, ..., 558407, 243355, 558407],\n",
       "       [     2, 247247, 549713, ..., 549713, 247247, 549713],\n",
       "       ...,\n",
       "       [ 43381, 288496, 826877, ..., 826877, 288496, 826877],\n",
       "       [ 43382, 286254, 826714, ..., 826714, 286254, 826714],\n",
       "       [ 43383, 287470, 824406, ..., 824406, 287470, 824406]])"
      ]
     },
     "execution_count": 70,
     "metadata": {},
     "output_type": "execute_result"
    }
   ],
   "source": [
    "tower_data_year"
   ]
  },
  {
   "cell_type": "code",
   "execution_count": null,
   "metadata": {},
   "outputs": [],
   "source": []
  },
  {
   "cell_type": "code",
   "execution_count": null,
   "metadata": {},
   "outputs": [],
   "source": [
    "# collecting, sorting results\n",
    "all_tower_coords_year = np.concatenate( tower_coords_year )\n",
    "all_tower_coords_year = np.sort( all_tower_coords_year, axis=0 )\n",
    "\n",
    "# calculating fix coordinates (and do some analysis) for the towers for the whole year\n",
    "all_tower_coords_year_diff_idx = np.where( np.diff( all_tower_coords_year[:,0] ) )[0]+1\n",
    "all_tower_coords_year_diff_idx = np.insert(all_tower_coords_year_diff_idx, 0, 0, axis=0)\n",
    "all_tower_coords_year_diff_idx = np.append( all_tower_coords_year_diff_idx, all_tower_coords_year.shape[0] )\n",
    "\n",
    "all_tower_coords_year_idx = np.vstack( ( all_tower_coords_year_diff_idx[:-1], all_tower_coords_year_diff_idx[1:] ) ).T\n",
    "\n",
    "tower_data_year = []\n",
    "for l, j in enumerate( all_tower_coords_year_idx ):\n",
    "    mean_val = np.mean( all_tower_coords_year[ j[0]:j[1], 1: ], axis=0 )\n",
    "    std_val = np.std( all_tower_coords_year[ j[0]:j[1], 1: ], axis=0 )\n",
    "    perc_val_10 = np.percentile( all_tower_coords_year[ j[0]:j[1], 1: ], 10, axis=0 )\n",
    "    perc_val_50 = np.percentile( all_tower_coords_year[ j[0]:j[1], 1: ], 50, axis=0 )\n",
    "    perc_val_90 = np.percentile( all_tower_coords_year[ j[0]:j[1], 1: ], 90, axis=0 )\n",
    "    perc_val_99 = np.percentile( all_tower_coords_year[ j[0]:j[1], 1: ], 99, axis=0 )\n",
    "    tower_data_year.append( np.concatenate( ( [ all_tower_coords_year[ j[0], 0 ] ], \n",
    "                                              mean_val, std_val, \n",
    "                                              perc_val_10, perc_val_50, \n",
    "                                              perc_val_90, perc_val_99, \n",
    "                                            ) \n",
    "                                          ).astype(np.int64) )\n",
    "tower_data_year = np.array( tower_data_year )\n",
    "\n",
    "# prepare data to be saved and used later on to build a fixed graph\n",
    "int_to_towers = { v: k for k, v in tower_to_int_all.items() }\n",
    "\n",
    "pd.DataFrame( np.concatenate( ( np.array([ int_to_towers[i] for \n",
    "                                           i in tower_data_year[:,0] ]).reshape(-1,1),\n",
    "              tower_data_year ), axis=1 ), \n",
    "              columns=[ ['original_id', 'tower_id', 'mean_x',\n",
    "              'mean_y', 'std_x', 'std_y', 'perc_10_x', 'perc_10_y',\n",
    "              'perc_50_x', 'perc_50_y', 'perc_90_x', 'perc_90_y',\n",
    "              'perc_99_x', 'perc_99_y' ] ] ).to_csv( target+'fixed_tower_locations.csv', \n",
    "                                                       index=False )\n",
    "\n"
   ]
  }
 ],
 "metadata": {
  "kernelspec": {
   "display_name": "Python 3",
   "language": "python",
   "name": "python3"
  },
  "language_info": {
   "codemirror_mode": {
    "name": "ipython",
    "version": 3
   },
   "file_extension": ".py",
   "mimetype": "text/x-python",
   "name": "python",
   "nbconvert_exporter": "python",
   "pygments_lexer": "ipython3",
   "version": "3.6.9"
  }
 },
 "nbformat": 4,
 "nbformat_minor": 4
}
