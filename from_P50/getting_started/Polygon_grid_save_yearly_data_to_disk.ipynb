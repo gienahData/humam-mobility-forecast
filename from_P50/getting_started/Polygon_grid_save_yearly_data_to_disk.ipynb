{
 "cells": [
  {
   "cell_type": "code",
   "execution_count": 1,
   "metadata": {},
   "outputs": [],
   "source": [
    "import numpy as np\n",
    "import pandas as pd\n",
    "from itertools import product\n",
    "import os\n",
    "from tqdm import tqdm"
   ]
  },
  {
   "cell_type": "code",
   "execution_count": 2,
   "metadata": {},
   "outputs": [],
   "source": [
    "import matplotlib.pyplot as plt"
   ]
  },
  {
   "cell_type": "markdown",
   "metadata": {},
   "source": [
    "### Locate data"
   ]
  },
  {
   "cell_type": "code",
   "execution_count": 3,
   "metadata": {},
   "outputs": [],
   "source": [
    "# Locate files\n",
    "#source = '/media/Data_storage/Mobilcell/Data/'\n",
    "source = '/home/abiricz/Projects/Mobilcell/Data/'\n",
    "target = '/media/Data_storage/Mobilcell/DayPolygonData/'"
   ]
  },
  {
   "cell_type": "code",
   "execution_count": 4,
   "metadata": {
    "scrolled": true
   },
   "outputs": [
    {
     "data": {
      "text/plain": [
       "((365,), array(['MT_MTA_NETWORK_POLIGONS_20181201.csv.gz',\n",
       "        'MT_MTA_NETWORK_POLIGONS_20181202.csv.gz',\n",
       "        'MT_MTA_NETWORK_POLIGONS_20181203.csv.gz'], dtype='<U39'))"
      ]
     },
     "execution_count": 4,
     "metadata": {},
     "output_type": "execute_result"
    }
   ],
   "source": [
    "files_poligons = np.array( sorted([ i for i in os.listdir(source) if 'POLIGONS' in i]) )\n",
    "files_poligons.shape, files_poligons[:3]"
   ]
  },
  {
   "cell_type": "markdown",
   "metadata": {},
   "source": [
    "### Calculate universal grid for rasters"
   ]
  },
  {
   "cell_type": "code",
   "execution_count": 5,
   "metadata": {
    "scrolled": true
   },
   "outputs": [
    {
     "name": "stdout",
     "output_type": "stream",
     "text": [
      "48262 362968 426468 934214 2478 3998\n"
     ]
    }
   ],
   "source": [
    "# This seems to be the global grid of rasters, same for every day!\n",
    "start_x = 48262 # 48210 + 127 - ( 48210 % 127 )\n",
    "end_x = 362968 # 366660 + 127 - ( 366660 % 127 )\n",
    "\n",
    "start_y = 426468 # 426341 + ( 426341 % 127 )\n",
    "end_y = 934214 # 934219 + ( 934219 % 127 )\n",
    "\n",
    "num_x = int( ( end_x - start_x ) / 127 )\n",
    "num_y = int( ( end_y - start_y ) / 127 )\n",
    "\n",
    "print( start_x, end_x, start_y, end_y, num_x, num_y )\n",
    "\n",
    "# this raster encoding is universal then\n",
    "raster_x = np.arange(start_x, end_x+127, 127, dtype=np.int32)\n",
    "raster_y = np.arange(start_y, end_y+127, 127, dtype=np.int32)\n",
    "\n",
    "# get coordinate vector\n",
    "raster_coords = np.array( list(product( raster_x, raster_y )) )"
   ]
  },
  {
   "cell_type": "markdown",
   "metadata": {},
   "source": [
    "### Load data"
   ]
  },
  {
   "cell_type": "code",
   "execution_count": 6,
   "metadata": {},
   "outputs": [],
   "source": [
    "poligons_path = source + files_poligons[100]\n",
    "poligons_df = pd.read_csv( poligons_path, delimiter=';' )\n",
    "\n",
    "# drop poligons outside of the country\n",
    "poligons_df = poligons_df[ np.logical_and( poligons_df.eovx.values < 366660, \n",
    "                                   poligons_df.eovx.values > 48210 ) ]\n",
    "poligons_df = poligons_df[ np.logical_and( poligons_df.eovy.values < 934219, \n",
    "                                   poligons_df.eovy.values > 426341 ) ]"
   ]
  },
  {
   "cell_type": "code",
   "execution_count": 7,
   "metadata": {
    "scrolled": false
   },
   "outputs": [
    {
     "data": {
      "text/html": [
       "<div>\n",
       "<style scoped>\n",
       "    .dataframe tbody tr th:only-of-type {\n",
       "        vertical-align: middle;\n",
       "    }\n",
       "\n",
       "    .dataframe tbody tr th {\n",
       "        vertical-align: top;\n",
       "    }\n",
       "\n",
       "    .dataframe thead th {\n",
       "        text-align: right;\n",
       "    }\n",
       "</style>\n",
       "<table border=\"1\" class=\"dataframe\">\n",
       "  <thead>\n",
       "    <tr style=\"text-align: right;\">\n",
       "      <th></th>\n",
       "      <th>network_identifier</th>\n",
       "      <th>eovx</th>\n",
       "      <th>eovy</th>\n",
       "      <th>dx</th>\n",
       "      <th>dy</th>\n",
       "      <th>network_element_type</th>\n",
       "    </tr>\n",
       "  </thead>\n",
       "  <tbody>\n",
       "    <tr>\n",
       "      <td>0</td>\n",
       "      <td>10071347</td>\n",
       "      <td>216918</td>\n",
       "      <td>496318</td>\n",
       "      <td>127</td>\n",
       "      <td>127</td>\n",
       "      <td>D</td>\n",
       "    </tr>\n",
       "    <tr>\n",
       "      <td>1</td>\n",
       "      <td>10071347</td>\n",
       "      <td>216918</td>\n",
       "      <td>496445</td>\n",
       "      <td>127</td>\n",
       "      <td>127</td>\n",
       "      <td>D</td>\n",
       "    </tr>\n",
       "    <tr>\n",
       "      <td>2</td>\n",
       "      <td>10071347</td>\n",
       "      <td>217045</td>\n",
       "      <td>496191</td>\n",
       "      <td>127</td>\n",
       "      <td>127</td>\n",
       "      <td>D</td>\n",
       "    </tr>\n",
       "    <tr>\n",
       "      <td>3</td>\n",
       "      <td>10071347</td>\n",
       "      <td>217045</td>\n",
       "      <td>496318</td>\n",
       "      <td>127</td>\n",
       "      <td>127</td>\n",
       "      <td>D</td>\n",
       "    </tr>\n",
       "    <tr>\n",
       "      <td>4</td>\n",
       "      <td>10071347</td>\n",
       "      <td>217045</td>\n",
       "      <td>496572</td>\n",
       "      <td>127</td>\n",
       "      <td>127</td>\n",
       "      <td>D</td>\n",
       "    </tr>\n",
       "  </tbody>\n",
       "</table>\n",
       "</div>"
      ],
      "text/plain": [
       "   network_identifier    eovx    eovy   dx   dy network_element_type\n",
       "0            10071347  216918  496318  127  127                    D\n",
       "1            10071347  216918  496445  127  127                    D\n",
       "2            10071347  217045  496191  127  127                    D\n",
       "3            10071347  217045  496318  127  127                    D\n",
       "4            10071347  217045  496572  127  127                    D"
      ]
     },
     "execution_count": 7,
     "metadata": {},
     "output_type": "execute_result"
    }
   ],
   "source": [
    "poligons_df.head()"
   ]
  },
  {
   "cell_type": "markdown",
   "metadata": {},
   "source": [
    "### Match raster index with the universal grid"
   ]
  },
  {
   "cell_type": "code",
   "execution_count": 8,
   "metadata": {},
   "outputs": [],
   "source": [
    "# calculate raster encodings\n",
    "poligons_df['eovx_num'] = ( (poligons_df.eovx - start_x) / 127 ).astype(int)\n",
    "poligons_df['eovy_num'] = ( (poligons_df.eovy - start_y) / 127 ).astype(int)\n",
    "poligons_df['eov_idx'] = poligons_df.eovx_num * (num_y+1) + poligons_df.eovy_num"
   ]
  },
  {
   "cell_type": "code",
   "execution_count": 9,
   "metadata": {
    "scrolled": true
   },
   "outputs": [
    {
     "data": {
      "text/html": [
       "<div>\n",
       "<style scoped>\n",
       "    .dataframe tbody tr th:only-of-type {\n",
       "        vertical-align: middle;\n",
       "    }\n",
       "\n",
       "    .dataframe tbody tr th {\n",
       "        vertical-align: top;\n",
       "    }\n",
       "\n",
       "    .dataframe thead th {\n",
       "        text-align: right;\n",
       "    }\n",
       "</style>\n",
       "<table border=\"1\" class=\"dataframe\">\n",
       "  <thead>\n",
       "    <tr style=\"text-align: right;\">\n",
       "      <th></th>\n",
       "      <th>network_identifier</th>\n",
       "      <th>eovx</th>\n",
       "      <th>eovy</th>\n",
       "      <th>dx</th>\n",
       "      <th>dy</th>\n",
       "      <th>network_element_type</th>\n",
       "      <th>eovx_num</th>\n",
       "      <th>eovy_num</th>\n",
       "      <th>eov_idx</th>\n",
       "    </tr>\n",
       "  </thead>\n",
       "  <tbody>\n",
       "    <tr>\n",
       "      <td>0</td>\n",
       "      <td>10071347</td>\n",
       "      <td>216918</td>\n",
       "      <td>496318</td>\n",
       "      <td>127</td>\n",
       "      <td>127</td>\n",
       "      <td>D</td>\n",
       "      <td>1328</td>\n",
       "      <td>550</td>\n",
       "      <td>5311222</td>\n",
       "    </tr>\n",
       "    <tr>\n",
       "      <td>1</td>\n",
       "      <td>10071347</td>\n",
       "      <td>216918</td>\n",
       "      <td>496445</td>\n",
       "      <td>127</td>\n",
       "      <td>127</td>\n",
       "      <td>D</td>\n",
       "      <td>1328</td>\n",
       "      <td>551</td>\n",
       "      <td>5311223</td>\n",
       "    </tr>\n",
       "    <tr>\n",
       "      <td>2</td>\n",
       "      <td>10071347</td>\n",
       "      <td>217045</td>\n",
       "      <td>496191</td>\n",
       "      <td>127</td>\n",
       "      <td>127</td>\n",
       "      <td>D</td>\n",
       "      <td>1329</td>\n",
       "      <td>549</td>\n",
       "      <td>5315220</td>\n",
       "    </tr>\n",
       "    <tr>\n",
       "      <td>3</td>\n",
       "      <td>10071347</td>\n",
       "      <td>217045</td>\n",
       "      <td>496318</td>\n",
       "      <td>127</td>\n",
       "      <td>127</td>\n",
       "      <td>D</td>\n",
       "      <td>1329</td>\n",
       "      <td>550</td>\n",
       "      <td>5315221</td>\n",
       "    </tr>\n",
       "    <tr>\n",
       "      <td>4</td>\n",
       "      <td>10071347</td>\n",
       "      <td>217045</td>\n",
       "      <td>496572</td>\n",
       "      <td>127</td>\n",
       "      <td>127</td>\n",
       "      <td>D</td>\n",
       "      <td>1329</td>\n",
       "      <td>552</td>\n",
       "      <td>5315223</td>\n",
       "    </tr>\n",
       "  </tbody>\n",
       "</table>\n",
       "</div>"
      ],
      "text/plain": [
       "   network_identifier    eovx    eovy   dx   dy network_element_type  \\\n",
       "0            10071347  216918  496318  127  127                    D   \n",
       "1            10071347  216918  496445  127  127                    D   \n",
       "2            10071347  217045  496191  127  127                    D   \n",
       "3            10071347  217045  496318  127  127                    D   \n",
       "4            10071347  217045  496572  127  127                    D   \n",
       "\n",
       "   eovx_num  eovy_num  eov_idx  \n",
       "0      1328       550  5311222  \n",
       "1      1328       551  5311223  \n",
       "2      1329       549  5315220  \n",
       "3      1329       550  5315221  \n",
       "4      1329       552  5315223  "
      ]
     },
     "execution_count": 9,
     "metadata": {},
     "output_type": "execute_result"
    }
   ],
   "source": [
    "poligons_df.head()"
   ]
  },
  {
   "cell_type": "code",
   "execution_count": 10,
   "metadata": {},
   "outputs": [
    {
     "data": {
      "text/plain": [
       "array([216918, 496445], dtype=int32)"
      ]
     },
     "execution_count": 10,
     "metadata": {},
     "output_type": "execute_result"
    }
   ],
   "source": [
    "raster_coords[ 5311223 ]"
   ]
  },
  {
   "cell_type": "markdown",
   "metadata": {},
   "source": [
    "### Investigate network id and its rasters for more days"
   ]
  },
  {
   "cell_type": "code",
   "execution_count": 11,
   "metadata": {},
   "outputs": [
    {
     "data": {
      "text/html": [
       "<div>\n",
       "<style scoped>\n",
       "    .dataframe tbody tr th:only-of-type {\n",
       "        vertical-align: middle;\n",
       "    }\n",
       "\n",
       "    .dataframe tbody tr th {\n",
       "        vertical-align: top;\n",
       "    }\n",
       "\n",
       "    .dataframe thead th {\n",
       "        text-align: right;\n",
       "    }\n",
       "</style>\n",
       "<table border=\"1\" class=\"dataframe\">\n",
       "  <thead>\n",
       "    <tr style=\"text-align: right;\">\n",
       "      <th></th>\n",
       "      <th>network_identifier</th>\n",
       "      <th>eov_idx</th>\n",
       "    </tr>\n",
       "  </thead>\n",
       "  <tbody>\n",
       "    <tr>\n",
       "      <td>0</td>\n",
       "      <td>10071347</td>\n",
       "      <td>5311222</td>\n",
       "    </tr>\n",
       "    <tr>\n",
       "      <td>1</td>\n",
       "      <td>10071347</td>\n",
       "      <td>5311223</td>\n",
       "    </tr>\n",
       "    <tr>\n",
       "      <td>2</td>\n",
       "      <td>10071347</td>\n",
       "      <td>5315220</td>\n",
       "    </tr>\n",
       "    <tr>\n",
       "      <td>3</td>\n",
       "      <td>10071347</td>\n",
       "      <td>5315221</td>\n",
       "    </tr>\n",
       "    <tr>\n",
       "      <td>4</td>\n",
       "      <td>10071347</td>\n",
       "      <td>5315223</td>\n",
       "    </tr>\n",
       "    <tr>\n",
       "      <td>...</td>\n",
       "      <td>...</td>\n",
       "      <td>...</td>\n",
       "    </tr>\n",
       "    <tr>\n",
       "      <td>26053295</td>\n",
       "      <td>99591498</td>\n",
       "      <td>4635914</td>\n",
       "    </tr>\n",
       "    <tr>\n",
       "      <td>26053296</td>\n",
       "      <td>99591498</td>\n",
       "      <td>4635915</td>\n",
       "    </tr>\n",
       "    <tr>\n",
       "      <td>26053297</td>\n",
       "      <td>99591498</td>\n",
       "      <td>4635916</td>\n",
       "    </tr>\n",
       "    <tr>\n",
       "      <td>26053298</td>\n",
       "      <td>99591498</td>\n",
       "      <td>4639913</td>\n",
       "    </tr>\n",
       "    <tr>\n",
       "      <td>26053299</td>\n",
       "      <td>99591498</td>\n",
       "      <td>4643911</td>\n",
       "    </tr>\n",
       "  </tbody>\n",
       "</table>\n",
       "<p>26042098 rows × 2 columns</p>\n",
       "</div>"
      ],
      "text/plain": [
       "          network_identifier  eov_idx\n",
       "0                   10071347  5311222\n",
       "1                   10071347  5311223\n",
       "2                   10071347  5315220\n",
       "3                   10071347  5315221\n",
       "4                   10071347  5315223\n",
       "...                      ...      ...\n",
       "26053295            99591498  4635914\n",
       "26053296            99591498  4635915\n",
       "26053297            99591498  4635916\n",
       "26053298            99591498  4639913\n",
       "26053299            99591498  4643911\n",
       "\n",
       "[26042098 rows x 2 columns]"
      ]
     },
     "execution_count": 11,
     "metadata": {},
     "output_type": "execute_result"
    }
   ],
   "source": [
    "poligons_df[ [\"network_identifier\", \"eov_idx\"] ]"
   ]
  },
  {
   "cell_type": "code",
   "execution_count": 12,
   "metadata": {},
   "outputs": [
    {
     "data": {
      "text/plain": [
       "'/media/Data_storage/Mobilcell/DayPolygonData/polygon_compressed_20181201'"
      ]
     },
     "execution_count": 12,
     "metadata": {},
     "output_type": "execute_result"
    }
   ],
   "source": [
    "target + 'polygon_compressed_'+files_poligons[0].split('_')[-1][:8]"
   ]
  },
  {
   "cell_type": "code",
   "execution_count": 13,
   "metadata": {
    "scrolled": true
   },
   "outputs": [
    {
     "name": "stderr",
     "output_type": "stream",
     "text": [
      "100%|██████████| 365/365 [1:19:29<00:00, 13.07s/it]\n"
     ]
    }
   ],
   "source": [
    "for i in tqdm( range(files_poligons.shape[0]) ):\n",
    "    # load file\n",
    "    poligons_path = source + files_poligons[i]\n",
    "    poligons_df = pd.read_csv( poligons_path, delimiter=';' )\n",
    "    \n",
    "    # drop poligons outside of the country\n",
    "    poligons_df = poligons_df[ np.logical_and( poligons_df.eovx.values < 366660, \n",
    "                                       poligons_df.eovx.values > 48210 ) ]\n",
    "    poligons_df = poligons_df[ np.logical_and( poligons_df.eovy.values < 934219, \n",
    "                                       poligons_df.eovy.values > 426341 ) ]\n",
    "    \n",
    "    # calculate raster encodings\n",
    "    poligons_df['eovx_num'] = ( (poligons_df.eovx - start_x) / 127 ).astype(int)\n",
    "    poligons_df['eovy_num'] = ( (poligons_df.eovy - start_y) / 127 ).astype(int)\n",
    "    poligons_df['eov_idx'] = poligons_df.eovx_num * (num_y+1) + poligons_df.eovy_num\n",
    "    \n",
    "    # save encoded data\n",
    "    savename = target+'polygon_encoded_'+files_poligons[i].split('_')[-1][:8]\n",
    "    save_df = poligons_df[ [\"network_identifier\", \"eov_idx\"] ]\n",
    "    np.save( savename, save_df.values )\n",
    "    \n",
    "    # saving csv is very slow!!\n",
    "    #save_df.to_csv( savename, index=False, )"
   ]
  },
  {
   "cell_type": "code",
   "execution_count": null,
   "metadata": {},
   "outputs": [],
   "source": []
  }
 ],
 "metadata": {
  "kernelspec": {
   "display_name": "Python 3",
   "language": "python",
   "name": "python3"
  },
  "language_info": {
   "codemirror_mode": {
    "name": "ipython",
    "version": 3
   },
   "file_extension": ".py",
   "mimetype": "text/x-python",
   "name": "python",
   "nbconvert_exporter": "python",
   "pygments_lexer": "ipython3",
   "version": "3.6.9"
  }
 },
 "nbformat": 4,
 "nbformat_minor": 2
}
