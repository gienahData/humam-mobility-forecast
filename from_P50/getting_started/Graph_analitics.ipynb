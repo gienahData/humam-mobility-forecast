{
 "cells": [
  {
   "cell_type": "code",
   "execution_count": 1,
   "metadata": {},
   "outputs": [
    {
     "name": "stderr",
     "output_type": "stream",
     "text": [
      "/usr/lib/python3/dist-packages/graph_tool/draw/cairo_draw.py:32: RuntimeWarning: Error importing cairo. Graph drawing will not work.\n",
      "  warnings.warn(msg, RuntimeWarning)\n",
      "/usr/lib/python3/dist-packages/graph_tool/draw/cairo_draw.py:32: RuntimeWarning: Error importing cairo. Graph drawing will not work.\n",
      "  warnings.warn(msg, RuntimeWarning)\n",
      "/usr/lib/python3/dist-packages/graph_tool/draw/cairo_draw.py:32: RuntimeWarning: Error importing cairo. Graph drawing will not work.\n",
      "  warnings.warn(msg, RuntimeWarning)\n",
      "/usr/lib/python3/dist-packages/graph_tool/all.py:39: RuntimeWarning: Error importing draw module, proceeding nevertheless: No module named 'cairo'\n",
      "  warnings.warn(msg, RuntimeWarning)\n"
     ]
    }
   ],
   "source": [
    "import pandas as pd\n",
    "import numpy as np\n",
    "import matplotlib.pyplot as plt\n",
    "import networkx as nx\n",
    "import os\n",
    "from tqdm import tqdm\n",
    "\n",
    "import collections\n",
    "from random import choice\n",
    "import copy\n",
    "\n",
    "from graph_tool.all import *"
   ]
  },
  {
   "cell_type": "markdown",
   "metadata": {},
   "source": [
    "#### Locate folder"
   ]
  },
  {
   "cell_type": "code",
   "execution_count": 2,
   "metadata": {},
   "outputs": [],
   "source": [
    "source = '/mnt/lynxkite/data/kite_data/upload/'"
   ]
  },
  {
   "cell_type": "markdown",
   "metadata": {},
   "source": [
    "#### Read all filenames and sort"
   ]
  },
  {
   "cell_type": "code",
   "execution_count": 3,
   "metadata": {},
   "outputs": [
    {
     "data": {
      "text/plain": [
       "((702,),\n",
       " array(['output_20180101.csv', 'output_20180102.csv',\n",
       "        'output_20180103.csv'], dtype='<U19'),\n",
       " array(['output_20191130.csv', 'output_total.csv', 'output_year2018.csv',\n",
       "        'output_year2019.csv'], dtype='<U19'))"
      ]
     },
     "execution_count": 3,
     "metadata": {},
     "output_type": "execute_result"
    }
   ],
   "source": [
    "files = sorted([ i for i in os.listdir(source) if '.csv' in i ])\n",
    "files = np.array( sorted([ i for i in files if 'output_' in i ]) )\n",
    "files.shape, files[:3], files[-4:]"
   ]
  },
  {
   "cell_type": "code",
   "execution_count": 4,
   "metadata": {},
   "outputs": [
    {
     "data": {
      "text/plain": [
       "('output_20180101.csv',\n",
       " 'output_20181201.csv',\n",
       " 'output_20190101.csv',\n",
       " 'output_20191130.csv')"
      ]
     },
     "execution_count": 4,
     "metadata": {},
     "output_type": "execute_result"
    }
   ],
   "source": [
    "files[0], files[334], files[365], files[698]"
   ]
  },
  {
   "cell_type": "code",
   "execution_count": 5,
   "metadata": {},
   "outputs": [
    {
     "data": {
      "text/plain": [
       "698"
      ]
     },
     "execution_count": 5,
     "metadata": {},
     "output_type": "execute_result"
    }
   ],
   "source": [
    "364+31+28+31+30+31+30+31+31+30+31+30"
   ]
  },
  {
   "cell_type": "markdown",
   "metadata": {},
   "source": [
    "#### Select the year 2018"
   ]
  },
  {
   "cell_type": "code",
   "execution_count": 6,
   "metadata": {},
   "outputs": [],
   "source": [
    "# 2018.12.01-2019.11.30"
   ]
  },
  {
   "cell_type": "code",
   "execution_count": 7,
   "metadata": {},
   "outputs": [
    {
     "data": {
      "text/plain": [
       "(368,)"
      ]
     },
     "execution_count": 7,
     "metadata": {},
     "output_type": "execute_result"
    }
   ],
   "source": [
    "files_2019 = files[334:]\n",
    "files_2019.shape"
   ]
  },
  {
   "cell_type": "code",
   "execution_count": 8,
   "metadata": {},
   "outputs": [
    {
     "data": {
      "text/html": [
       "<div>\n",
       "<style scoped>\n",
       "    .dataframe tbody tr th:only-of-type {\n",
       "        vertical-align: middle;\n",
       "    }\n",
       "\n",
       "    .dataframe tbody tr th {\n",
       "        vertical-align: top;\n",
       "    }\n",
       "\n",
       "    .dataframe thead th {\n",
       "        text-align: right;\n",
       "    }\n",
       "</style>\n",
       "<table border=\"1\" class=\"dataframe\">\n",
       "  <thead>\n",
       "    <tr style=\"text-align: right;\">\n",
       "      <th></th>\n",
       "      <th>src</th>\n",
       "      <th>dst</th>\n",
       "      <th>traffic</th>\n",
       "    </tr>\n",
       "  </thead>\n",
       "  <tbody>\n",
       "    <tr>\n",
       "      <th>0</th>\n",
       "      <td>39896</td>\n",
       "      <td>42136</td>\n",
       "      <td>17.203232</td>\n",
       "    </tr>\n",
       "    <tr>\n",
       "      <th>1</th>\n",
       "      <td>31193</td>\n",
       "      <td>34393</td>\n",
       "      <td>29.172490</td>\n",
       "    </tr>\n",
       "    <tr>\n",
       "      <th>2</th>\n",
       "      <td>69953</td>\n",
       "      <td>70914</td>\n",
       "      <td>33.255560</td>\n",
       "    </tr>\n",
       "    <tr>\n",
       "      <th>3</th>\n",
       "      <td>39247</td>\n",
       "      <td>38295</td>\n",
       "      <td>21.445524</td>\n",
       "    </tr>\n",
       "    <tr>\n",
       "      <th>4</th>\n",
       "      <td>37971</td>\n",
       "      <td>42766</td>\n",
       "      <td>55.472760</td>\n",
       "    </tr>\n",
       "  </tbody>\n",
       "</table>\n",
       "</div>"
      ],
      "text/plain": [
       "     src    dst    traffic\n",
       "0  39896  42136  17.203232\n",
       "1  31193  34393  29.172490\n",
       "2  69953  70914  33.255560\n",
       "3  39247  38295  21.445524\n",
       "4  37971  42766  55.472760"
      ]
     },
     "execution_count": 8,
     "metadata": {},
     "output_type": "execute_result"
    }
   ],
   "source": [
    "df = pd.read_csv( source+files_2019[0], delimiter=',' )\n",
    "df.head()"
   ]
  },
  {
   "cell_type": "code",
   "execution_count": 9,
   "metadata": {},
   "outputs": [
    {
     "data": {
      "text/plain": [
       "(100817, 3)"
      ]
     },
     "execution_count": 9,
     "metadata": {},
     "output_type": "execute_result"
    }
   ],
   "source": [
    "df.shape"
   ]
  },
  {
   "cell_type": "markdown",
   "metadata": {},
   "source": [
    "#### Preprocess data to be able to parse it"
   ]
  },
  {
   "cell_type": "code",
   "execution_count": 10,
   "metadata": {
    "scrolled": true
   },
   "outputs": [
    {
     "data": {
      "text/plain": [
       "(array([39896, 31193, 69953]),\n",
       " array([42136, 34393, 70914]),\n",
       " array([\"{'weight': 17.2032}\", \"{'weight': 29.1725}\",\n",
       "        \"{'weight': 33.2556}\"], dtype='<U19'))"
      ]
     },
     "execution_count": 10,
     "metadata": {},
     "output_type": "execute_result"
    }
   ],
   "source": [
    "src_part = df.src.values\n",
    "dst_part = df.dst.values\n",
    "weight_part = []\n",
    "for i in range( df.shape[0] ):\n",
    "    weight_part.append( '{\\'weight\\': '+str( np.round( df.traffic[i], 4 ) )[:7]+'}' )\n",
    "weight_part = np.array( weight_part )\n",
    "src_part[:3], dst_part[:3], weight_part[:3]"
   ]
  },
  {
   "cell_type": "code",
   "execution_count": 11,
   "metadata": {},
   "outputs": [],
   "source": [
    "grap_to_parse = []\n",
    "for i in range( src_part.shape[0] ):\n",
    "     grap_to_parse.append( str(src_part[i]) + ' ' + str( dst_part[i]) +' ' + weight_part[i] )"
   ]
  },
  {
   "cell_type": "code",
   "execution_count": 12,
   "metadata": {},
   "outputs": [
    {
     "data": {
      "text/plain": [
       "[\"39896 42136 {'weight': 17.2032}\",\n",
       " \"31193 34393 {'weight': 29.1725}\",\n",
       " \"69953 70914 {'weight': 33.2556}\",\n",
       " \"39247 38295 {'weight': 21.4455}\",\n",
       " \"37971 42766 {'weight': 55.4728}\"]"
      ]
     },
     "execution_count": 12,
     "metadata": {},
     "output_type": "execute_result"
    }
   ],
   "source": [
    "grap_to_parse[:5]"
   ]
  },
  {
   "cell_type": "markdown",
   "metadata": {},
   "source": [
    "#### Creation of graph"
   ]
  },
  {
   "cell_type": "code",
   "execution_count": 13,
   "metadata": {},
   "outputs": [],
   "source": [
    "G = nx.parse_edgelist( grap_to_parse , delimiter=' ', nodetype=int, create_using=nx.Graph())"
   ]
  },
  {
   "cell_type": "markdown",
   "metadata": {},
   "source": [
    "#### Check if graph is correct"
   ]
  },
  {
   "cell_type": "code",
   "execution_count": 14,
   "metadata": {
    "scrolled": true
   },
   "outputs": [
    {
     "data": {
      "text/plain": [
       "[42136, 37656, 37657, 38935, 38938, 37976]"
      ]
     },
     "execution_count": 14,
     "metadata": {},
     "output_type": "execute_result"
    }
   ],
   "source": [
    "[ i for i in nx.all_neighbors( G, 39896) ]"
   ]
  },
  {
   "cell_type": "code",
   "execution_count": 15,
   "metadata": {},
   "outputs": [],
   "source": [
    "G_nodes_id = np.array( [i[0] for i in G.nodes(True) ] ).astype(int)\n",
    "G_nodes_df = pd.read_csv( source+'boxids.csv' ).iloc[ G_nodes_id ]\n",
    "G_nodes_df_header = list( G_nodes_df )\n",
    "G_nodes_id = G_nodes_df.values"
   ]
  },
  {
   "cell_type": "code",
   "execution_count": null,
   "metadata": {},
   "outputs": [],
   "source": [
    "pd.read_csv( '/mnt/graph_analitics_data/graph_vertex_attr_201' )"
   ]
  },
  {
   "cell_type": "code",
   "execution_count": 17,
   "metadata": {},
   "outputs": [
    {
     "data": {
      "text/html": [
       "<div>\n",
       "<style scoped>\n",
       "    .dataframe tbody tr th:only-of-type {\n",
       "        vertical-align: middle;\n",
       "    }\n",
       "\n",
       "    .dataframe tbody tr th {\n",
       "        vertical-align: top;\n",
       "    }\n",
       "\n",
       "    .dataframe thead th {\n",
       "        text-align: right;\n",
       "    }\n",
       "</style>\n",
       "<table border=\"1\" class=\"dataframe\">\n",
       "  <thead>\n",
       "    <tr style=\"text-align: right;\">\n",
       "      <th></th>\n",
       "      <th>boxid</th>\n",
       "      <th>eovx</th>\n",
       "      <th>eovy</th>\n",
       "      <th>lat</th>\n",
       "      <th>lon</th>\n",
       "    </tr>\n",
       "  </thead>\n",
       "  <tbody>\n",
       "    <tr>\n",
       "      <th>39896</th>\n",
       "      <td>39896</td>\n",
       "      <td>260444</td>\n",
       "      <td>550841</td>\n",
       "      <td>47.680270</td>\n",
       "      <td>17.726734</td>\n",
       "    </tr>\n",
       "    <tr>\n",
       "      <th>42136</th>\n",
       "      <td>42136</td>\n",
       "      <td>260444</td>\n",
       "      <td>557841</td>\n",
       "      <td>47.681297</td>\n",
       "      <td>17.819951</td>\n",
       "    </tr>\n",
       "    <tr>\n",
       "      <th>31193</th>\n",
       "      <td>31193</td>\n",
       "      <td>197444</td>\n",
       "      <td>523841</td>\n",
       "      <td>47.109050</td>\n",
       "      <td>17.385070</td>\n",
       "    </tr>\n",
       "    <tr>\n",
       "      <th>34393</th>\n",
       "      <td>34393</td>\n",
       "      <td>197444</td>\n",
       "      <td>533841</td>\n",
       "      <td>47.110888</td>\n",
       "      <td>17.516804</td>\n",
       "    </tr>\n",
       "    <tr>\n",
       "      <th>69953</th>\n",
       "      <td>69953</td>\n",
       "      <td>237444</td>\n",
       "      <td>644841</td>\n",
       "      <td>47.480921</td>\n",
       "      <td>18.978995</td>\n",
       "    </tr>\n",
       "    <tr>\n",
       "      <th>...</th>\n",
       "      <td>...</td>\n",
       "      <td>...</td>\n",
       "      <td>...</td>\n",
       "      <td>...</td>\n",
       "      <td>...</td>\n",
       "    </tr>\n",
       "    <tr>\n",
       "      <th>37608</th>\n",
       "      <td>37608</td>\n",
       "      <td>212444</td>\n",
       "      <td>543841</td>\n",
       "      <td>47.247485</td>\n",
       "      <td>17.644997</td>\n",
       "    </tr>\n",
       "    <tr>\n",
       "      <th>42763</th>\n",
       "      <td>42763</td>\n",
       "      <td>247444</td>\n",
       "      <td>559841</td>\n",
       "      <td>47.564663</td>\n",
       "      <td>17.849242</td>\n",
       "    </tr>\n",
       "    <tr>\n",
       "      <th>43290</th>\n",
       "      <td>43290</td>\n",
       "      <td>134444</td>\n",
       "      <td>561841</td>\n",
       "      <td>46.548553</td>\n",
       "      <td>17.897921</td>\n",
       "    </tr>\n",
       "    <tr>\n",
       "      <th>34117</th>\n",
       "      <td>34117</td>\n",
       "      <td>241444</td>\n",
       "      <td>532841</td>\n",
       "      <td>47.506423</td>\n",
       "      <td>17.492087</td>\n",
       "    </tr>\n",
       "    <tr>\n",
       "      <th>38186</th>\n",
       "      <td>38186</td>\n",
       "      <td>150444</td>\n",
       "      <td>545841</td>\n",
       "      <td>46.690156</td>\n",
       "      <td>17.685692</td>\n",
       "    </tr>\n",
       "  </tbody>\n",
       "</table>\n",
       "<p>21251 rows × 5 columns</p>\n",
       "</div>"
      ],
      "text/plain": [
       "       boxid    eovx    eovy        lat        lon\n",
       "39896  39896  260444  550841  47.680270  17.726734\n",
       "42136  42136  260444  557841  47.681297  17.819951\n",
       "31193  31193  197444  523841  47.109050  17.385070\n",
       "34393  34393  197444  533841  47.110888  17.516804\n",
       "69953  69953  237444  644841  47.480921  18.978995\n",
       "...      ...     ...     ...        ...        ...\n",
       "37608  37608  212444  543841  47.247485  17.644997\n",
       "42763  42763  247444  559841  47.564663  17.849242\n",
       "43290  43290  134444  561841  46.548553  17.897921\n",
       "34117  34117  241444  532841  47.506423  17.492087\n",
       "38186  38186  150444  545841  46.690156  17.685692\n",
       "\n",
       "[21251 rows x 5 columns]"
      ]
     },
     "execution_count": 17,
     "metadata": {},
     "output_type": "execute_result"
    }
   ],
   "source": [
    "G_nodes_df"
   ]
  },
  {
   "cell_type": "code",
   "execution_count": 16,
   "metadata": {
    "scrolled": true
   },
   "outputs": [
    {
     "data": {
      "text/plain": [
       "array([[3.98960000e+04, 2.60444000e+05, 5.50841000e+05, 4.76802703e+01,\n",
       "        1.77267337e+01],\n",
       "       [4.21360000e+04, 2.60444000e+05, 5.57841000e+05, 4.76812973e+01,\n",
       "        1.78199514e+01],\n",
       "       [3.11930000e+04, 1.97444000e+05, 5.23841000e+05, 4.71090502e+01,\n",
       "        1.73850699e+01],\n",
       "       ...,\n",
       "       [4.32900000e+04, 1.34444000e+05, 5.61841000e+05, 4.65485529e+01,\n",
       "        1.78979210e+01],\n",
       "       [3.41170000e+04, 2.41444000e+05, 5.32841000e+05, 4.75064225e+01,\n",
       "        1.74920870e+01],\n",
       "       [3.81860000e+04, 1.50444000e+05, 5.45841000e+05, 4.66901561e+01,\n",
       "        1.76856921e+01]])"
      ]
     },
     "execution_count": 16,
     "metadata": {},
     "output_type": "execute_result"
    }
   ],
   "source": [
    "G_nodes_id"
   ]
  },
  {
   "cell_type": "markdown",
   "metadata": {},
   "source": [
    "##### <font color='red'>42136 </font> is on the list, so it may be correct!"
   ]
  },
  {
   "cell_type": "markdown",
   "metadata": {},
   "source": [
    "#### Automatization of this process"
   ]
  },
  {
   "cell_type": "code",
   "execution_count": 15,
   "metadata": {},
   "outputs": [],
   "source": [
    "def create_day_graph_from_csv( path_to_file ):\n",
    "    df = pd.read_csv( path_to_file, delimiter=',' )\n",
    "    src_part = df.src.values\n",
    "    dst_part = df.dst.values\n",
    "    weight_part = []\n",
    "    \n",
    "    for i in range( df.shape[0] ):\n",
    "        weight_part.append( '{\\'weight\\': '+str( np.round( df.traffic[i], 4 ) )[:7]+'}' )\n",
    "    weight_part = np.array( weight_part )\n",
    "    \n",
    "    grap_to_parse = []\n",
    "    for i in range( src_part.shape[0] ):\n",
    "         grap_to_parse.append( str(src_part[i]) + ' ' + str( dst_part[i]) +' ' + weight_part[i] )\n",
    "            \n",
    "    G = nx.parse_edgelist( grap_to_parse , delimiter=' ', nodetype=int, create_using=nx.Graph())\n",
    "    # graph node id based on cell id\n",
    "    G_nodes_id = np.array( [i[0] for i in G.nodes(True) ] ).astype(int)\n",
    "    G_nodes_df = pd.read_csv( source+'boxids.csv' ).iloc[ G_nodes_id ]\n",
    "    G_nodes_df_header = list( G_nodes_df )\n",
    "    G_nodes_id = G_nodes_df.values\n",
    "    \n",
    "    return G, G_nodes_id, G_nodes_df_header"
   ]
  },
  {
   "cell_type": "code",
   "execution_count": 16,
   "metadata": {},
   "outputs": [],
   "source": [
    "def degree_centrality( g ):\n",
    "    return nx.algorithms.degree_centrality( g )"
   ]
  },
  {
   "cell_type": "code",
   "execution_count": 17,
   "metadata": {},
   "outputs": [],
   "source": [
    "def closeness_centrality( g ):\n",
    "    return nx.algorithms.centrality.closeness_centrality( g )"
   ]
  },
  {
   "cell_type": "code",
   "execution_count": 18,
   "metadata": {},
   "outputs": [],
   "source": [
    "def betweenness_centrality( g ):\n",
    "    return nx.algorithms.centrality.betweenness_centrality( g )"
   ]
  },
  {
   "cell_type": "code",
   "execution_count": 19,
   "metadata": {},
   "outputs": [],
   "source": [
    "def average_neighbor_degree( g ):\n",
    "    return nx.algorithms.average_neighbor_degree( g )"
   ]
  },
  {
   "cell_type": "code",
   "execution_count": 20,
   "metadata": {},
   "outputs": [],
   "source": [
    "def pagerank( g ):\n",
    "    return nx.pagerank( g )"
   ]
  },
  {
   "cell_type": "code",
   "execution_count": 21,
   "metadata": {},
   "outputs": [],
   "source": [
    "def clustering( g ):\n",
    "    return nx.algorithms.cluster.clustering( g )"
   ]
  },
  {
   "cell_type": "code",
   "execution_count": 22,
   "metadata": {},
   "outputs": [],
   "source": [
    "def susceptibility_chi( conn_comps, size ):\n",
    "    return np.sum( np.sort( conn_comps )[:-1]**2 ) / size**2 # np.sum( np.square(conn_comps) ) # leaving out the largest conn. comp."
   ]
  },
  {
   "cell_type": "code",
   "execution_count": 23,
   "metadata": {},
   "outputs": [],
   "source": [
    "def degree_distribution( g, uplim=100, title='Degree distribution' ):\n",
    "    degree_sequence = sorted( [ d for n, d in g.degree() ], reverse=True)  \n",
    "\n",
    "    degreeCount = collections.Counter( degree_sequence )\n",
    "    degree, count = zip( *degreeCount.items() )\n",
    "\n",
    "    plt.figure( num=1, figsize=(8, 6), dpi=100, facecolor='w', edgecolor='k' )\n",
    "    plt.bar(degree, count, color='g')\n",
    "    plt.title(title)\n",
    "    plt.ylabel(\"Frequency\")\n",
    "    plt.xlabel(\"Degree\")\n",
    "    #plt.xlim([0,uplim])\n",
    "    plt.xscale('log')\n",
    "    plt.yscale('log')\n",
    "    plt.show()"
   ]
  },
  {
   "cell_type": "code",
   "execution_count": 24,
   "metadata": {},
   "outputs": [],
   "source": [
    "G, G_nodes_id, G_nodes_df_header = create_day_graph_from_csv( source+files_2019[0] )"
   ]
  },
  {
   "cell_type": "code",
   "execution_count": 25,
   "metadata": {},
   "outputs": [
    {
     "data": {
      "text/plain": [
       "(21251, 56052)"
      ]
     },
     "execution_count": 25,
     "metadata": {},
     "output_type": "execute_result"
    }
   ],
   "source": [
    "len(G.nodes), len(G.edges)"
   ]
  },
  {
   "cell_type": "code",
   "execution_count": 26,
   "metadata": {},
   "outputs": [
    {
     "data": {
      "text/plain": [
       "array([[3.98960000e+04, 2.60444000e+05, 5.50841000e+05, 4.76802703e+01,\n",
       "        1.77267337e+01],\n",
       "       [4.21360000e+04, 2.60444000e+05, 5.57841000e+05, 4.76812973e+01,\n",
       "        1.78199514e+01]])"
      ]
     },
     "execution_count": 26,
     "metadata": {},
     "output_type": "execute_result"
    }
   ],
   "source": [
    "G_nodes_id[:2]"
   ]
  },
  {
   "cell_type": "code",
   "execution_count": 27,
   "metadata": {},
   "outputs": [
    {
     "data": {
      "text/plain": [
       "['boxid', 'eovx', 'eovy', 'lat', 'lon']"
      ]
     },
     "execution_count": 27,
     "metadata": {},
     "output_type": "execute_result"
    }
   ],
   "source": [
    "G_nodes_df_header"
   ]
  },
  {
   "cell_type": "code",
   "execution_count": 28,
   "metadata": {},
   "outputs": [
    {
     "data": {
      "image/png": "[encoded data removed]",
      "text/plain": [
       "<Figure size 800x600 with 1 Axes>"
      ]
     },
     "metadata": {},
     "output_type": "display_data"
    }
   ],
   "source": [
    "degree_distribution( G )"
   ]
  },
  {
   "cell_type": "markdown",
   "metadata": {},
   "source": [
    "#### Convert nx graph to Graph-tool graph to get some processing speed increase\n",
    "\n",
    "https://bbengfort.github.io/snippets/2016/06/23/graph-tool-from-networkx.html (outdated)\n",
    "\n",
    "https://gist.github.com/tomshaffner/7a2df7f9ec6b1be33dd0413897125683 (updated, works with nx 2.5)"
   ]
  },
  {
   "cell_type": "code",
   "execution_count": 29,
   "metadata": {},
   "outputs": [],
   "source": [
    "def get_prop_type(value, key=None):\n",
    "    \"\"\"\n",
    "    Performs typing and value conversion for the graph_tool PropertyMap class.\n",
    "    If a key is provided, it also ensures the key is in a format that can be\n",
    "    used with the PropertyMap. Returns a tuple, (type name, value, key)\n",
    "    \"\"\"\n",
    "    if isinstance(key, str):\n",
    "        # Encode the key as utf-8\n",
    "        key = key.encode('utf-8', errors='replace')\n",
    "\n",
    "    # Deal with the value\n",
    "    if isinstance(value, bool):\n",
    "        tname = 'bool'\n",
    "\n",
    "    elif isinstance(value, int):\n",
    "        tname = 'float'\n",
    "        value = float(value)\n",
    "\n",
    "    elif isinstance(value, float):\n",
    "        tname = 'float'\n",
    "\n",
    "    elif isinstance(value, str):\n",
    "        tname = 'string'\n",
    "        value = value.encode('utf-8', errors='replace')\n",
    "\n",
    "    elif isinstance(value, dict):\n",
    "        tname = 'object'\n",
    "\n",
    "    else:\n",
    "        tname = 'string'\n",
    "        value = str(value)\n",
    "        \n",
    "    #If key is a byte value, decode it to string\n",
    "    try:\n",
    "        key = key.decode('utf-8')\n",
    "    except AttributeError:\n",
    "        pass\n",
    "\n",
    "    return tname, value, key\n",
    "\n",
    "\n",
    "def nx2gt(nxG):\n",
    "    \"\"\"\n",
    "    Converts a networkx graph to a graph-tool graph.\n",
    "    \"\"\"\n",
    "    # Phase 0: Create a directed or undirected graph-tool Graph\n",
    "    gtG = Graph(directed=nxG.is_directed())\n",
    "\n",
    "    # Add the Graph properties as \"internal properties\"\n",
    "    for key, value in list(nxG.graph.items()):\n",
    "        # Convert the value and key into a type for graph-tool\n",
    "        tname, value, key = get_prop_type(value, key)\n",
    "\n",
    "        prop = gtG.new_graph_property(tname) # Create the PropertyMap\n",
    "        \n",
    "        gtG.graph_properties[key] = prop     # Set the PropertyMap\n",
    "        gtG.graph_properties[key] = value    # Set the actual value\n",
    "\n",
    "    # Phase 1: Add the vertex and edge property maps\n",
    "    # Go through all nodes and edges and add seen properties\n",
    "    # Add the node properties first\n",
    "    nprops = set() # cache keys to only add properties once\n",
    "    for node, data in nxG.nodes(data=True):\n",
    "\n",
    "        # Go through all the properties if not seen and add them.\n",
    "        for key, val in list(data.items()):            \n",
    "            if key in nprops: continue # Skip properties already added\n",
    "\n",
    "            # Convert the value and key into a type for graph-tool\n",
    "            tname, _, key  = get_prop_type(val, key)\n",
    "\n",
    "            prop = gtG.new_vertex_property(tname) # Create the PropertyMap\n",
    "            gtG.vertex_properties[key] = prop     # Set the PropertyMap\n",
    "\n",
    "            # Add the key to the already seen properties\n",
    "            nprops.add(key)\n",
    "\n",
    "    # Also add the node id: in NetworkX a node can be any hashable type, but\n",
    "    # in graph-tool node are defined as indices. So we capture any strings\n",
    "    # in a special PropertyMap called 'id' -- modify as needed!\n",
    "    gtG.vertex_properties['id'] = gtG.new_vertex_property('string')\n",
    "\n",
    "    # Add the edge properties second\n",
    "    eprops = set() # cache keys to only add properties once\n",
    "    for src, dst, data in nxG.edges(data=True):\n",
    "\n",
    "        # Go through all the edge properties if not seen and add them.\n",
    "        for key, val in list(data.items()):            \n",
    "            if key in eprops: continue # Skip properties already added\n",
    "\n",
    "            # Convert the value and key into a type for graph-tool\n",
    "            tname, _, key = get_prop_type(val, key)\n",
    "            \n",
    "            prop = gtG.new_edge_property(tname) # Create the PropertyMap\n",
    "            gtG.edge_properties[key] = prop     # Set the PropertyMap\n",
    "\n",
    "            # Add the key to the already seen properties\n",
    "            eprops.add(key)\n",
    "\n",
    "    # Phase 2: Actually add all the nodes and vertices with their properties\n",
    "    # Add the nodes\n",
    "    vertices = {} # vertex mapping for tracking edges later\n",
    "    for node, data in nxG.nodes(data=True):\n",
    "\n",
    "        # Create the vertex and annotate for our edges later\n",
    "        v = gtG.add_vertex()\n",
    "        vertices[node] = v\n",
    "\n",
    "        # Set the vertex properties, not forgetting the id property\n",
    "        data['id'] = str(node)\n",
    "        for key, value in list(data.items()):\n",
    "            gtG.vp[key][v] = value # vp is short for vertex_properties\n",
    "\n",
    "    # Add the edges\n",
    "    for src, dst, data in nxG.edges(data=True):\n",
    "\n",
    "        # Look up the vertex structs from our vertices mapping and add edge.\n",
    "        e = gtG.add_edge(vertices[src], vertices[dst])\n",
    "\n",
    "        # Add the edge properties\n",
    "        for key, value in list(data.items()):\n",
    "            gtG.ep[key][e] = value # ep is short for edge_properties\n",
    "\n",
    "    # Done, finally!\n",
    "    return gtG"
   ]
  },
  {
   "cell_type": "markdown",
   "metadata": {},
   "source": [
    "#### Metrics to be calculated:"
   ]
  },
  {
   "cell_type": "code",
   "execution_count": 30,
   "metadata": {},
   "outputs": [],
   "source": [
    "def calculate_betweenness(g):\n",
    "    vertex, edge = betweenness(g)\n",
    "    return list(vertex)#, list(edge)"
   ]
  },
  {
   "cell_type": "code",
   "execution_count": 31,
   "metadata": {},
   "outputs": [],
   "source": [
    "def calculate_closeness(g):\n",
    "    vertex = closeness(g)\n",
    "    return list(vertex)"
   ]
  },
  {
   "cell_type": "code",
   "execution_count": 32,
   "metadata": {},
   "outputs": [],
   "source": [
    "def calculate_pagerank(g):\n",
    "    vertex = pagerank(g)\n",
    "    return list(vertex)"
   ]
  },
  {
   "cell_type": "code",
   "execution_count": 33,
   "metadata": {},
   "outputs": [],
   "source": [
    "def calculate_eigenvector(g):\n",
    "    largest_num, vertex = eigenvector(g)\n",
    "    return list(vertex)"
   ]
  },
  {
   "cell_type": "code",
   "execution_count": 34,
   "metadata": {},
   "outputs": [],
   "source": [
    "def calculate_katz(g):\n",
    "    vertex = katz(g)\n",
    "    return list(vertex)"
   ]
  },
  {
   "cell_type": "code",
   "execution_count": 35,
   "metadata": {},
   "outputs": [],
   "source": [
    "def calculate_local_clustering(g):\n",
    "    vertex = local_clustering(g)\n",
    "    return list(vertex)"
   ]
  },
  {
   "cell_type": "code",
   "execution_count": 36,
   "metadata": {},
   "outputs": [],
   "source": [
    "def calculate_motifs(g):\n",
    "    mots, counts = motifs( g, k=3 )\n",
    "    return mots, counts"
   ]
  },
  {
   "cell_type": "markdown",
   "metadata": {},
   "source": [
    "#### Select output folder"
   ]
  },
  {
   "cell_type": "code",
   "execution_count": 37,
   "metadata": {},
   "outputs": [],
   "source": [
    "destination = '/mnt/graph_analitics_data/'"
   ]
  },
  {
   "cell_type": "code",
   "execution_count": null,
   "metadata": {
    "scrolled": true
   },
   "outputs": [
    {
     "name": "stderr",
     "output_type": "stream",
     "text": [
      "\r",
      "  0%|          | 0/368 [00:00<?, ?it/s]"
     ]
    },
    {
     "name": "stdout",
     "output_type": "stream",
     "text": [
      "0\n"
     ]
    },
    {
     "name": "stderr",
     "output_type": "stream",
     "text": [
      "\r",
      "  0%|          | 1/368 [00:20<2:06:16, 20.64s/it]"
     ]
    },
    {
     "name": "stdout",
     "output_type": "stream",
     "text": [
      "1\n"
     ]
    },
    {
     "name": "stderr",
     "output_type": "stream",
     "text": [
      "\r",
      "  1%|          | 2/368 [00:35<1:54:30, 18.77s/it]"
     ]
    },
    {
     "name": "stdout",
     "output_type": "stream",
     "text": [
      "2\n"
     ]
    },
    {
     "name": "stderr",
     "output_type": "stream",
     "text": [
      "\r",
      "  1%|          | 3/368 [01:00<2:06:27, 20.79s/it]"
     ]
    },
    {
     "name": "stdout",
     "output_type": "stream",
     "text": [
      "3\n"
     ]
    }
   ],
   "source": [
    "for f in tqdm( range( files_2019.shape[0] ) ):\n",
    "    #print(f)\n",
    "    # box_id (csúcs), földrajzi koordináták, metrikák\n",
    "    savename = destination+'graph_vertex_attr_'+files_2019[f].split('.')[0][-8:]+'.csv'\n",
    "    if not os.path.exists( savename ):\n",
    "\n",
    "        #read graph from csv file\n",
    "        day_csv = pd.read_csv( source+files_2019[f] )\n",
    "        G, G_nodes_id, G_nodes_df_header = create_day_graph_from_csv( path_to_file=source+files_2019[f] )\n",
    "        # convert to Graph-tool graph object\n",
    "        gtG = nx2gt(G)\n",
    "\n",
    "        vertex_attrs = []\n",
    "        vertex_attrs.append( calculate_betweenness(gtG) )\n",
    "        vertex_attrs.append( calculate_closeness(gtG) )\n",
    "        #vertex_attrs.append( calculate_pagerank(gtG) )\n",
    "        vertex_attrs.append( calculate_eigenvector(gtG) )\n",
    "        #vertex_attrs.append( calculate_katz(gtG) )\n",
    "        vertex_attrs.append( calculate_local_clustering(gtG) )\n",
    "\n",
    "        vertex_attrs = np.array(vertex_attrs).T\n",
    "        vertex_attrs = np.concatenate( (G_nodes_id, vertex_attrs), axis=1 )\n",
    "        vertex_df = pd.DataFrame( vertex_attrs, \n",
    "                                  columns=(G_nodes_df_header+[ 'betweenness', 'closeness', 'eigenvector', \"local_clustering\"]) )\n",
    "        vertex_df.to_csv( savename, index=None )\n",
    "        #print(vertex_attrs.shape)\n",
    "    else:\n",
    "        print('Already processed, skipping!') "
   ]
  },
  {
   "cell_type": "raw",
   "metadata": {},
   "source": [
    "day_csv = pd.read_csv( source+files_2019[0] )\n",
    "day_csv"
   ]
  },
  {
   "cell_type": "raw",
   "metadata": {},
   "source": [
    "pd.read_csv( destination+'graph_vertex_attr_'+files_2019[0].split('.')[0][-8:]+'.csv' )"
   ]
  },
  {
   "cell_type": "code",
   "execution_count": null,
   "metadata": {},
   "outputs": [],
   "source": []
  }
 ],
 "metadata": {
  "kernelspec": {
   "display_name": "Python 3",
   "language": "python",
   "name": "python3"
  },
  "language_info": {
   "codemirror_mode": {
    "name": "ipython",
    "version": 3
   },
   "file_extension": ".py",
   "mimetype": "text/x-python",
   "name": "python",
   "nbconvert_exporter": "python",
   "pygments_lexer": "ipython3",
   "version": "3.6.9"
  }
 },
 "nbformat": 4,
 "nbformat_minor": 4
}
