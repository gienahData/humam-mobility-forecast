{
 "cells": [
  {
   "cell_type": "code",
   "execution_count": 1,
   "metadata": {},
   "outputs": [],
   "source": [
    "import pandas as pd\n",
    "import numpy as np\n",
    "import matplotlib.pyplot as plt\n",
    "import networkx as nx\n",
    "import os\n",
    "from tqdm import tqdm\n",
    "import json\n",
    "\n",
    "import collections\n",
    "from random import choice\n",
    "import copy\n",
    "\n",
    "from graph_tool.all import *"
   ]
  },
  {
   "cell_type": "markdown",
   "metadata": {},
   "source": [
    "#### Locate folder"
   ]
  },
  {
   "cell_type": "code",
   "execution_count": 2,
   "metadata": {},
   "outputs": [],
   "source": [
    "#source = '/mnt/lynxkite/data/kite_data/upload/'\n",
    "source = '/mnt/DayGraphData/'"
   ]
  },
  {
   "cell_type": "markdown",
   "metadata": {},
   "source": [
    "#### Read all filenames and sort"
   ]
  },
  {
   "cell_type": "code",
   "execution_count": 3,
   "metadata": {},
   "outputs": [
    {
     "data": {
      "text/plain": [
       "((365,),\n",
       " array(['output_day-graph-by-edgelist_20181201.csv.gz',\n",
       "        'output_day-graph-by-edgelist_20181202.csv.gz',\n",
       "        'output_day-graph-by-edgelist_20181203.csv.gz'], dtype='<U44'),\n",
       " array(['output_day-graph-by-edgelist_20191127.csv.gz',\n",
       "        'output_day-graph-by-edgelist_20191128.csv.gz',\n",
       "        'output_day-graph-by-edgelist_20191129.csv.gz',\n",
       "        'output_day-graph-by-edgelist_20191130.csv.gz'], dtype='<U44'))"
      ]
     },
     "execution_count": 3,
     "metadata": {},
     "output_type": "execute_result"
    }
   ],
   "source": [
    "files = sorted([ i for i in os.listdir(source) if '.csv.gz' in i ])\n",
    "files = np.array( sorted([ i for i in files if 'output_' in i ]) )\n",
    "files.shape, files[:3], files[-4:]"
   ]
  },
  {
   "cell_type": "markdown",
   "metadata": {},
   "source": [
    "#### Select the year 2018"
   ]
  },
  {
   "cell_type": "code",
   "execution_count": 4,
   "metadata": {},
   "outputs": [],
   "source": [
    "# 2018.12.01-2019.11.30"
   ]
  },
  {
   "cell_type": "code",
   "execution_count": 5,
   "metadata": {},
   "outputs": [
    {
     "data": {
      "text/plain": [
       "(array(['output_day-graph-by-edgelist_20181201.csv.gz',\n",
       "        'output_day-graph-by-edgelist_20181202.csv.gz',\n",
       "        'output_day-graph-by-edgelist_20181203.csv.gz'], dtype='<U44'),\n",
       " array(['output_day-graph-by-edgelist_20191128.csv.gz',\n",
       "        'output_day-graph-by-edgelist_20191129.csv.gz',\n",
       "        'output_day-graph-by-edgelist_20191130.csv.gz'], dtype='<U44'),\n",
       " (365,))"
      ]
     },
     "execution_count": 5,
     "metadata": {},
     "output_type": "execute_result"
    }
   ],
   "source": [
    "files[:3], files[-3:], files.shape"
   ]
  },
  {
   "cell_type": "code",
   "execution_count": 8,
   "metadata": {},
   "outputs": [
    {
     "data": {
      "text/html": [
       "<div>\n",
       "<style scoped>\n",
       "    .dataframe tbody tr th:only-of-type {\n",
       "        vertical-align: middle;\n",
       "    }\n",
       "\n",
       "    .dataframe tbody tr th {\n",
       "        vertical-align: top;\n",
       "    }\n",
       "\n",
       "    .dataframe thead th {\n",
       "        text-align: right;\n",
       "    }\n",
       "</style>\n",
       "<table border=\"1\" class=\"dataframe\">\n",
       "  <thead>\n",
       "    <tr style=\"text-align: right;\">\n",
       "      <th></th>\n",
       "      <th>src</th>\n",
       "      <th>dst</th>\n",
       "      <th>weight</th>\n",
       "      <th>src_eovx</th>\n",
       "      <th>src_eovy</th>\n",
       "      <th>dst_eovx</th>\n",
       "      <th>dst_eovy</th>\n",
       "    </tr>\n",
       "  </thead>\n",
       "  <tbody>\n",
       "    <tr>\n",
       "      <th>0</th>\n",
       "      <td>0.0</td>\n",
       "      <td>1.0</td>\n",
       "      <td>35.0</td>\n",
       "      <td>250856.823812</td>\n",
       "      <td>557281.563448</td>\n",
       "      <td>243355.613091</td>\n",
       "      <td>558407.330182</td>\n",
       "    </tr>\n",
       "    <tr>\n",
       "      <th>1</th>\n",
       "      <td>0.0</td>\n",
       "      <td>2.0</td>\n",
       "      <td>36.0</td>\n",
       "      <td>250856.823812</td>\n",
       "      <td>557281.563448</td>\n",
       "      <td>247247.015480</td>\n",
       "      <td>549713.111971</td>\n",
       "    </tr>\n",
       "    <tr>\n",
       "      <th>2</th>\n",
       "      <td>0.0</td>\n",
       "      <td>3.0</td>\n",
       "      <td>11.0</td>\n",
       "      <td>250856.823812</td>\n",
       "      <td>557281.563448</td>\n",
       "      <td>248652.682532</td>\n",
       "      <td>551070.875000</td>\n",
       "    </tr>\n",
       "    <tr>\n",
       "      <th>3</th>\n",
       "      <td>0.0</td>\n",
       "      <td>228.0</td>\n",
       "      <td>1.0</td>\n",
       "      <td>250856.823812</td>\n",
       "      <td>557281.563448</td>\n",
       "      <td>210082.546182</td>\n",
       "      <td>529989.300280</td>\n",
       "    </tr>\n",
       "    <tr>\n",
       "      <th>4</th>\n",
       "      <td>0.0</td>\n",
       "      <td>724.0</td>\n",
       "      <td>1.0</td>\n",
       "      <td>250856.823812</td>\n",
       "      <td>557281.563448</td>\n",
       "      <td>196544.749026</td>\n",
       "      <td>598525.357854</td>\n",
       "    </tr>\n",
       "  </tbody>\n",
       "</table>\n",
       "</div>"
      ],
      "text/plain": [
       "   src    dst  weight       src_eovx       src_eovy       dst_eovx  \\\n",
       "0  0.0    1.0    35.0  250856.823812  557281.563448  243355.613091   \n",
       "1  0.0    2.0    36.0  250856.823812  557281.563448  247247.015480   \n",
       "2  0.0    3.0    11.0  250856.823812  557281.563448  248652.682532   \n",
       "3  0.0  228.0     1.0  250856.823812  557281.563448  210082.546182   \n",
       "4  0.0  724.0     1.0  250856.823812  557281.563448  196544.749026   \n",
       "\n",
       "        dst_eovy  \n",
       "0  558407.330182  \n",
       "1  549713.111971  \n",
       "2  551070.875000  \n",
       "3  529989.300280  \n",
       "4  598525.357854  "
      ]
     },
     "execution_count": 8,
     "metadata": {},
     "output_type": "execute_result"
    }
   ],
   "source": [
    "df = pd.read_csv( source+files[1], delimiter=',' )\n",
    "df.head()"
   ]
  },
  {
   "cell_type": "code",
   "execution_count": 9,
   "metadata": {
    "scrolled": true
   },
   "outputs": [
    {
     "data": {
      "text/plain": [
       "(4320620, 7)"
      ]
     },
     "execution_count": 9,
     "metadata": {},
     "output_type": "execute_result"
    }
   ],
   "source": [
    "df.shape"
   ]
  },
  {
   "cell_type": "markdown",
   "metadata": {},
   "source": [
    "#### Preprocess data to be able to parse it"
   ]
  },
  {
   "cell_type": "code",
   "execution_count": null,
   "metadata": {},
   "outputs": [],
   "source": [
    "src_part = df.src.values\n",
    "dst_part = df.dst.values\n",
    "weight_part = []\n",
    "for i in tqdm( range( df.shape[0] ) ):\n",
    "    weight_part.append( '{\\'weight\\': '+str( int( df.weight.values[i] ) )[:7]+'}' )\n",
    "weight_part = np.array( weight_part )\n",
    "src_part[:3], dst_part[:3], weight_part[:3]"
   ]
  },
  {
   "cell_type": "code",
   "execution_count": null,
   "metadata": {},
   "outputs": [],
   "source": [
    "grap_to_parse = []\n",
    "for i in tqdm( range( src_part.shape[0] ) ):\n",
    "     grap_to_parse.append( str( int(src_part[i]) ) + ' ' + str( int(dst_part[i]) ) +' ' + weight_part[i] )"
   ]
  },
  {
   "cell_type": "code",
   "execution_count": null,
   "metadata": {},
   "outputs": [],
   "source": [
    "grap_to_parse[:5]"
   ]
  },
  {
   "cell_type": "markdown",
   "metadata": {},
   "source": [
    "#### Creation of graph"
   ]
  },
  {
   "cell_type": "code",
   "execution_count": null,
   "metadata": {},
   "outputs": [],
   "source": [
    "G = nx.parse_edgelist( grap_to_parse , delimiter=' ', nodetype=int, create_using=nx.Graph())"
   ]
  },
  {
   "cell_type": "markdown",
   "metadata": {},
   "source": [
    "#### Check if graph is correct"
   ]
  },
  {
   "cell_type": "code",
   "execution_count": 30,
   "metadata": {
    "scrolled": true
   },
   "outputs": [
    {
     "data": {
      "text/plain": [
       "1"
      ]
     },
     "execution_count": 30,
     "metadata": {},
     "output_type": "execute_result"
    }
   ],
   "source": [
    "[ i for i in nx.all_neighbors( G, 0) ].index(2)"
   ]
  },
  {
   "cell_type": "code",
   "execution_count": 33,
   "metadata": {
    "scrolled": false
   },
   "outputs": [
    {
     "data": {
      "text/html": [
       "<div>\n",
       "<style scoped>\n",
       "    .dataframe tbody tr th:only-of-type {\n",
       "        vertical-align: middle;\n",
       "    }\n",
       "\n",
       "    .dataframe tbody tr th {\n",
       "        vertical-align: top;\n",
       "    }\n",
       "\n",
       "    .dataframe thead th {\n",
       "        text-align: right;\n",
       "    }\n",
       "</style>\n",
       "<table border=\"1\" class=\"dataframe\">\n",
       "  <thead>\n",
       "    <tr style=\"text-align: right;\">\n",
       "      <th></th>\n",
       "      <th>src</th>\n",
       "      <th>dst</th>\n",
       "      <th>weight</th>\n",
       "      <th>src_eovx</th>\n",
       "      <th>src_eovy</th>\n",
       "      <th>dst_eovx</th>\n",
       "      <th>dst_eovy</th>\n",
       "    </tr>\n",
       "  </thead>\n",
       "  <tbody>\n",
       "    <tr>\n",
       "      <th>0</th>\n",
       "      <td>0.0</td>\n",
       "      <td>1.0</td>\n",
       "      <td>69.0</td>\n",
       "      <td>250862.634479</td>\n",
       "      <td>557287.470425</td>\n",
       "      <td>243342.896915</td>\n",
       "      <td>558374.948094</td>\n",
       "    </tr>\n",
       "    <tr>\n",
       "      <th>1</th>\n",
       "      <td>0.0</td>\n",
       "      <td>2.0</td>\n",
       "      <td>58.0</td>\n",
       "      <td>250862.634479</td>\n",
       "      <td>557287.470425</td>\n",
       "      <td>247258.895415</td>\n",
       "      <td>549716.625451</td>\n",
       "    </tr>\n",
       "    <tr>\n",
       "      <th>2</th>\n",
       "      <td>0.0</td>\n",
       "      <td>3.0</td>\n",
       "      <td>28.0</td>\n",
       "      <td>250862.634479</td>\n",
       "      <td>557287.470425</td>\n",
       "      <td>248646.583622</td>\n",
       "      <td>551066.281055</td>\n",
       "    </tr>\n",
       "    <tr>\n",
       "      <th>3</th>\n",
       "      <td>0.0</td>\n",
       "      <td>716.0</td>\n",
       "      <td>1.0</td>\n",
       "      <td>250862.634479</td>\n",
       "      <td>557287.470425</td>\n",
       "      <td>205384.812500</td>\n",
       "      <td>602172.500000</td>\n",
       "    </tr>\n",
       "    <tr>\n",
       "      <th>4</th>\n",
       "      <td>0.0</td>\n",
       "      <td>980.0</td>\n",
       "      <td>1.0</td>\n",
       "      <td>250862.634479</td>\n",
       "      <td>557287.470425</td>\n",
       "      <td>207224.935081</td>\n",
       "      <td>592575.121099</td>\n",
       "    </tr>\n",
       "  </tbody>\n",
       "</table>\n",
       "</div>"
      ],
      "text/plain": [
       "   src    dst  weight       src_eovx       src_eovy       dst_eovx  \\\n",
       "0  0.0    1.0    69.0  250862.634479  557287.470425  243342.896915   \n",
       "1  0.0    2.0    58.0  250862.634479  557287.470425  247258.895415   \n",
       "2  0.0    3.0    28.0  250862.634479  557287.470425  248646.583622   \n",
       "3  0.0  716.0     1.0  250862.634479  557287.470425  205384.812500   \n",
       "4  0.0  980.0     1.0  250862.634479  557287.470425  207224.935081   \n",
       "\n",
       "        dst_eovy  \n",
       "0  558374.948094  \n",
       "1  549716.625451  \n",
       "2  551066.281055  \n",
       "3  602172.500000  \n",
       "4  592575.121099  "
      ]
     },
     "execution_count": 33,
     "metadata": {},
     "output_type": "execute_result"
    }
   ],
   "source": [
    "df.head()"
   ]
  },
  {
   "cell_type": "markdown",
   "metadata": {},
   "source": [
    "#### Automatization of this process"
   ]
  },
  {
   "cell_type": "code",
   "execution_count": 6,
   "metadata": {},
   "outputs": [],
   "source": [
    "def create_day_graph_from_csv( path_to_file ):\n",
    "    df = pd.read_csv( path_to_file, delimiter=',' )\n",
    "    src_part = df.src.values\n",
    "    dst_part = df.dst.values\n",
    "    weight_part = []\n",
    "    for i in tqdm( range( df.shape[0] ) ):\n",
    "        weight_part.append( '{\\'weight\\': '+str( int( df.weight.values[i] ) )[:7]+'}' )\n",
    "    weight_part = np.array( weight_part )\n",
    "    \n",
    "    grap_to_parse = []\n",
    "    for i in tqdm( range( src_part.shape[0] ) ):\n",
    "         grap_to_parse.append( str( int(src_part[i]) ) + ' ' + str( int(dst_part[i]) ) +' ' + weight_part[i] )\n",
    "    \n",
    "    G = nx.parse_edgelist( grap_to_parse , delimiter=' ', nodetype=int, create_using=nx.Graph())\n",
    "    # graph node locations\n",
    "    G_nodes_id = df.iloc[:, 3:].values\n",
    "    G_nodes_df_header = list( df.iloc[:, 3:] )\n",
    "    \n",
    "    return G, G_nodes_id, G_nodes_df_header"
   ]
  },
  {
   "cell_type": "markdown",
   "metadata": {},
   "source": [
    "##### Testing"
   ]
  },
  {
   "cell_type": "raw",
   "metadata": {},
   "source": [
    "G, G_nodes_id, G_nodes_df_header = create_day_graph_from_csv( source+files[1] )"
   ]
  },
  {
   "cell_type": "code",
   "execution_count": null,
   "metadata": {},
   "outputs": [],
   "source": [
    "len(G.nodes), len(G.edges)"
   ]
  },
  {
   "cell_type": "code",
   "execution_count": null,
   "metadata": {},
   "outputs": [],
   "source": [
    "G_nodes_id[:2]"
   ]
  },
  {
   "cell_type": "code",
   "execution_count": null,
   "metadata": {},
   "outputs": [],
   "source": [
    "G_nodes_df_header"
   ]
  },
  {
   "cell_type": "markdown",
   "metadata": {},
   "source": [
    "#### Convert nx graph to Graph-tool graph to get some processing speed increase\n",
    "\n",
    "https://bbengfort.github.io/snippets/2016/06/23/graph-tool-from-networkx.html (outdated)\n",
    "\n",
    "https://gist.github.com/tomshaffner/7a2df7f9ec6b1be33dd0413897125683 (updated, works with nx 2.5)"
   ]
  },
  {
   "cell_type": "code",
   "execution_count": 7,
   "metadata": {},
   "outputs": [],
   "source": [
    "def get_prop_type(value, key=None):\n",
    "    \"\"\"\n",
    "    Performs typing and value conversion for the graph_tool PropertyMap class.\n",
    "    If a key is provided, it also ensures the key is in a format that can be\n",
    "    used with the PropertyMap. Returns a tuple, (type name, value, key)\n",
    "    \"\"\"\n",
    "    if isinstance(key, str):\n",
    "        # Encode the key as utf-8\n",
    "        key = key.encode('utf-8', errors='replace')\n",
    "\n",
    "    # Deal with the value\n",
    "    if isinstance(value, bool):\n",
    "        tname = 'bool'\n",
    "\n",
    "    elif isinstance(value, int):\n",
    "        tname = 'float'\n",
    "        value = float(value)\n",
    "\n",
    "    elif isinstance(value, float):\n",
    "        tname = 'float'\n",
    "\n",
    "    elif isinstance(value, str):\n",
    "        tname = 'string'\n",
    "        value = value.encode('utf-8', errors='replace')\n",
    "\n",
    "    elif isinstance(value, dict):\n",
    "        tname = 'object'\n",
    "\n",
    "    else:\n",
    "        tname = 'string'\n",
    "        value = str(value)\n",
    "        \n",
    "    #If key is a byte value, decode it to string\n",
    "    try:\n",
    "        key = key.decode('utf-8')\n",
    "    except AttributeError:\n",
    "        pass\n",
    "\n",
    "    return tname, value, key\n",
    "\n",
    "\n",
    "def nx2gt(nxG):\n",
    "    \"\"\"\n",
    "    Converts a networkx graph to a graph-tool graph.\n",
    "    \"\"\"\n",
    "    # Phase 0: Create a directed or undirected graph-tool Graph\n",
    "    gtG = Graph(directed=nxG.is_directed())\n",
    "\n",
    "    # Add the Graph properties as \"internal properties\"\n",
    "    for key, value in list(nxG.graph.items()):\n",
    "        # Convert the value and key into a type for graph-tool\n",
    "        tname, value, key = get_prop_type(value, key)\n",
    "\n",
    "        prop = gtG.new_graph_property(tname) # Create the PropertyMap\n",
    "        \n",
    "        gtG.graph_properties[key] = prop     # Set the PropertyMap\n",
    "        gtG.graph_properties[key] = value    # Set the actual value\n",
    "\n",
    "    # Phase 1: Add the vertex and edge property maps\n",
    "    # Go through all nodes and edges and add seen properties\n",
    "    # Add the node properties first\n",
    "    nprops = set() # cache keys to only add properties once\n",
    "    for node, data in nxG.nodes(data=True):\n",
    "\n",
    "        # Go through all the properties if not seen and add them.\n",
    "        for key, val in list(data.items()):            \n",
    "            if key in nprops: continue # Skip properties already added\n",
    "\n",
    "            # Convert the value and key into a type for graph-tool\n",
    "            tname, _, key  = get_prop_type(val, key)\n",
    "\n",
    "            prop = gtG.new_vertex_property(tname) # Create the PropertyMap\n",
    "            gtG.vertex_properties[key] = prop     # Set the PropertyMap\n",
    "\n",
    "            # Add the key to the already seen properties\n",
    "            nprops.add(key)\n",
    "\n",
    "    # Also add the node id: in NetworkX a node can be any hashable type, but\n",
    "    # in graph-tool node are defined as indices. So we capture any strings\n",
    "    # in a special PropertyMap called 'id' -- modify as needed!\n",
    "    gtG.vertex_properties['id'] = gtG.new_vertex_property('string')\n",
    "\n",
    "    # Add the edge properties second\n",
    "    eprops = set() # cache keys to only add properties once\n",
    "    for src, dst, data in nxG.edges(data=True):\n",
    "\n",
    "        # Go through all the edge properties if not seen and add them.\n",
    "        for key, val in list(data.items()):            \n",
    "            if key in eprops: continue # Skip properties already added\n",
    "\n",
    "            # Convert the value and key into a type for graph-tool\n",
    "            tname, _, key = get_prop_type(val, key)\n",
    "            \n",
    "            prop = gtG.new_edge_property(tname) # Create the PropertyMap\n",
    "            gtG.edge_properties[key] = prop     # Set the PropertyMap\n",
    "\n",
    "            # Add the key to the already seen properties\n",
    "            eprops.add(key)\n",
    "\n",
    "    # Phase 2: Actually add all the nodes and vertices with their properties\n",
    "    # Add the nodes\n",
    "    vertices = {} # vertex mapping for tracking edges later\n",
    "    for node, data in nxG.nodes(data=True):\n",
    "\n",
    "        # Create the vertex and annotate for our edges later\n",
    "        v = gtG.add_vertex()\n",
    "        vertices[node] = v\n",
    "\n",
    "        # Set the vertex properties, not forgetting the id property\n",
    "        data['id'] = str(node)\n",
    "        for key, value in list(data.items()):\n",
    "            gtG.vp[key][v] = value # vp is short for vertex_properties\n",
    "\n",
    "    # Add the edges\n",
    "    for src, dst, data in nxG.edges(data=True):\n",
    "\n",
    "        # Look up the vertex structs from our vertices mapping and add edge.\n",
    "        e = gtG.add_edge(vertices[src], vertices[dst])\n",
    "\n",
    "        # Add the edge properties\n",
    "        for key, value in list(data.items()):\n",
    "            gtG.ep[key][e] = value # ep is short for edge_properties\n",
    "\n",
    "    # Done, finally!\n",
    "    return gtG"
   ]
  },
  {
   "cell_type": "markdown",
   "metadata": {},
   "source": [
    "#### Test functions"
   ]
  },
  {
   "cell_type": "markdown",
   "metadata": {},
   "source": [
    "##### Load graph from csv"
   ]
  },
  {
   "cell_type": "code",
   "execution_count": 9,
   "metadata": {},
   "outputs": [
    {
     "name": "stderr",
     "output_type": "stream",
     "text": [
      "100%|██████████| 4320620/4320620 [00:30<00:00, 143172.13it/s]\n",
      "100%|██████████| 4320620/4320620 [00:08<00:00, 491325.95it/s]\n"
     ]
    }
   ],
   "source": [
    "#read graph from csv file\n",
    "day_csv = pd.read_csv( source+files[1] )\n",
    "G, G_nodes_id, G_nodes_df_header = create_day_graph_from_csv( path_to_file=source+files[0] )\n",
    "# convert to Graph-tool graph object\n",
    "gtG = nx2gt(G)"
   ]
  },
  {
   "cell_type": "markdown",
   "metadata": {},
   "source": [
    "#### Or load into graph tool directly\n",
    "\n",
    "https://graph-tool.skewed.de/static/doc/graph_tool.html#graph_tool.load_graph"
   ]
  },
  {
   "cell_type": "markdown",
   "metadata": {},
   "source": [
    "graph_tool.load_graph_from_csv(file_name, directed=False, eprop_types=None, eprop_names=None, hashed=True, hash_type='string', skip_first=False, strip_whitespace=True, ecols=0, 1, csv_options={'delimiter': ',', 'quotechar': '\"'})[source]\n",
    "\n",
    "https://stackoverflow.com/questions/54586235/load-an-edge-list-into-graph-tool"
   ]
  },
  {
   "cell_type": "code",
   "execution_count": 10,
   "metadata": {
    "scrolled": false
   },
   "outputs": [
    {
     "data": {
      "text/plain": [
       "<Graph object, undirected, with 35953 vertices and 3330138 edges, 1 internal vertex property, 1 internal edge property, at 0x7f2969e09fd0>"
      ]
     },
     "execution_count": 10,
     "metadata": {},
     "output_type": "execute_result"
    }
   ],
   "source": [
    "gtG"
   ]
  },
  {
   "cell_type": "code",
   "execution_count": 20,
   "metadata": {
    "scrolled": true
   },
   "outputs": [
    {
     "data": {
      "text/plain": [
       "<EdgePropertyMap object with value type 'double', for Graph 0x7f8b352d6dd8, at 0x7f89ff626c50>"
      ]
     },
     "execution_count": 20,
     "metadata": {},
     "output_type": "execute_result"
    }
   ],
   "source": [
    "gtG._Graph__edge_properties['weight']"
   ]
  },
  {
   "cell_type": "code",
   "execution_count": 21,
   "metadata": {
    "scrolled": true
   },
   "outputs": [
    {
     "data": {
      "text/plain": [
       "{'num_edges': 4605811}"
      ]
     },
     "execution_count": 21,
     "metadata": {},
     "output_type": "execute_result"
    }
   ],
   "source": [
    "{ 'num_edges': len(list(gtG._Graph__edge_properties['weight'])) }"
   ]
  },
  {
   "cell_type": "code",
   "execution_count": 22,
   "metadata": {
    "scrolled": true
   },
   "outputs": [
    {
     "data": {
      "text/plain": [
       "<VertexPropertyMap object with value type 'string', for Graph 0x7f8b352d6dd8, at 0x7f8b44065a90>"
      ]
     },
     "execution_count": 22,
     "metadata": {},
     "output_type": "execute_result"
    }
   ],
   "source": [
    "gtG._Graph__vertex_properties['id']"
   ]
  },
  {
   "cell_type": "code",
   "execution_count": 67,
   "metadata": {},
   "outputs": [
    {
     "data": {
      "text/plain": [
       "{'num_vertices': 35953}"
      ]
     },
     "execution_count": 67,
     "metadata": {},
     "output_type": "execute_result"
    }
   ],
   "source": [
    "{ 'num_vertices': len(list(gtG._Graph__vertex_properties['id'])) }"
   ]
  },
  {
   "cell_type": "markdown",
   "metadata": {},
   "source": [
    "##### Generate random graph based on the configuration model"
   ]
  },
  {
   "cell_type": "code",
   "execution_count": 11,
   "metadata": {
    "scrolled": true
   },
   "outputs": [
    {
     "data": {
      "text/plain": [
       "78"
      ]
     },
     "execution_count": 11,
     "metadata": {},
     "output_type": "execute_result"
    }
   ],
   "source": [
    "gtG_rnd = copy.deepcopy(gtG)\n",
    "random_rewire( gtG_rnd, parallel_edges=True, self_loops=True )"
   ]
  },
  {
   "cell_type": "markdown",
   "metadata": {},
   "source": [
    "#### Metrics to be calculated:"
   ]
  },
  {
   "cell_type": "code",
   "execution_count": 12,
   "metadata": {},
   "outputs": [],
   "source": [
    "def calculate_num_vertices(g):\n",
    "    return { 'value': len(list(g._Graph__vertex_properties['id'])) }"
   ]
  },
  {
   "cell_type": "code",
   "execution_count": 13,
   "metadata": {},
   "outputs": [],
   "source": [
    "def calculate_num_edges(g):\n",
    "    return { 'value': len(list(g._Graph__edge_properties['weight'])) }"
   ]
  },
  {
   "cell_type": "code",
   "execution_count": 14,
   "metadata": {},
   "outputs": [],
   "source": [
    "def calculate_assortativity(g):\n",
    "    value, var = assortativity( g, 'total', eweight=g._Graph__edge_properties['weight'] )\n",
    "    return {'value': value, 'variance': var }"
   ]
  },
  {
   "cell_type": "code",
   "execution_count": 15,
   "metadata": {},
   "outputs": [],
   "source": [
    "def calculate_scalar_assortativity(g):\n",
    "    value, var = scalar_assortativity( g, 'total', eweight=g._Graph__edge_properties['weight'] )\n",
    "    return {'value': value, 'variance': var }"
   ]
  },
  {
   "cell_type": "code",
   "execution_count": 16,
   "metadata": {},
   "outputs": [],
   "source": [
    "def calculate_pseudo_diameter(g):\n",
    "    value, _ = pseudo_diameter(g, weights=g._Graph__edge_properties['weight'])\n",
    "    return {'value': int(value) }"
   ]
  },
  {
   "cell_type": "raw",
   "metadata": {},
   "source": [
    "# runs very slow!\n",
    "def calculate_sum_of_max_cliques(g):\n",
    "    return sum(1 for c in max_cliques(g))"
   ]
  },
  {
   "cell_type": "code",
   "execution_count": 17,
   "metadata": {},
   "outputs": [],
   "source": [
    "def calculate_min_spanning_tree(g):\n",
    "    return {'num_edges_involved': sum( list(min_spanning_tree(g, weights=g._Graph__edge_properties['weight'])) ) }"
   ]
  },
  {
   "cell_type": "raw",
   "metadata": {},
   "source": [
    "def calculate_vertex_percolation_old(g):\n",
    "    \"\"\"\n",
    "    Largest connected components relative size : fraction of removed vertices\n",
    "    \"\"\"\n",
    "    vertices = sorted( [v for v in g.vertices()], key=lambda v: v.out_degree() )\n",
    "    sizes, comp = vertex_percolation(g, vertices)\n",
    "    np.random.shuffle(vertices)\n",
    "    sizes2, comp = vertex_percolation(g, vertices)\n",
    "    fractions_remaining = np.array( [ 1.0, 0.9999, 0.999, \n",
    "                                      0.99, 0.9, 0.75, 0.6, 0.5, 0.4, 0.25,\n",
    "                                      0.1, 0.01, 0.001, 0.0001 ] )\n",
    "    \n",
    "    #print(sizes[:10], sizes[-10:], sizes.shape)\n",
    "    items_direct = {}\n",
    "    for i in fractions_remaining:\n",
    "        idx = np.argmax( (sizes/sizes[-1]) >= i ) # where only fraction remaining\n",
    "        vert_frac_removed = ( len(vertices)-(idx+1) ) / len(vertices)\n",
    "        #vert_frac_remaining = (idx+1) / len(vertices)\n",
    "        #vert_size_comp = sizes[idx] / len(vertices)\n",
    "        items_direct[str(i)] = vert_frac_removed\n",
    "    items_random = {}\n",
    "    for i in fractions_remaining:\n",
    "        idx = np.argmax( (sizes2/sizes2[-1]) >= i ) # where only fraction remaining\n",
    "        vert_frac_removed = ( len(vertices)-(idx+1) ) / len(vertices)\n",
    "        #vert_frac_remaining = (idx+1) / len(vertices)\n",
    "        #vert_size_comp = sizes[idx] / len(vertices)\n",
    "        items_random[str(i)] =  vert_frac_removed\n",
    "    \n",
    "    return { 'directed': items_direct, 'random': items_random }"
   ]
  },
  {
   "cell_type": "raw",
   "metadata": {},
   "source": [
    "def calculate_edge_percolation_old(g):\n",
    "    \"\"\"\n",
    "    Largest connected components relative size : fraction of removed edges\n",
    "    \"\"\"\n",
    "    # the (largest) connected component is given by the number of connected nodes\n",
    "    edges = sorted([(e.source(), e.target()) for e in g.edges()],\n",
    "                   key=lambda e: e[0].out_degree() * e[1].out_degree())\n",
    "    vertices = sorted( [v for v in g.vertices()], key=lambda v: v.out_degree() )\n",
    "    sizes, comp = edge_percolation(g, edges)\n",
    "    np.random.shuffle(edges)\n",
    "    sizes2, comp = edge_percolation(g, edges)\n",
    "    \n",
    "    # second largest\n",
    "    #sizes_sec, comp = edge_percolation(g, edges, second=True)\n",
    "    #np.random.shuffle(edges)\n",
    "    #sizes2_sec, comp = edge_percolation(g, edges, second=True)\n",
    "    \n",
    "    fractions_remaining = np.array( [ 1.0, 0.9999, 0.999, \n",
    "                                      0.99, 0.9, 0.75, 0.6, 0.5, 0.4, 0.25,\n",
    "                                      0.1, 0.01, 0.001, 0.0001 ] )\n",
    "    \n",
    "    print(sizes[:10], sizes[-10:], sizes.shape)\n",
    "    #print(sizes_sec[:10], sizes_sec[-10:], sizes_sec.shape)\n",
    "    items_direct = {}\n",
    "    for i in fractions_remaining:\n",
    "        idx = np.argmax( (sizes/sizes[-1]) >= i ) # where only fraction remaining\n",
    "        edge_frac_removed = ( len(edges)-(idx+1) ) / len(edges)\n",
    "        #edge_frac_remaining = (idx+1) #/ len(edges)\n",
    "        items_direct[str(i)] = [ idx, edge_frac_removed, sizes[idx], sizes[idx+1] ]\n",
    "    items_random = {}\n",
    "    for i in fractions_remaining:\n",
    "        idx = np.argmax( (sizes2/sizes2[-1]) >= i ) # where only fraction remaining\n",
    "        edge_frac_removed = ( len(edges)-(idx+1) ) / len(edges)\n",
    "        #edge_frac_remaining = (idx+1) #/ len(edges)\n",
    "        items_random[str(i)] = [ idx, edge_frac_removed, sizes[idx-1], sizes[idx], sizes[idx+1] ]\n",
    "    \n",
    "    return { 'directed': items_direct, 'random': items_random }"
   ]
  },
  {
   "cell_type": "code",
   "execution_count": 324,
   "metadata": {},
   "outputs": [],
   "source": [
    "def calculate_vertex_percolation(g):\n",
    "    \"\"\"\n",
    "    Largest connected components relative size : fraction of removed vertices\n",
    "    \"\"\"\n",
    "    vertices = sorted( [v for v in g.vertices()], key=lambda v: v.out_degree() )\n",
    "    sizes, comp = vertex_percolation(g, vertices)\n",
    "    np.random.shuffle(vertices)\n",
    "    sizes2, comp = vertex_percolation(g, vertices)\n",
    "    \n",
    "    # generate indices\n",
    "    left_idx = np.arange( 0,  int(sizes.shape[0]/10), int(sizes.shape[0]/100) )\n",
    "    middle_idx =np.arange( int(sizes.shape[0]/10), int(sizes.shape[0]*9/10), int(sizes.shape[0]/10) )\n",
    "    right_idx = np.arange( int(sizes.shape[0]*9/10), int(sizes.shape[0]), int(sizes.shape[0]/100) )[:-1]\n",
    "    rightmost_idx = np.arange( int(sizes.shape[0]*990/1000), int(sizes.shape[0]), int(sizes.shape[0]/1000) )\n",
    "    all_idx = np.concatenate( (left_idx, middle_idx, right_idx, rightmost_idx) )\n",
    "    vert_fracs = np.round( all_idx / sizes.shape[0], 3 )\n",
    "    all_idx = sizes.shape[0]-1-all_idx # make idx to mean the removed fraction\n",
    "\n",
    "    # at fraction of removed vertices the relative size of the largest connected comp.\n",
    "    items_direct = dict( zip( vert_fracs, sizes[all_idx]/len(vertices) ) )\n",
    "    items_random = dict( zip( vert_fracs, sizes2[all_idx]/len(vertices) ) )\n",
    "    return { 'directed': items_direct, 'random': items_random }"
   ]
  },
  {
   "cell_type": "code",
   "execution_count": 325,
   "metadata": {},
   "outputs": [],
   "source": [
    "def calculate_edge_percolation(g):\n",
    "    \"\"\"\n",
    "    Largest connected components relative size : fraction of removed edges\n",
    "    \"\"\"    \n",
    "    # the (largest) connected component is given by the number of connected nodes\n",
    "    edges = sorted([(e.source(), e.target()) for e in g.edges()],\n",
    "                   key=lambda e: e[0].out_degree() * e[1].out_degree())\n",
    "    vertices = sorted( [v for v in g.vertices()], key=lambda v: v.out_degree() )\n",
    "    sizes, comp = edge_percolation(g, edges)\n",
    "    np.random.shuffle(edges)\n",
    "    sizes2, comp = edge_percolation(g, edges)\n",
    "\n",
    "    # generate indices\n",
    "    left_idx = np.arange( 0,  int(sizes.shape[0]/10), int(sizes.shape[0]/100) )\n",
    "    middle_idx =np.arange( int(sizes.shape[0]/10), int(sizes.shape[0]*9/10), int(sizes.shape[0]/10) )\n",
    "    right_idx = np.arange( int(sizes.shape[0]*9/10), int(sizes.shape[0]), int(sizes.shape[0]/100) )[:-1]\n",
    "    rightmost_idx = np.arange( int(sizes.shape[0]*990/1000), int(sizes.shape[0]), int(sizes.shape[0]/1000) )\n",
    "    all_idx = np.concatenate( (left_idx, middle_idx, right_idx, rightmost_idx) )\n",
    "    edge_fracs = np.round( all_idx / sizes.shape[0], 3 )\n",
    "    all_idx = sizes.shape[0]-1-all_idx # make idx to mean the removed fraction\n",
    "\n",
    "    # at fraction of removed edges the relative size of the largest connected comp.\n",
    "    items_direct = dict( zip( edge_fracs, sizes[all_idx]/len(vertices) ) )\n",
    "    items_random = dict( zip( edge_fracs, sizes2[all_idx]/len(vertices) ) )\n",
    "    return { 'directed': items_direct, 'random': items_random }"
   ]
  },
  {
   "cell_type": "code",
   "execution_count": 328,
   "metadata": {},
   "outputs": [],
   "source": [
    "def calculate_global_clustering(g):\n",
    "    values, num_triangs, num_triples = global_clustering(g, weight=g._Graph__edge_properties['weight'], ret_counts=True)\n",
    "    return { 'value': values[0], 'std': values[1], \n",
    "             'number_of_triangs': int(num_triangs), 'number_of_triples': int(num_triples) }"
   ]
  },
  {
   "cell_type": "markdown",
   "metadata": {},
   "source": [
    "#### New calculations, tests"
   ]
  },
  {
   "cell_type": "code",
   "execution_count": 329,
   "metadata": {
    "scrolled": true
   },
   "outputs": [
    {
     "data": {
      "text/plain": [
       "({'value': 0.0008505774325720241, 'variance': 0.0001444227608011738},\n",
       " {'value': -0.00010903008989085655, 'variance': 9.234798396524232e-05})"
      ]
     },
     "execution_count": 329,
     "metadata": {},
     "output_type": "execute_result"
    }
   ],
   "source": [
    "calculate_assortativity(gtG), calculate_assortativity(gtG_rnd)"
   ]
  },
  {
   "cell_type": "code",
   "execution_count": 330,
   "metadata": {
    "scrolled": true
   },
   "outputs": [
    {
     "data": {
      "text/plain": [
       "({'value': 0.381835568852317, 'variance': 0.010027142974314564},\n",
       " {'value': -0.005856475871605445, 'variance': 0.004433255811677699})"
      ]
     },
     "execution_count": 330,
     "metadata": {},
     "output_type": "execute_result"
    }
   ],
   "source": [
    "calculate_scalar_assortativity(gtG), calculate_scalar_assortativity(gtG_rnd)"
   ]
  },
  {
   "cell_type": "code",
   "execution_count": 332,
   "metadata": {
    "scrolled": true
   },
   "outputs": [
    {
     "data": {
      "text/plain": [
       "({'value': 29}, {'value': 30})"
      ]
     },
     "execution_count": 332,
     "metadata": {},
     "output_type": "execute_result"
    }
   ],
   "source": [
    "calculate_pseudo_diameter(gtG), calculate_pseudo_diameter(gtG_rnd)"
   ]
  },
  {
   "cell_type": "code",
   "execution_count": 333,
   "metadata": {
    "scrolled": true
   },
   "outputs": [
    {
     "data": {
      "text/plain": [
       "({'num_edges_involved': 35952}, {'num_edges_involved': 35952})"
      ]
     },
     "execution_count": 333,
     "metadata": {},
     "output_type": "execute_result"
    }
   ],
   "source": [
    "calculate_min_spanning_tree(gtG), calculate_min_spanning_tree(gtG_rnd)"
   ]
  },
  {
   "cell_type": "code",
   "execution_count": 334,
   "metadata": {
    "scrolled": true
   },
   "outputs": [
    {
     "data": {
      "text/plain": [
       "({'directed': {0.0: 1.0,\n",
       "   0.01: 0.9898756710149361,\n",
       "   0.02: 0.9798347843017272,\n",
       "   0.03: 0.9697938975885183,\n",
       "   0.04: 0.9596417545128362,\n",
       "   0.05: 0.9496008677996273,\n",
       "   0.06: 0.9395877951770367,\n",
       "   0.07: 0.9295747225544461,\n",
       "   0.08: 0.9194782076600005,\n",
       "   0.09: 0.9094373209467916,\n",
       "   0.1: 0.8992295496898729,\n",
       "   0.2: 0.798570355742219,\n",
       "   0.3: 0.6977164631602369,\n",
       "   0.4: 0.5964453592189803,\n",
       "   0.5: 0.494117319834228,\n",
       "   0.6: 0.3898979222874308,\n",
       "   0.7: 0.2775568102800879,\n",
       "   0.8: 0.14900008344227186,\n",
       "   0.9: 0.007565432648179568,\n",
       "   0.91: 0.004617139042639001,\n",
       "   0.92: 0.0034767613272884044,\n",
       "   0.93: 0.0027535949712124163,\n",
       "   0.94: 0.0024198258837927296,\n",
       "   0.95: 0.002141684977609657,\n",
       "   0.96: 0.0010569354434956748,\n",
       "   0.97: 0.0005840959029844519,\n",
       "   0.98: 0.00027814090618307234,\n",
       "   0.99: 0.0001668845437098434,\n",
       "   0.991: 8.34422718549217e-05,\n",
       "   0.992: 8.34422718549217e-05,\n",
       "   0.993: 8.34422718549217e-05,\n",
       "   0.994: 8.34422718549217e-05,\n",
       "   0.995: 8.34422718549217e-05,\n",
       "   0.996: 8.34422718549217e-05,\n",
       "   0.997: 5.562818123661447e-05,\n",
       "   0.998: 2.7814090618307236e-05,\n",
       "   0.999: 2.7814090618307236e-05,\n",
       "   1.0: 2.7814090618307236e-05},\n",
       "  'random': {0.0: 1.0,\n",
       "   0.01: 0.9900147414680277,\n",
       "   0.02: 0.9800294829360554,\n",
       "   0.03: 0.9700164103134647,\n",
       "   0.04: 0.9600033376908742,\n",
       "   0.05: 0.9499624509776653,\n",
       "   0.06: 0.939977192445693,\n",
       "   0.07: 0.9299641198231023,\n",
       "   0.08: 0.91997886129113,\n",
       "   0.09: 0.9099657886685395,\n",
       "   0.1: 0.8998414596834756,\n",
       "   0.2: 0.7997107334575696,\n",
       "   0.3: 0.6994687508691904,\n",
       "   0.4: 0.5992823964620477,\n",
       "   0.5: 0.49920729841737826,\n",
       "   0.6: 0.3990487581008539,\n",
       "   0.7: 0.2989736600561845,\n",
       "   0.8: 0.19881511973966012,\n",
       "   0.9: 0.09835062442633438,\n",
       "   0.91: 0.08830973771312547,\n",
       "   0.92: 0.07826885099991655,\n",
       "   0.93: 0.06789419519928797,\n",
       "   0.94: 0.05774205212360582,\n",
       "   0.95: 0.0472839540511223,\n",
       "   0.96: 0.03693711234111201,\n",
       "   0.97: 0.02606180290935388,\n",
       "   0.98: 0.01429644257780992,\n",
       "   0.99: 0.0033098767835785608,\n",
       "   0.991: 0.0029204795149222595,\n",
       "   0.992: 0.002141684977609657,\n",
       "   0.993: 0.0008622368091675243,\n",
       "   0.994: 0.0006953522654576809,\n",
       "   0.995: 0.0005562818123661447,\n",
       "   0.996: 0.000361583178037994,\n",
       "   0.997: 0.00011125636247322894,\n",
       "   0.998: 8.34422718549217e-05,\n",
       "   0.999: 8.34422718549217e-05,\n",
       "   1.0: 5.562818123661447e-05}},\n",
       " {'directed': {0.0: 1.0,\n",
       "   0.01: 0.9898756710149361,\n",
       "   0.02: 0.9796957138486357,\n",
       "   0.03: 0.9695713848635719,\n",
       "   0.04: 0.9595026840597447,\n",
       "   0.05: 0.9494339832559174,\n",
       "   0.06: 0.9393374683614719,\n",
       "   0.07: 0.929296581648263,\n",
       "   0.08: 0.9192000667538175,\n",
       "   0.09: 0.9090479236781354,\n",
       "   0.1: 0.8988957806024532,\n",
       "   0.2: 0.7979584457486163,\n",
       "   0.3: 0.6968820404416878,\n",
       "   0.4: 0.5945818151475537,\n",
       "   0.5: 0.4913359107723973,\n",
       "   0.6: 0.38478012961366226,\n",
       "   0.7: 0.26668150084832976,\n",
       "   0.8: 0.09195338358412372,\n",
       "   0.9: 0.00019469863432815065,\n",
       "   0.91: 0.0001668845437098434,\n",
       "   0.92: 0.00013907045309153617,\n",
       "   0.93: 8.34422718549217e-05,\n",
       "   0.94: 8.34422718549217e-05,\n",
       "   0.95: 5.562818123661447e-05,\n",
       "   0.96: 5.562818123661447e-05,\n",
       "   0.97: 5.562818123661447e-05,\n",
       "   0.98: 2.7814090618307236e-05,\n",
       "   0.99: 2.7814090618307236e-05,\n",
       "   0.991: 2.7814090618307236e-05,\n",
       "   0.992: 2.7814090618307236e-05,\n",
       "   0.993: 2.7814090618307236e-05,\n",
       "   0.994: 2.7814090618307236e-05,\n",
       "   0.995: 2.7814090618307236e-05,\n",
       "   0.996: 2.7814090618307236e-05,\n",
       "   0.997: 2.7814090618307236e-05,\n",
       "   0.998: 2.7814090618307236e-05,\n",
       "   0.999: 2.7814090618307236e-05,\n",
       "   1.0: 2.7814090618307236e-05},\n",
       "  'random': {0.0: 1.0,\n",
       "   0.01: 0.9900147414680277,\n",
       "   0.02: 0.980001668845437,\n",
       "   0.03: 0.9700442244040831,\n",
       "   0.04: 0.9600311517814925,\n",
       "   0.05: 0.9500458932495202,\n",
       "   0.06: 0.9400328206269296,\n",
       "   0.07: 0.9299919339137207,\n",
       "   0.08: 0.9200066753817484,\n",
       "   0.09: 0.9100214168497761,\n",
       "   0.1: 0.8998970878647122,\n",
       "   0.2: 0.7997107334575696,\n",
       "   0.3: 0.699440936778572,\n",
       "   0.4: 0.5990598837371012,\n",
       "   0.5: 0.49887352932995854,\n",
       "   0.6: 0.3987149890134342,\n",
       "   0.7: 0.29861207687814645,\n",
       "   0.8: 0.1983979083803855,\n",
       "   0.9: 0.09804466942953301,\n",
       "   0.91: 0.08797596862570578,\n",
       "   0.92: 0.07782382555002364,\n",
       "   0.93: 0.06764386838372319,\n",
       "   0.94: 0.057463911217422746,\n",
       "   0.95: 0.047506466776068755,\n",
       "   0.96: 0.03760465051595138,\n",
       "   0.97: 0.02736906516841432,\n",
       "   0.98: 0.016855338914694182,\n",
       "   0.99: 0.006870080382721887,\n",
       "   0.991: 0.0060078435735543625,\n",
       "   0.992: 0.004867465858203766,\n",
       "   0.993: 0.0038383445053263984,\n",
       "   0.994: 0.002725780880594109,\n",
       "   0.995: 0.0021138708869913496,\n",
       "   0.996: 0.0005284677217478374,\n",
       "   0.997: 0.00027814090618307234,\n",
       "   0.998: 0.0001668845437098434,\n",
       "   0.999: 0.00011125636247322894,\n",
       "   1.0: 5.562818123661447e-05}})"
      ]
     },
     "execution_count": 334,
     "metadata": {},
     "output_type": "execute_result"
    }
   ],
   "source": [
    "# fraction of removed vertices : largest connected component size \n",
    "calculate_vertex_percolation(gtG), calculate_vertex_percolation(gtG_rnd)"
   ]
  },
  {
   "cell_type": "code",
   "execution_count": 327,
   "metadata": {
    "scrolled": true
   },
   "outputs": [
    {
     "data": {
      "text/plain": [
       "({'directed': {0.0: 1.0,\n",
       "   0.01: 1.0,\n",
       "   0.02: 1.0,\n",
       "   0.03: 1.0,\n",
       "   0.04: 1.0,\n",
       "   0.05: 1.0,\n",
       "   0.06: 1.0,\n",
       "   0.07: 1.0,\n",
       "   0.08: 1.0,\n",
       "   0.09: 1.0,\n",
       "   0.1: 1.0,\n",
       "   0.2: 1.0,\n",
       "   0.3: 1.0,\n",
       "   0.4: 1.0,\n",
       "   0.5: 1.0,\n",
       "   0.6: 0.9999721859093816,\n",
       "   0.7: 0.9995549745501071,\n",
       "   0.8: 0.9944371818763386,\n",
       "   0.9: 0.9434539537729814,\n",
       "   0.91: 0.9295747225544461,\n",
       "   0.92: 0.9106889550246154,\n",
       "   0.93: 0.8872416766333825,\n",
       "   0.94: 0.8559786387784052,\n",
       "   0.95: 0.8151753678413485,\n",
       "   0.96: 0.7624676661196562,\n",
       "   0.97: 0.6855895196506551,\n",
       "   0.98: 0.5743331571774261,\n",
       "   0.99: 0.38681055822879873,\n",
       "   0.991: 0.3589964676104915,\n",
       "   0.992: 0.3290963201958112,\n",
       "   0.993: 0.2977220259783606,\n",
       "   0.994: 0.25817038911912776,\n",
       "   0.995: 0.19642310794648568,\n",
       "   0.996: 0.13067059772480738,\n",
       "   0.997: 0.10102077712569188,\n",
       "   0.998: 0.02533863655327789,\n",
       "   0.999: 0.007064779017050038,\n",
       "   1.0: 5.562818123661447e-05},\n",
       "  'random': {0.0: 1.0,\n",
       "   0.01: 0.9999721859093816,\n",
       "   0.02: 0.9999443718187634,\n",
       "   0.03: 0.9999443718187634,\n",
       "   0.04: 0.999916557728145,\n",
       "   0.05: 0.9998887436375268,\n",
       "   0.06: 0.9998887436375268,\n",
       "   0.07: 0.9998331154562902,\n",
       "   0.08: 0.9998331154562902,\n",
       "   0.09: 0.9998331154562902,\n",
       "   0.1: 0.9998331154562902,\n",
       "   0.2: 0.9996106027313437,\n",
       "   0.3: 0.9993324618251607,\n",
       "   0.4: 0.998915250465886,\n",
       "   0.5: 0.9983867827441382,\n",
       "   0.6: 0.997468917753734,\n",
       "   0.7: 0.9958835145884906,\n",
       "   0.8: 0.991767029176981,\n",
       "   0.9: 0.9790281756737963,\n",
       "   0.91: 0.9753567157121797,\n",
       "   0.92: 0.9705448780352126,\n",
       "   0.93: 0.9647873612772231,\n",
       "   0.94: 0.9568325313603872,\n",
       "   0.95: 0.9428976719606152,\n",
       "   0.96: 0.9224265012655412,\n",
       "   0.97: 0.8861847411898868,\n",
       "   0.98: 0.8071927238338943,\n",
       "   0.99: 0.5943871165132256,\n",
       "   0.991: 0.5500514560676438,\n",
       "   0.992: 0.5000417211359275,\n",
       "   0.993: 0.4418268294718104,\n",
       "   0.994: 0.3697605206797764,\n",
       "   0.995: 0.28464940338775624,\n",
       "   0.996: 0.1926403916223959,\n",
       "   0.997: 0.11184045837621338,\n",
       "   0.998: 0.006230356298500821,\n",
       "   0.999: 0.000472839540511223,\n",
       "   1.0: 5.562818123661447e-05}},\n",
       " {'directed': {0.0: 1.0,\n",
       "   0.01: 1.0,\n",
       "   0.02: 1.0,\n",
       "   0.03: 1.0,\n",
       "   0.04: 1.0,\n",
       "   0.05: 1.0,\n",
       "   0.06: 1.0,\n",
       "   0.07: 1.0,\n",
       "   0.08: 1.0,\n",
       "   0.09: 1.0,\n",
       "   0.1: 1.0,\n",
       "   0.2: 1.0,\n",
       "   0.3: 1.0,\n",
       "   0.4: 1.0,\n",
       "   0.5: 1.0,\n",
       "   0.6: 1.0,\n",
       "   0.7: 1.0,\n",
       "   0.8: 0.9998609295469084,\n",
       "   0.9: 0.9937140155202626,\n",
       "   0.91: 0.9906544655522488,\n",
       "   0.92: 0.9858704419658999,\n",
       "   0.93: 0.9796678997580174,\n",
       "   0.94: 0.9695157566823353,\n",
       "   0.95: 0.9538564236642283,\n",
       "   0.96: 0.9289628125608433,\n",
       "   0.97: 0.8841543125747504,\n",
       "   0.98: 0.8014908352571413,\n",
       "   0.99: 0.6084888604567074,\n",
       "   0.991: 0.5749728812616471,\n",
       "   0.992: 0.5363391093928184,\n",
       "   0.993: 0.4925041025783662,\n",
       "   0.994: 0.43759908769782774,\n",
       "   0.995: 0.37014991794843266,\n",
       "   0.996: 0.27928128389842294,\n",
       "   0.997: 0.14766500709259311,\n",
       "   0.998: 0.001780101799571663,\n",
       "   0.999: 0.0007509804466942953,\n",
       "   1.0: 5.562818123661447e-05},\n",
       "  'random': {0.0: 1.0,\n",
       "   0.01: 0.9999721859093816,\n",
       "   0.02: 0.9999721859093816,\n",
       "   0.03: 0.9999721859093816,\n",
       "   0.04: 0.9999721859093816,\n",
       "   0.05: 0.9999721859093816,\n",
       "   0.06: 0.9999721859093816,\n",
       "   0.07: 0.9999721859093816,\n",
       "   0.08: 0.999916557728145,\n",
       "   0.09: 0.999916557728145,\n",
       "   0.1: 0.999916557728145,\n",
       "   0.2: 0.9993602759157789,\n",
       "   0.3: 0.9988318081940311,\n",
       "   0.4: 0.9983033404722833,\n",
       "   0.5: 0.9976636163880622,\n",
       "   0.6: 0.9966344950351849,\n",
       "   0.7: 0.9951047200511779,\n",
       "   0.8: 0.9919617278113092,\n",
       "   0.9: 0.9801129252079104,\n",
       "   0.91: 0.9773037020554612,\n",
       "   0.92: 0.973660056184463,\n",
       "   0.93: 0.968764776235641,\n",
       "   0.94: 0.9607265040469501,\n",
       "   0.95: 0.949128028259116,\n",
       "   0.96: 0.9296303507356827,\n",
       "   0.97: 0.895613717909493,\n",
       "   0.98: 0.8246599727421912,\n",
       "   0.99: 0.6277083970739576,\n",
       "   0.991: 0.5901037465580062,\n",
       "   0.992: 0.5445720802158374,\n",
       "   0.993: 0.49083525714126774,\n",
       "   0.994: 0.41957555697716464,\n",
       "   0.995: 0.3351319778599839,\n",
       "   0.996: 0.2191472199816427,\n",
       "   0.997: 0.057519539398659364,\n",
       "   0.998: 0.0019748004338998137,\n",
       "   0.999: 0.0003059549968013796,\n",
       "   1.0: 5.562818123661447e-05}})"
      ]
     },
     "execution_count": 327,
     "metadata": {},
     "output_type": "execute_result"
    }
   ],
   "source": [
    "# fraction of removed edges : largest connected component size \n",
    "calculate_edge_percolation(gtG), calculate_edge_percolation(gtG_rnd)"
   ]
  },
  {
   "cell_type": "code",
   "execution_count": 335,
   "metadata": {
    "scrolled": false
   },
   "outputs": [
    {
     "data": {
      "text/plain": [
       "{'value': 0.6192893182107256,\n",
       " 'std': 0.007173528471544348,\n",
       " 'number_of_triangs': 4071645030,\n",
       " 'number_of_triples': 19724117195}"
      ]
     },
     "execution_count": 335,
     "metadata": {},
     "output_type": "execute_result"
    }
   ],
   "source": [
    "calculate_global_clustering(gtG)"
   ]
  },
  {
   "cell_type": "code",
   "execution_count": 336,
   "metadata": {},
   "outputs": [
    {
     "data": {
      "text/plain": [
       "{'value': 0.017739020489467256,\n",
       " 'std': 0.0001468148717480621,\n",
       " 'number_of_triangs': 101256914,\n",
       " 'number_of_triples': 17124437236}"
      ]
     },
     "execution_count": 336,
     "metadata": {},
     "output_type": "execute_result"
    }
   ],
   "source": [
    "calculate_global_clustering(gtG_rnd)"
   ]
  },
  {
   "cell_type": "markdown",
   "metadata": {},
   "source": [
    "##### NOTE: For undirected graphs, the “out-degree” is synonym for degree, and in this case the in-degree of a vertex is always zero."
   ]
  },
  {
   "cell_type": "markdown",
   "metadata": {},
   "source": [
    "#### Select output folder"
   ]
  },
  {
   "cell_type": "code",
   "execution_count": 338,
   "metadata": {},
   "outputs": [],
   "source": [
    "destination = '/mnt/DayGraphAnalytics/'"
   ]
  },
  {
   "cell_type": "code",
   "execution_count": 339,
   "metadata": {
    "scrolled": true
   },
   "outputs": [
    {
     "name": "stderr",
     "output_type": "stream",
     "text": [
      "  0%|          | 0/365 [00:00<?, ?it/s]\n",
      "  0%|          | 0/4320620 [00:00<?, ?it/s]\u001b[A\n",
      "  0%|          | 13070/4320620 [00:00<00:32, 130699.19it/s]\u001b[A\n",
      "  1%|          | 24753/4320620 [00:00<00:34, 126204.51it/s]\u001b[A\n",
      "  1%|          | 36427/4320620 [00:00<00:34, 123206.21it/s]\u001b[A\n",
      "  1%|          | 48827/4320620 [00:00<00:34, 123441.47it/s]\u001b[A\n",
      "  1%|▏         | 61366/4320620 [00:00<00:34, 124017.57it/s]\u001b[A\n",
      "  2%|▏         | 73994/4320620 [00:00<00:34, 124685.57it/s]\u001b[A\n",
      "  2%|▏         | 86614/4320620 [00:00<00:33, 125135.13it/s]\u001b[A\n",
      "  2%|▏         | 99455/4320620 [00:00<00:33, 126098.98it/s]\u001b[A\n",
      "  3%|▎         | 112237/4320620 [00:00<00:33, 126609.09it/s]\u001b[A\n",
      "  3%|▎         | 125584/4320620 [00:01<00:32, 128590.85it/s]\u001b[A\n",
      "  3%|▎         | 138859/4320620 [00:01<00:32, 129810.28it/s]\u001b[A\n",
      "  4%|▎         | 151594/4320620 [00:01<00:32, 126954.00it/s]\u001b[A\n",
      "  4%|▍         | 164131/4320620 [00:01<00:33, 125633.04it/s]\u001b[A\n",
      "  4%|▍         | 176639/4320620 [00:01<00:33, 125465.66it/s]\u001b[A\n",
      "  4%|▍         | 189586/4320620 [00:01<00:32, 126638.27it/s]\u001b[A\n",
      "  5%|▍         | 202319/4320620 [00:01<00:32, 126841.78it/s]\u001b[A\n",
      "  5%|▍         | 214969/4320620 [00:01<00:32, 126721.74it/s]\u001b[A\n",
      "  5%|▌         | 228039/4320620 [00:01<00:32, 127888.88it/s]\u001b[A\n",
      "  6%|▌         | 240814/4320620 [00:01<00:32, 127290.60it/s]\u001b[A\n",
      "  6%|▌         | 253534/4320620 [00:02<00:32, 126353.10it/s]\u001b[A\n",
      "  6%|▌         | 266165/4320620 [00:02<00:32, 126086.54it/s]\u001b[A\n",
      "  6%|▋         | 279195/4320620 [00:02<00:31, 127321.01it/s]\u001b[A\n",
      "  7%|▋         | 294293/4320620 [00:02<00:30, 133600.51it/s]\u001b[A\n",
      "  7%|▋         | 309392/4320620 [00:02<00:28, 138381.13it/s]\u001b[A\n",
      "  8%|▊         | 324434/4320620 [00:02<00:28, 141783.69it/s]\u001b[A\n",
      "  8%|▊         | 339594/4320620 [00:02<00:27, 144590.82it/s]\u001b[A\n",
      "  8%|▊         | 354853/4320620 [00:02<00:26, 146899.93it/s]\u001b[A\n",
      "  9%|▊         | 370015/4320620 [00:02<00:26, 148281.94it/s]\u001b[A\n",
      "  9%|▉         | 385129/4320620 [00:02<00:26, 149125.99it/s]\u001b[A\n",
      "  9%|▉         | 400338/4320620 [00:03<00:26, 150001.44it/s]\u001b[A\n",
      " 10%|▉         | 415475/4320620 [00:03<00:25, 150407.63it/s]\u001b[A\n",
      " 10%|▉         | 430679/4320620 [00:03<00:25, 150891.76it/s]\u001b[A\n",
      " 10%|█         | 445941/4320620 [00:03<00:25, 151403.90it/s]\u001b[A\n",
      " 11%|█         | 461091/4320620 [00:03<00:25, 151319.71it/s]\u001b[A\n",
      " 11%|█         | 476230/4320620 [00:03<00:25, 151311.94it/s]\u001b[A\n",
      " 11%|█▏        | 491366/4320620 [00:03<00:25, 151120.75it/s]\u001b[A\n",
      " 12%|█▏        | 506519/4320620 [00:03<00:25, 151242.37it/s]\u001b[A\n",
      " 12%|█▏        | 521835/4320620 [00:03<00:25, 151811.24it/s]\u001b[A\n",
      " 12%|█▏        | 537112/4320620 [00:03<00:24, 152095.37it/s]\u001b[A\n",
      " 13%|█▎        | 558836/4320620 [00:04<00:27, 137699.34it/s]\u001b[A\n",
      "  0%|          | 0/365 [00:12<?, ?it/s]\n"
     ]
    },
    {
     "ename": "KeyboardInterrupt",
     "evalue": "",
     "output_type": "error",
     "traceback": [
      "\u001b[0;31m---------------------------------------------------------------------------\u001b[0m",
      "\u001b[0;31mKeyboardInterrupt\u001b[0m                         Traceback (most recent call last)",
      "\u001b[0;32m<ipython-input-339-42fb2003f5c8>\u001b[0m in \u001b[0;36m<module>\u001b[0;34m\u001b[0m\n\u001b[1;32m      6\u001b[0m         \u001b[0;31m#read graph from csv file\u001b[0m\u001b[0;34m\u001b[0m\u001b[0;34m\u001b[0m\u001b[0;34m\u001b[0m\u001b[0m\n\u001b[1;32m      7\u001b[0m         \u001b[0mday_csv\u001b[0m \u001b[0;34m=\u001b[0m \u001b[0mpd\u001b[0m\u001b[0;34m.\u001b[0m\u001b[0mread_csv\u001b[0m\u001b[0;34m(\u001b[0m \u001b[0msource\u001b[0m\u001b[0;34m+\u001b[0m\u001b[0mfiles\u001b[0m\u001b[0;34m[\u001b[0m\u001b[0mf\u001b[0m\u001b[0;34m]\u001b[0m \u001b[0;34m)\u001b[0m\u001b[0;34m\u001b[0m\u001b[0;34m\u001b[0m\u001b[0m\n\u001b[0;32m----> 8\u001b[0;31m         \u001b[0mG\u001b[0m\u001b[0;34m,\u001b[0m \u001b[0mG_nodes_id\u001b[0m\u001b[0;34m,\u001b[0m \u001b[0mG_nodes_df_header\u001b[0m \u001b[0;34m=\u001b[0m \u001b[0mcreate_day_graph_from_csv\u001b[0m\u001b[0;34m(\u001b[0m \u001b[0mpath_to_file\u001b[0m\u001b[0;34m=\u001b[0m\u001b[0msource\u001b[0m\u001b[0;34m+\u001b[0m\u001b[0mfiles\u001b[0m\u001b[0;34m[\u001b[0m\u001b[0mf\u001b[0m\u001b[0;34m]\u001b[0m \u001b[0;34m)\u001b[0m\u001b[0;34m\u001b[0m\u001b[0;34m\u001b[0m\u001b[0m\n\u001b[0m\u001b[1;32m      9\u001b[0m         \u001b[0;31m# convert to Graph-tool graph object\u001b[0m\u001b[0;34m\u001b[0m\u001b[0;34m\u001b[0m\u001b[0;34m\u001b[0m\u001b[0m\n\u001b[1;32m     10\u001b[0m         \u001b[0mgtG\u001b[0m \u001b[0;34m=\u001b[0m \u001b[0mnx2gt\u001b[0m\u001b[0;34m(\u001b[0m\u001b[0mG\u001b[0m\u001b[0;34m)\u001b[0m\u001b[0;34m\u001b[0m\u001b[0;34m\u001b[0m\u001b[0m\n",
      "\u001b[0;32m<ipython-input-6-d43d9fb7f306>\u001b[0m in \u001b[0;36mcreate_day_graph_from_csv\u001b[0;34m(path_to_file)\u001b[0m\n\u001b[1;32m      5\u001b[0m     \u001b[0mweight_part\u001b[0m \u001b[0;34m=\u001b[0m \u001b[0;34m[\u001b[0m\u001b[0;34m]\u001b[0m\u001b[0;34m\u001b[0m\u001b[0;34m\u001b[0m\u001b[0m\n\u001b[1;32m      6\u001b[0m     \u001b[0;32mfor\u001b[0m \u001b[0mi\u001b[0m \u001b[0;32min\u001b[0m \u001b[0mtqdm\u001b[0m\u001b[0;34m(\u001b[0m \u001b[0mrange\u001b[0m\u001b[0;34m(\u001b[0m \u001b[0mdf\u001b[0m\u001b[0;34m.\u001b[0m\u001b[0mshape\u001b[0m\u001b[0;34m[\u001b[0m\u001b[0;36m0\u001b[0m\u001b[0;34m]\u001b[0m \u001b[0;34m)\u001b[0m \u001b[0;34m)\u001b[0m\u001b[0;34m:\u001b[0m\u001b[0;34m\u001b[0m\u001b[0;34m\u001b[0m\u001b[0m\n\u001b[0;32m----> 7\u001b[0;31m         \u001b[0mweight_part\u001b[0m\u001b[0;34m.\u001b[0m\u001b[0mappend\u001b[0m\u001b[0;34m(\u001b[0m \u001b[0;34m'{\\'weight\\': '\u001b[0m\u001b[0;34m+\u001b[0m\u001b[0mstr\u001b[0m\u001b[0;34m(\u001b[0m \u001b[0mint\u001b[0m\u001b[0;34m(\u001b[0m \u001b[0mdf\u001b[0m\u001b[0;34m.\u001b[0m\u001b[0mweight\u001b[0m\u001b[0;34m.\u001b[0m\u001b[0mvalues\u001b[0m\u001b[0;34m[\u001b[0m\u001b[0mi\u001b[0m\u001b[0;34m]\u001b[0m \u001b[0;34m)\u001b[0m \u001b[0;34m)\u001b[0m\u001b[0;34m[\u001b[0m\u001b[0;34m:\u001b[0m\u001b[0;36m7\u001b[0m\u001b[0;34m]\u001b[0m\u001b[0;34m+\u001b[0m\u001b[0;34m'}'\u001b[0m \u001b[0;34m)\u001b[0m\u001b[0;34m\u001b[0m\u001b[0;34m\u001b[0m\u001b[0m\n\u001b[0m\u001b[1;32m      8\u001b[0m     \u001b[0mweight_part\u001b[0m \u001b[0;34m=\u001b[0m \u001b[0mnp\u001b[0m\u001b[0;34m.\u001b[0m\u001b[0marray\u001b[0m\u001b[0;34m(\u001b[0m \u001b[0mweight_part\u001b[0m \u001b[0;34m)\u001b[0m\u001b[0;34m\u001b[0m\u001b[0;34m\u001b[0m\u001b[0m\n\u001b[1;32m      9\u001b[0m \u001b[0;34m\u001b[0m\u001b[0m\n",
      "\u001b[0;32m~/.local/lib/python3.6/site-packages/pandas/core/generic.py\u001b[0m in \u001b[0;36m__getattr__\u001b[0;34m(self, name)\u001b[0m\n\u001b[1;32m   5136\u001b[0m         \u001b[0;32melse\u001b[0m\u001b[0;34m:\u001b[0m\u001b[0;34m\u001b[0m\u001b[0;34m\u001b[0m\u001b[0m\n\u001b[1;32m   5137\u001b[0m             \u001b[0;32mif\u001b[0m \u001b[0mself\u001b[0m\u001b[0;34m.\u001b[0m\u001b[0m_info_axis\u001b[0m\u001b[0;34m.\u001b[0m\u001b[0m_can_hold_identifiers_and_holds_name\u001b[0m\u001b[0;34m(\u001b[0m\u001b[0mname\u001b[0m\u001b[0;34m)\u001b[0m\u001b[0;34m:\u001b[0m\u001b[0;34m\u001b[0m\u001b[0;34m\u001b[0m\u001b[0m\n\u001b[0;32m-> 5138\u001b[0;31m                 \u001b[0;32mreturn\u001b[0m \u001b[0mself\u001b[0m\u001b[0;34m[\u001b[0m\u001b[0mname\u001b[0m\u001b[0;34m]\u001b[0m\u001b[0;34m\u001b[0m\u001b[0;34m\u001b[0m\u001b[0m\n\u001b[0m\u001b[1;32m   5139\u001b[0m             \u001b[0;32mreturn\u001b[0m \u001b[0mobject\u001b[0m\u001b[0;34m.\u001b[0m\u001b[0m__getattribute__\u001b[0m\u001b[0;34m(\u001b[0m\u001b[0mself\u001b[0m\u001b[0;34m,\u001b[0m \u001b[0mname\u001b[0m\u001b[0;34m)\u001b[0m\u001b[0;34m\u001b[0m\u001b[0;34m\u001b[0m\u001b[0m\n\u001b[1;32m   5140\u001b[0m \u001b[0;34m\u001b[0m\u001b[0m\n",
      "\u001b[0;32m~/.local/lib/python3.6/site-packages/pandas/core/frame.py\u001b[0m in \u001b[0;36m__getitem__\u001b[0;34m(self, key)\u001b[0m\n\u001b[1;32m   2876\u001b[0m                 \u001b[0;32mif\u001b[0m \u001b[0mself\u001b[0m\u001b[0;34m.\u001b[0m\u001b[0mcolumns\u001b[0m\u001b[0;34m.\u001b[0m\u001b[0mnlevels\u001b[0m \u001b[0;34m>\u001b[0m \u001b[0;36m1\u001b[0m\u001b[0;34m:\u001b[0m\u001b[0;34m\u001b[0m\u001b[0;34m\u001b[0m\u001b[0m\n\u001b[1;32m   2877\u001b[0m                     \u001b[0;32mreturn\u001b[0m \u001b[0mself\u001b[0m\u001b[0;34m.\u001b[0m\u001b[0m_getitem_multilevel\u001b[0m\u001b[0;34m(\u001b[0m\u001b[0mkey\u001b[0m\u001b[0;34m)\u001b[0m\u001b[0;34m\u001b[0m\u001b[0;34m\u001b[0m\u001b[0m\n\u001b[0;32m-> 2878\u001b[0;31m                 \u001b[0;32mreturn\u001b[0m \u001b[0mself\u001b[0m\u001b[0;34m.\u001b[0m\u001b[0m_get_item_cache\u001b[0m\u001b[0;34m(\u001b[0m\u001b[0mkey\u001b[0m\u001b[0;34m)\u001b[0m\u001b[0;34m\u001b[0m\u001b[0;34m\u001b[0m\u001b[0m\n\u001b[0m\u001b[1;32m   2879\u001b[0m \u001b[0;34m\u001b[0m\u001b[0m\n\u001b[1;32m   2880\u001b[0m         \u001b[0;31m# Do we have a slicer (on rows)?\u001b[0m\u001b[0;34m\u001b[0m\u001b[0;34m\u001b[0m\u001b[0;34m\u001b[0m\u001b[0m\n",
      "\u001b[0;32m~/.local/lib/python3.6/site-packages/pandas/core/generic.py\u001b[0m in \u001b[0;36m_get_item_cache\u001b[0;34m(self, item)\u001b[0m\n\u001b[1;32m   3533\u001b[0m         \u001b[0;34m\"\"\"Return the cached item, item represents a label indexer.\"\"\"\u001b[0m\u001b[0;34m\u001b[0m\u001b[0;34m\u001b[0m\u001b[0m\n\u001b[1;32m   3534\u001b[0m         \u001b[0mcache\u001b[0m \u001b[0;34m=\u001b[0m \u001b[0mself\u001b[0m\u001b[0;34m.\u001b[0m\u001b[0m_item_cache\u001b[0m\u001b[0;34m\u001b[0m\u001b[0;34m\u001b[0m\u001b[0m\n\u001b[0;32m-> 3535\u001b[0;31m         \u001b[0mres\u001b[0m \u001b[0;34m=\u001b[0m \u001b[0mcache\u001b[0m\u001b[0;34m.\u001b[0m\u001b[0mget\u001b[0m\u001b[0;34m(\u001b[0m\u001b[0mitem\u001b[0m\u001b[0;34m)\u001b[0m\u001b[0;34m\u001b[0m\u001b[0;34m\u001b[0m\u001b[0m\n\u001b[0m\u001b[1;32m   3536\u001b[0m         \u001b[0;32mif\u001b[0m \u001b[0mres\u001b[0m \u001b[0;32mis\u001b[0m \u001b[0;32mNone\u001b[0m\u001b[0;34m:\u001b[0m\u001b[0;34m\u001b[0m\u001b[0;34m\u001b[0m\u001b[0m\n\u001b[1;32m   3537\u001b[0m             \u001b[0;31m# All places that call _get_item_cache have unique columns,\u001b[0m\u001b[0;34m\u001b[0m\u001b[0;34m\u001b[0m\u001b[0;34m\u001b[0m\u001b[0m\n",
      "\u001b[0;31mKeyboardInterrupt\u001b[0m: "
     ]
    }
   ],
   "source": [
    "for f in tqdm( range( files.shape[0] ) ):\n",
    "    # global metrics in json format!\n",
    "    savename = destination+'graph_global_attributes_'+files[f].split('.')[0][-8:]+'.json'\n",
    "    if not os.path.exists( savename ):\n",
    "\n",
    "        #read graph from csv file\n",
    "        day_csv = pd.read_csv( source+files[f] )\n",
    "        G, G_nodes_id, G_nodes_df_header = create_day_graph_from_csv( path_to_file=source+files[f] )\n",
    "        # convert to Graph-tool graph object\n",
    "        gtG = nx2gt(G)\n",
    "        # get random graph with configuration model\n",
    "        gtG_rnd = copy.deepcopy(gtG)\n",
    "        random_rewire( gtG_rnd, parallel_edges=True, self_loops=True )\n",
    "        \n",
    "        dict_to_dump = {} # every attribute will be written to this\n",
    "        \n",
    "        dict_to_dump['num_vertices_graph'] = calculate_num_vertices(gtG)\n",
    "        dict_to_dump['num_vertices_config'] = calculate_num_vertices(gtG_rnd)\n",
    "        \n",
    "        dict_to_dump['num_edges_graph'] = calculate_num_edges(gtG)\n",
    "        dict_to_dump['num_edges_config'] = calculate_num_edges(gtG_rnd)\n",
    "        \n",
    "        dict_to_dump['assortativity_graph'] = calculate_assortativity(gtG)\n",
    "        dict_to_dump['assortativity_config'] = calculate_assortativity(gtG_rnd)\n",
    "        \n",
    "        dict_to_dump['scalar_assortativity_graph'] = calculate_scalar_assortativity(gtG)\n",
    "        dict_to_dump['scalar_assortativity_config'] = calculate_scalar_assortativity(gtG_rnd)\n",
    "        \n",
    "        dict_to_dump['pseudo_diameter_graph'] = calculate_pseudo_diameter(gtG)\n",
    "        dict_to_dump['pseudo_diameter_config'] = calculate_pseudo_diameter(gtG_rnd)\n",
    "        \n",
    "        dict_to_dump['min_spanning_tree_graph'] = calculate_min_spanning_tree(gtG)\n",
    "        dict_to_dump['min_spanning_tree_config'] = calculate_min_spanning_tree(gtG_rnd)\n",
    "        \n",
    "        dict_to_dump['vertex_percolation_graph'] = calculate_vertex_percolation(gtG)\n",
    "        dict_to_dump['vertex_percolation_config'] = calculate_vertex_percolation(gtG_rnd)\n",
    "        \n",
    "        dict_to_dump['edge_percolation_graph'] = calculate_edge_percolation(gtG)\n",
    "        dict_to_dump['edge_percolation_config'] = calculate_edge_percolation(gtG_rnd)\n",
    "        \n",
    "        dict_to_dump['global_clustering_graph'] = calculate_global_clustering(gtG)\n",
    "        dict_to_dump['global_clustering_config'] = calculate_global_clustering(gtG_rnd)\n",
    "\n",
    "        with open(savename, 'w', encoding='utf-8') as f:\n",
    "            json.dump( dict_to_dump, f, ensure_ascii=False, indent=4)\n",
    "        \n",
    "        #print(dict_to_dump)\n",
    "    else:\n",
    "        print('Already processed, skipping!') "
   ]
  },
  {
   "cell_type": "code",
   "execution_count": null,
   "metadata": {},
   "outputs": [],
   "source": []
  }
 ],
 "metadata": {
  "kernelspec": {
   "display_name": "Python 3",
   "language": "python",
   "name": "python3"
  },
  "language_info": {
   "codemirror_mode": {
    "name": "ipython",
    "version": 3
   },
   "file_extension": ".py",
   "mimetype": "text/x-python",
   "name": "python",
   "nbconvert_exporter": "python",
   "pygments_lexer": "ipython3",
   "version": "3.6.9"
  }
 },
 "nbformat": 4,
 "nbformat_minor": 4
}
