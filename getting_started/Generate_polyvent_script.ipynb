{
 "cells": [
  {
   "cell_type": "code",
   "execution_count": 1,
   "metadata": {},
   "outputs": [],
   "source": [
    "import numpy as np\n",
    "import os"
   ]
  },
  {
   "cell_type": "code",
   "execution_count": 2,
   "metadata": {},
   "outputs": [],
   "source": [
    "source_poligons = '/mnt/raw_data/'\n",
    "source_events = '/mnt2/data/csv/'"
   ]
  },
  {
   "cell_type": "code",
   "execution_count": 3,
   "metadata": {},
   "outputs": [
    {
     "data": {
      "text/plain": [
       "((365,),\n",
       " (365,),\n",
       " array(['MT_MTA_NETWORK_POLIGONS_20181201.csv.gz',\n",
       "        'MT_MTA_NETWORK_POLIGONS_20181202.csv.gz',\n",
       "        'MT_MTA_NETWORK_POLIGONS_20181203.csv.gz',\n",
       "        'MT_MTA_NETWORK_POLIGONS_20181204.csv.gz',\n",
       "        'MT_MTA_NETWORK_POLIGONS_20181205.csv.gz'], dtype='<U39'),\n",
       " array(['MT_MTA_NETWORK_POLIGONS_20191126.csv.gz',\n",
       "        'MT_MTA_NETWORK_POLIGONS_20191127.csv.gz',\n",
       "        'MT_MTA_NETWORK_POLIGONS_20191128.csv.gz',\n",
       "        'MT_MTA_NETWORK_POLIGONS_20191129.csv.gz',\n",
       "        'MT_MTA_NETWORK_POLIGONS_20191130.csv.gz'], dtype='<U39'),\n",
       " array(['Events_20181201.csv.gz', 'Events_20181202.csv.gz',\n",
       "        'Events_20181203.csv.gz', 'Events_20181204.csv.gz',\n",
       "        'Events_20181205.csv.gz'], dtype='<U22'),\n",
       " array(['Events_20191126.csv.gz', 'Events_20191127.csv.gz',\n",
       "        'Events_20191128.csv.gz', 'Events_20191129.csv.gz',\n",
       "        'Events_20191130.csv.gz'], dtype='<U22'))"
      ]
     },
     "execution_count": 3,
     "metadata": {},
     "output_type": "execute_result"
    }
   ],
   "source": [
    "files_events = np.array( sorted( [ i for i in os.listdir( source_events ) if 'Events' in i  ] ) )\n",
    "files_poligons = np.array( sorted( [ i for i in os.listdir( source_poligons ) if 'POLIGONS' in i  ] ) )\n",
    "files_poligons.shape, files_events.shape, files_poligons[:5], files_poligons[-5:], files_events[:5], files_events[-5:]"
   ]
  },
  {
   "cell_type": "code",
   "execution_count": 4,
   "metadata": {},
   "outputs": [
    {
     "data": {
      "text/plain": [
       "array(['20181201', '20181202', '20181203', '20181204', '20181205'],\n",
       "      dtype='<U8')"
      ]
     },
     "execution_count": 4,
     "metadata": {},
     "output_type": "execute_result"
    }
   ],
   "source": [
    "dates = np.array( sorted([ i.split('.')[0].split('_')[4] for i in files_poligons ]) )\n",
    "dates[:5]"
   ]
  },
  {
   "cell_type": "code",
   "execution_count": 5,
   "metadata": {},
   "outputs": [],
   "source": [
    "destination = '/mnt/processed_data/5min_graphs_cleaned_threshold-025_boxside-500/'"
   ]
  },
  {
   "cell_type": "code",
   "execution_count": 6,
   "metadata": {},
   "outputs": [],
   "source": [
    "if not os.path.exists(destination):\n",
    "    os.makedirs(destination)"
   ]
  },
  {
   "cell_type": "markdown",
   "metadata": {},
   "source": [
    "#### This is a block"
   ]
  },
  {
   "cell_type": "raw",
   "metadata": {},
   "source": [
    "~/geoinsight/polyvent/polyvent \\\n",
    "-efile /mnt2/data/csv/Events_20181201.csv.gz \\ \n",
    "-pfile /mnt/raw_data/MT_MTA_NETWORK_POLIGONS_20181201.csv.gz \\\n",
    "-threshold 0 \\\n",
    "-boxside 500 \\\n",
    "-time_bin_minutes 0 \\\n",
    "-output ~/out_test_time/Output_20181201.csv\n",
    "\n",
    "gzip ~/out_test_time/Output_20181201.csv"
   ]
  },
  {
   "cell_type": "markdown",
   "metadata": {},
   "source": [
    "#### Script for days:"
   ]
  },
  {
   "cell_type": "raw",
   "metadata": {},
   "source": [
    "print([ '/home/biricza/geoinsight/polyvent/polyvent '+ \\\n",
    "        '-efile '+source_events+files_events[i]+' ' \\\n",
    "        '-pfile '+source_poligons+files_poligons[i]+' ' \\\n",
    "        '-threshold 1 '+ \\\n",
    "        '-boxside 500 '+ \\\n",
    "        '-time_bin_minutes 0 '+ \\\n",
    "        '-output '+destination+'output_'+dates[i]+'.csv\\n'+ \\\n",
    "        'gzip '+destination+'output_'+dates[i]+'.csv' \n",
    "       for i in range(dates.shape[0]) ][0])"
   ]
  },
  {
   "cell_type": "markdown",
   "metadata": {},
   "source": [
    "#### Script for time bins:"
   ]
  },
  {
   "cell_type": "code",
   "execution_count": 7,
   "metadata": {},
   "outputs": [
    {
     "name": "stdout",
     "output_type": "stream",
     "text": [
      "/home/biricza/geoinsight/polyvent/polyvent -efile /mnt2/data/csv/Events_20181201.csv.gz -pfile /mnt/raw_data/MT_MTA_NETWORK_POLIGONS_20181201.csv.gz -threshold 0.25 -boxside 500 -time_bin_minutes 5 -output /mnt/processed_data/5min_graphs_cleaned_threshold-025_boxside-500/output_20181201\n"
     ]
    }
   ],
   "source": [
    "print([ '/home/biricza/geoinsight/polyvent/polyvent '+ \\\n",
    "        '-efile '+source_events+files_events[i]+' ' \\\n",
    "        '-pfile '+source_poligons+files_poligons[i]+' ' \\\n",
    "        '-threshold 0.25 '+ \\\n",
    "        '-boxside 500 '+ \\\n",
    "        '-time_bin_minutes 5 '+ \\\n",
    "        '-output '+destination+'output_'+dates[i]\n",
    "       for i in range(dates.shape[0]) ][0])"
   ]
  },
  {
   "cell_type": "code",
   "execution_count": 8,
   "metadata": {},
   "outputs": [],
   "source": [
    "!rm run_polyvent_script_*"
   ]
  },
  {
   "cell_type": "code",
   "execution_count": 9,
   "metadata": {},
   "outputs": [],
   "source": [
    "all_command = np.array( [ '/home/biricza/geoinsight/polyvent/polyvent '+ \\\n",
    "        '-efile '+source_events+files_events[i]+' ' \\\n",
    "        '-pfile '+source_poligons+files_poligons[i]+' ' \\\n",
    "        '-threshold 0.25 '+ \\\n",
    "        '-boxside 500 '+ \\\n",
    "        '-time_bin_minutes 5 '+ \\\n",
    "        '-output '+destination+'output_'+dates[i] \n",
    "       for i in range(dates.shape[0]) ] )"
   ]
  },
  {
   "cell_type": "code",
   "execution_count": 10,
   "metadata": {},
   "outputs": [
    {
     "data": {
      "text/plain": [
       "'/home/biricza/geoinsight/polyvent/polyvent -efile /mnt2/data/csv/Events_20181201.csv.gz -pfile /mnt/raw_data/MT_MTA_NETWORK_POLIGONS_20181201.csv.gz -threshold 0.25 -boxside 500 -time_bin_minutes 5 -output /mnt/processed_data/5min_graphs_cleaned_threshold-025_boxside-500/output_20181201'"
      ]
     },
     "execution_count": 10,
     "metadata": {},
     "output_type": "execute_result"
    }
   ],
   "source": [
    "all_command[0]"
   ]
  },
  {
   "cell_type": "code",
   "execution_count": 11,
   "metadata": {},
   "outputs": [],
   "source": [
    "thread_num = 3\n",
    "idxs = np.arange( all_command.shape[0] )\n",
    "\n",
    "thread_step = np.ceil( idxs.shape[0] / thread_num ).astype(int)\n",
    "thread_idxs = np.array( [ ( k*thread_step, min( idxs.shape[0], (k+1)*thread_step) ) for k in np.arange(thread_num) ] )\n",
    "for n in range(thread_num):\n",
    "    #print(idxs[ thread_idxs[n,0]:thread_idxs[n,1]].shape )\n",
    "    np.savetxt( './run_polyvent_script_'+str(n)+'.sh', \n",
    "                all_command[ idxs[ thread_idxs[n,0]:thread_idxs[n,1]] ], fmt='%s' )"
   ]
  },
  {
   "cell_type": "markdown",
   "metadata": {},
   "source": [
    "#### Check results"
   ]
  },
  {
   "cell_type": "code",
   "execution_count": 12,
   "metadata": {},
   "outputs": [
    {
     "data": {
      "text/plain": [
       "((364,),\n",
       " array([  1,   2,   3,   4,   5,   6,   7,   8,   9,  10,  11,  12,  13,\n",
       "         14,  15,  16,  17,  18,  19,  20,  21,  22,  23,  24,  25,  26,\n",
       "         27,  28,  29,  30,  31,  32,  33,  34,  35,  36,  37,  38,  39,\n",
       "         40,  41,  42,  43,  44,  45,  46,  47,  48,  49,  50,  51,  52,\n",
       "         53,  54,  55,  56,  57,  58,  59,  60,  61,  62,  63,  64,  65,\n",
       "         66,  67,  68,  69,  70,  71,  72,  73,  74,  75,  76,  77,  78,\n",
       "         79,  80,  81,  82,  83,  84,  85,  86,  87,  88,  89,  90,  91,\n",
       "         92,  93,  94,  95,  96,  97,  98,  99, 100, 101, 102, 103, 104,\n",
       "        105, 106, 107, 108, 109, 110, 111, 112, 113, 114, 115, 116, 117,\n",
       "        118, 119, 120, 121, 122, 123, 124, 125, 126, 127, 128, 129, 130,\n",
       "        131, 132, 133, 134, 135, 136, 137, 138, 139, 140, 141, 142, 143,\n",
       "        144, 145, 146, 147, 148, 149, 150, 151, 152, 153, 154, 155, 156,\n",
       "        157, 158, 159, 160, 161, 162, 163, 164, 165, 166, 167, 168, 169,\n",
       "        170, 171, 172, 173, 174, 175, 176, 177, 178, 179, 180, 181, 182,\n",
       "        183, 184, 185, 186, 187, 188, 189, 190, 191, 192, 193, 194, 195,\n",
       "        196, 197, 198, 199, 200, 201, 202, 203, 204, 205, 206, 207, 208,\n",
       "        209, 210, 211, 212, 213, 214, 215, 216, 217, 218, 219, 220, 221,\n",
       "        222, 223, 224, 225, 226, 227, 228, 229, 230, 231, 232, 233, 234,\n",
       "        235, 236, 237, 238, 239, 240, 241, 242, 243, 244, 245, 246, 247,\n",
       "        248, 249, 250, 251, 252, 253, 254, 255, 256, 257, 258, 259, 260,\n",
       "        261, 262, 263, 264, 265, 266, 267, 268, 269, 270, 271, 272, 273,\n",
       "        274, 275, 276, 277, 278, 279, 280, 281, 282, 283, 284, 285, 286,\n",
       "        287, 288, 289, 290, 291, 292, 293, 294, 295, 296, 297, 298, 299,\n",
       "        300, 301, 302, 303, 304, 305, 306, 307, 308, 309, 310, 311, 312,\n",
       "        313, 314, 315, 316, 317, 318, 319, 320, 321, 322, 323, 324, 325,\n",
       "        326, 327, 328, 329, 330, 331, 332, 333, 334, 335, 336, 337, 338,\n",
       "        339, 340, 341, 342, 343, 344, 345, 346, 347, 348, 349, 350, 351,\n",
       "        352, 353, 354, 355, 356, 357, 358, 359, 360, 361, 362, 363, 364]))"
      ]
     },
     "execution_count": 12,
     "metadata": {},
     "output_type": "execute_result"
    }
   ],
   "source": [
    "idxs_left_out = idxs[ ~np.in1d( dates, np.array( sorted( [ i.split('_')[1][:8] for i in os.listdir( destination ) ] ) ) ) ]\n",
    "idxs_left_out.shape, idxs_left_out"
   ]
  },
  {
   "cell_type": "markdown",
   "metadata": {},
   "source": [
    "#### Generate script to process left out days"
   ]
  },
  {
   "cell_type": "code",
   "execution_count": 13,
   "metadata": {},
   "outputs": [],
   "source": [
    "thread_num = 5\n",
    "idxs = np.arange( all_command.shape[0] )\n",
    "\n",
    "thread_step = np.ceil( idxs_left_out.shape[0] / thread_num ).astype(int)\n",
    "thread_idxs = np.array( [ ( k*thread_step, min( idxs_left_out.shape[0], (k+1)*thread_step) ) for k in np.arange(thread_num) ] )\n",
    "for n in range(thread_num):\n",
    "    #print(idxs[ thread_idxs[n,0]:thread_idxs[n,1]].shape )\n",
    "    np.savetxt( './run_polyvent_script_leftout_'+str(n)+'.sh', \n",
    "                all_command[ idxs_left_out[ thread_idxs[n,0]:thread_idxs[n,1]] ], fmt='%s' )"
   ]
  },
  {
   "cell_type": "code",
   "execution_count": null,
   "metadata": {},
   "outputs": [],
   "source": []
  }
 ],
 "metadata": {
  "kernelspec": {
   "display_name": "Python 3",
   "language": "python",
   "name": "python3"
  },
  "language_info": {
   "codemirror_mode": {
    "name": "ipython",
    "version": 3
   },
   "file_extension": ".py",
   "mimetype": "text/x-python",
   "name": "python",
   "nbconvert_exporter": "python",
   "pygments_lexer": "ipython3",
   "version": "3.6.9"
  }
 },
 "nbformat": 4,
 "nbformat_minor": 4
}
