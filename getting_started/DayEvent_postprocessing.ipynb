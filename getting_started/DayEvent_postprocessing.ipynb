{
 "cells": [
  {
   "cell_type": "code",
   "execution_count": 1,
   "metadata": {},
   "outputs": [],
   "source": [
    "import numpy as np\n",
    "from sklearn.neighbors import KDTree\n",
    "from scipy import sparse\n",
    "import pandas as pd\n",
    "import matplotlib.pyplot as plt\n",
    "from itertools import product\n",
    "import os\n",
    "from tqdm import tqdm"
   ]
  },
  {
   "cell_type": "markdown",
   "metadata": {},
   "source": [
    "### Here to do:\n",
    "\n",
    "- load daily events\n",
    "- filter to selected 30 minutes interval\n",
    "- (match source and destination coordinates to coordinates of towers) - already done\n",
    "- encode mobility graph as edgelist\n",
    "- add node and edge properties\n",
    "- save to disk"
   ]
  },
  {
   "cell_type": "markdown",
   "metadata": {},
   "source": [
    "### Locate files"
   ]
  },
  {
   "cell_type": "code",
   "execution_count": 2,
   "metadata": {},
   "outputs": [],
   "source": [
    "source = '/mnt/DayEventData/'\n",
    "target = '/mnt/TimeIntervalGraphs/'"
   ]
  },
  {
   "cell_type": "code",
   "execution_count": 3,
   "metadata": {
    "scrolled": true
   },
   "outputs": [
    {
     "data": {
      "text/plain": [
       "((365,),\n",
       " array(['output_daily-events-data_20181201.npy',\n",
       "        'output_daily-events-data_20181202.npy',\n",
       "        'output_daily-events-data_20181203.npy'], dtype='<U37'))"
      ]
     },
     "execution_count": 3,
     "metadata": {},
     "output_type": "execute_result"
    }
   ],
   "source": [
    "files = np.array( sorted([ i for i in os.listdir(source) ]) )\n",
    "files.shape, files[:3]"
   ]
  },
  {
   "cell_type": "code",
   "execution_count": 4,
   "metadata": {},
   "outputs": [
    {
     "data": {
      "text/plain": [
       "((14159238, 11),\n",
       " array([[     0,   1030, 345487, 881163, 345310, 880801,      5,      0,\n",
       "              4,   1757,  21204],\n",
       "        [     1,    363, 156564, 770772, 149221, 760274,     10,     12,\n",
       "             76,  13707,  13712],\n",
       "        [     1,    536, 148846, 757811, 146361, 760609,      2,      3,\n",
       "            112,  31731,   3480],\n",
       "        [     1,    538, 146361, 760609, 139448, 759589,      5,      6,\n",
       "             83,   3480,  31569],\n",
       "        [     1,    543, 139448, 759589, 149221, 760274,     30,      9,\n",
       "             19,  31569,  13709]], dtype=int32))"
      ]
     },
     "execution_count": 4,
     "metadata": {},
     "output_type": "execute_result"
    }
   ],
   "source": [
    "eq_info = np.load( source+files[0] )\n",
    "eq_info.shape, eq_info[:5]"
   ]
  },
  {
   "cell_type": "code",
   "execution_count": 5,
   "metadata": {
    "scrolled": false
   },
   "outputs": [
    {
     "data": {
      "text/plain": [
       "((43376, 4),\n",
       " array([[ 71892,      0, 250859, 557285],\n",
       "        [ 72307,      1, 243343, 558377],\n",
       "        [ 72922,      2, 247254, 549716],\n",
       "        [ 73325,      3, 248646, 551068],\n",
       "        [140903,      4, 273540, 796042]]))"
      ]
     },
     "execution_count": 5,
     "metadata": {},
     "output_type": "execute_result"
    }
   ],
   "source": [
    "tower_info = pd.read_csv( '/mnt/DayPolygonData/fixed_tower_locations.csv' ).values[:,:4]\n",
    "tower_info.shape, tower_info[:5]"
   ]
  },
  {
   "cell_type": "code",
   "execution_count": 6,
   "metadata": {},
   "outputs": [
    {
     "data": {
      "text/plain": [
       "(43383, 0)"
      ]
     },
     "execution_count": 6,
     "metadata": {},
     "output_type": "execute_result"
    }
   ],
   "source": [
    "np.max( tower_info[:,1] ), np.min( tower_info[:,1] )"
   ]
  },
  {
   "cell_type": "markdown",
   "metadata": {},
   "source": [
    "#### Define adjmat"
   ]
  },
  {
   "cell_type": "code",
   "execution_count": 7,
   "metadata": {
    "scrolled": true
   },
   "outputs": [
    {
     "data": {
      "text/plain": [
       "(43384, 43384)"
      ]
     },
     "execution_count": 7,
     "metadata": {},
     "output_type": "execute_result"
    }
   ],
   "source": [
    "adj_mat = np.zeros( (43384, 43384), dtype=np.uint32 )\n",
    "adj_mat.shape"
   ]
  },
  {
   "cell_type": "code",
   "execution_count": 8,
   "metadata": {},
   "outputs": [
    {
     "data": {
      "text/plain": [
       "array([[0, 0, 0, ..., 0, 0, 0],\n",
       "       [0, 0, 0, ..., 0, 0, 0],\n",
       "       [0, 0, 0, ..., 0, 0, 0],\n",
       "       ...,\n",
       "       [0, 0, 0, ..., 0, 0, 0],\n",
       "       [0, 0, 0, ..., 0, 0, 0],\n",
       "       [0, 0, 0, ..., 0, 0, 0]], dtype=uint32)"
      ]
     },
     "execution_count": 8,
     "metadata": {},
     "output_type": "execute_result"
    }
   ],
   "source": [
    "adj_mat"
   ]
  },
  {
   "cell_type": "markdown",
   "metadata": {},
   "source": [
    "#### Check if towers are really matched"
   ]
  },
  {
   "cell_type": "code",
   "execution_count": 9,
   "metadata": {
    "scrolled": true
   },
   "outputs": [
    {
     "data": {
      "text/plain": [
       "array([     0,   1030, 345487, 881163, 345310, 880801,      5,      0,\n",
       "            4,   1757,  21204], dtype=int32)"
      ]
     },
     "execution_count": 9,
     "metadata": {},
     "output_type": "execute_result"
    }
   ],
   "source": [
    "eq_info[0]"
   ]
  },
  {
   "cell_type": "code",
   "execution_count": 10,
   "metadata": {},
   "outputs": [
    {
     "data": {
      "text/plain": [
       "(array([[1599873,    1757,  345487,  881163]]),\n",
       " array([[146902721,     21204,    345310,    880801]]))"
      ]
     },
     "execution_count": 10,
     "metadata": {},
     "output_type": "execute_result"
    }
   ],
   "source": [
    "tower_info[ tower_info[:,1] == 1757 ], tower_info[ tower_info[:,1] == 21204 ] "
   ]
  },
  {
   "cell_type": "markdown",
   "metadata": {},
   "source": [
    "### Specify a 30 minutes interval"
   ]
  },
  {
   "cell_type": "code",
   "execution_count": 11,
   "metadata": {
    "scrolled": false
   },
   "outputs": [
    {
     "data": {
      "text/plain": [
       "((543778, 11),\n",
       " array([[     6,    612, 304522, 776222, 305704, 777890,      1,      2,\n",
       "            122,  15070,  39568],\n",
       "        [     6,    613, 305704, 777890, 305349, 777562,      2,      0,\n",
       "             14,  39568,   5073],\n",
       "        [     6,    615, 304522, 776222, 305349, 777562,      1,      1,\n",
       "             94,  15070,   5073]], dtype=int32))"
      ]
     },
     "execution_count": 11,
     "metadata": {},
     "output_type": "execute_result"
    }
   ],
   "source": [
    "eq_interval = eq_info[ np.in1d( eq_info[:,1], np.arange(600, 630) ) ]\n",
    "eq_interval.shape, eq_interval[:3]"
   ]
  },
  {
   "cell_type": "code",
   "execution_count": 12,
   "metadata": {},
   "outputs": [],
   "source": [
    "uq, counts = np.unique( np.concatenate( ( eq_interval[:,-2:], \n",
    "                             np.ones(eq_interval.shape[0]).reshape(-1,1) ), \n",
    "                          axis=1 ).astype(np.uint16), \n",
    "          return_counts=True, axis=0 )\n",
    "V = np.concatenate( ( uq[:,:2], counts.reshape(-1,1) ), axis=1 )"
   ]
  },
  {
   "cell_type": "code",
   "execution_count": 28,
   "metadata": {
    "scrolled": false
   },
   "outputs": [
    {
     "data": {
      "text/plain": [
       "array([[    0,     2,     2],\n",
       "       [    0, 42861,     1],\n",
       "       [    0, 32153,    16],\n",
       "       [    0, 31997,     1],\n",
       "       [    0, 31878,     1],\n",
       "       [    0, 31482,     1],\n",
       "       [    0, 26496,     2],\n",
       "       [    0, 26227,     1],\n",
       "       [    0, 26221,     1],\n",
       "       [    0, 23758,     2],\n",
       "       [    0, 20375,     1],\n",
       "       [    0, 24465,     1],\n",
       "       [    0, 15296,     1],\n",
       "       [    0, 14988,     1],\n",
       "       [    0, 12378,     4],\n",
       "       [    0, 12375,    15],\n",
       "       [    0,  9109,     1],\n",
       "       [    0,  8669,     1],\n",
       "       [    0,  7441,     8],\n",
       "       [    0,  7412,     9],\n",
       "       [    0,  4304,     1],\n",
       "       [    0, 15297,     1],\n",
       "       [    1, 20584,     1],\n",
       "       [    1, 40927,     1],\n",
       "       [    1, 31999,     3],\n",
       "       [    1, 31997,     1],\n",
       "       [    1, 26496,     3],\n",
       "       [    1, 20491,     1],\n",
       "       [    1, 41868,     1],\n",
       "       [    1, 12376,     1],\n",
       "       [    1, 12375,     1],\n",
       "       [    1,  8670,     1],\n",
       "       [    1,  8669,     5],\n",
       "       [    1,     0,     1],\n",
       "       [    1, 12379,     1],\n",
       "       [    2, 20584,     1],\n",
       "       [    2, 21669,     2],\n",
       "       [    2, 23584,     1],\n",
       "       [    2, 26495,     5],\n",
       "       [    2, 31874,     1]])"
      ]
     },
     "execution_count": 28,
     "metadata": {},
     "output_type": "execute_result"
    }
   ],
   "source": [
    "V[ np.argsort( V[:,0] ) ][:40]"
   ]
  },
  {
   "cell_type": "code",
   "execution_count": 14,
   "metadata": {},
   "outputs": [],
   "source": [
    "adj_mat[ V[:,0], V[:,1] ] = V[:,2]"
   ]
  },
  {
   "cell_type": "code",
   "execution_count": 15,
   "metadata": {},
   "outputs": [],
   "source": [
    "adj_mat = adj_mat + adj_mat.T"
   ]
  },
  {
   "cell_type": "code",
   "execution_count": 16,
   "metadata": {
    "scrolled": true
   },
   "outputs": [
    {
     "data": {
      "text/plain": [
       "array([[0, 1, 4, ..., 0, 0, 0],\n",
       "       [1, 0, 0, ..., 0, 0, 0],\n",
       "       [4, 0, 0, ..., 0, 0, 0],\n",
       "       ...,\n",
       "       [0, 0, 0, ..., 0, 0, 0],\n",
       "       [0, 0, 0, ..., 0, 0, 0],\n",
       "       [0, 0, 0, ..., 0, 0, 0]], dtype=uint32)"
      ]
     },
     "execution_count": 16,
     "metadata": {},
     "output_type": "execute_result"
    }
   ],
   "source": [
    "adj_mat"
   ]
  },
  {
   "cell_type": "code",
   "execution_count": 17,
   "metadata": {},
   "outputs": [],
   "source": [
    "idxs = np.argwhere( adj_mat )"
   ]
  },
  {
   "cell_type": "code",
   "execution_count": 18,
   "metadata": {},
   "outputs": [],
   "source": [
    "filt = idxs[:,0] < idxs[:,1]"
   ]
  },
  {
   "cell_type": "code",
   "execution_count": 19,
   "metadata": {},
   "outputs": [],
   "source": [
    "V_new = np.concatenate( (idxs[filt], adj_mat[ idxs[:,0][filt], idxs[:,1][filt] ].reshape(-1,1) ), axis=1 )"
   ]
  },
  {
   "cell_type": "code",
   "execution_count": 20,
   "metadata": {},
   "outputs": [
    {
     "data": {
      "text/plain": [
       "array([[    0,     1,     1],\n",
       "       [    0,     2,     4],\n",
       "       [    0,  4304,     1],\n",
       "       ...,\n",
       "       [43378, 43380,     2],\n",
       "       [43378, 43383,     2],\n",
       "       [43379, 43380,     3]])"
      ]
     },
     "execution_count": 20,
     "metadata": {},
     "output_type": "execute_result"
    }
   ],
   "source": [
    "V_new"
   ]
  },
  {
   "cell_type": "markdown",
   "metadata": {},
   "source": [
    "#### Data structure to save data as"
   ]
  },
  {
   "cell_type": "markdown",
   "metadata": {},
   "source": [
    "- `data.x`: Node feature matrix with shape [num_nodes, num_node_features]\n",
    "\n",
    "- `data.edge_index`: Graph connectivity in COO format with shape [2, num_edges] and type torch.long\n",
    "\n",
    "- `data.edge_attr`: Edge feature matrix with shape [num_edges, num_edge_features]\n",
    "\n",
    "- `data.y`: Target to train against (may have arbitrary shape), e.g., node-level targets of shape [num_nodes, *] or graph-level targets of shape [1, *]\n",
    "\n",
    "- `data.pos`: Node position matrix with shape [num_nodes, num_dimensions]"
   ]
  },
  {
   "cell_type": "code",
   "execution_count": 39,
   "metadata": {
    "scrolled": false
   },
   "outputs": [
    {
     "data": {
      "text/plain": [
       "((2, 232656), (232656, 1), (43376, 2))"
      ]
     },
     "execution_count": 39,
     "metadata": {},
     "output_type": "execute_result"
    }
   ],
   "source": [
    "data_edge_index = V_new[:,:2].T\n",
    "data_edge_attr = V_new[:,-1].reshape(-1,1)\n",
    "data_x = tower_info[:,2:]\n",
    "data_edge_index.shape, data_edge_attr.shape, data_x.shape"
   ]
  },
  {
   "cell_type": "markdown",
   "metadata": {},
   "source": [
    "### Define functions to do the work for all files and time intervals"
   ]
  },
  {
   "cell_type": "code",
   "execution_count": 11,
   "metadata": {
    "scrolled": true
   },
   "outputs": [
    {
     "data": {
      "text/plain": [
       "(array([[ 0, 30],\n",
       "        [30, 60],\n",
       "        [60, 90]]),\n",
       " array([[1350, 1380],\n",
       "        [1380, 1410],\n",
       "        [1410, 1440]]))"
      ]
     },
     "execution_count": 11,
     "metadata": {},
     "output_type": "execute_result"
    }
   ],
   "source": [
    "time_splits = np.vstack( (np.arange(0,1470,30)[:-1], np.arange(0,1470,30)[1:]) ).T\n",
    "time_splits[:3], time_splits[-3:]"
   ]
  },
  {
   "cell_type": "code",
   "execution_count": 12,
   "metadata": {},
   "outputs": [],
   "source": [
    "def create_graph( eq_interval, tower_info, savename ):\n",
    "    # get multiple movements as weights\n",
    "    uq, counts = np.unique( np.concatenate( ( eq_interval[:,-2:], \n",
    "                                 np.ones(eq_interval.shape[0]).reshape(-1,1) ), \n",
    "                              axis=1 ).astype(np.uint16), \n",
    "              return_counts=True, axis=0 )\n",
    "    \n",
    "    # create edgelist\n",
    "    V = np.concatenate( ( uq[:,:2], counts.reshape(-1,1) ), axis=1 )\n",
    "    \n",
    "    # create adjacency matrix and make graph undirected\n",
    "    adj_mat = np.zeros( (43384, 43384), dtype=np.uint32 )\n",
    "    adj_mat[ V[:,0], V[:,1] ] = V[:,2]\n",
    "    adj_mat = adj_mat + adj_mat.T\n",
    "    \n",
    "    # get back the edgelist\n",
    "    idxs = np.argwhere( adj_mat )\n",
    "    filt = idxs[:,0] < idxs[:,1]\n",
    "    V_new = np.concatenate( (idxs[filt], adj_mat[ idxs[:,0][filt], idxs[:,1][filt] ].reshape(-1,1) ), axis=1 )\n",
    "    \n",
    "    data_edge_index = V_new[:,:2].T\n",
    "    data_edge_attr = V_new[:,-1].reshape(-1,1)\n",
    "    data_x = tower_info[:,2:]\n",
    "    np.savez_compressed( savename, data_edge_index=data_edge_index, \n",
    "                         data_edge_attr=data_edge_attr, data_x=data_x )"
   ]
  },
  {
   "cell_type": "code",
   "execution_count": 13,
   "metadata": {
    "scrolled": true
   },
   "outputs": [
    {
     "data": {
      "text/plain": [
       "'20181201'"
      ]
     },
     "execution_count": 13,
     "metadata": {},
     "output_type": "execute_result"
    }
   ],
   "source": [
    "current_day = files[0]\n",
    "eq_info = np.load( source+current_day )\n",
    "date = current_day.split('.npy')[0][-8:]\n",
    "date"
   ]
  },
  {
   "cell_type": "code",
   "execution_count": 14,
   "metadata": {
    "scrolled": false
   },
   "outputs": [
    {
     "name": "stderr",
     "output_type": "stream",
     "text": [
      "100%|██████████| 48/48 [00:50<00:00,  1.04s/it]\n"
     ]
    }
   ],
   "source": [
    "current_day = files[0]\n",
    "eq_info = np.load( source+current_day )\n",
    "date = current_day.split('.npy')[0][-8:]\n",
    "\n",
    "for i in tqdm( range(time_splits.shape[0]) ):\n",
    "    eq_interval = eq_info[ np.in1d( eq_info[:,1],\n",
    "                                    np.arange( time_splits[i,0], time_splits[i,1] ) ) ]\n",
    "    savename = target+'graph_'+date+'_'+str(i)+'_'+'minutes-'+str(time_splits[i,0])+'-'+str(time_splits[i,1])\n",
    "    #print(savename)\n",
    "    create_graph( eq_interval, tower_info, savename )"
   ]
  },
  {
   "cell_type": "markdown",
   "metadata": {},
   "source": [
    "### Some investigations"
   ]
  },
  {
   "cell_type": "code",
   "execution_count": 37,
   "metadata": {
    "scrolled": true
   },
   "outputs": [
    {
     "name": "stdout",
     "output_type": "stream",
     "text": [
      "(1097878, 11)\n"
     ]
    },
    {
     "data": {
      "text/plain": [
       "((2, 476789), (476789, 1), (43376, 2))"
      ]
     },
     "execution_count": 37,
     "metadata": {},
     "output_type": "execute_result"
    }
   ],
   "source": [
    "eq_interval = eq_info[ np.in1d( eq_info[:,1], np.arange(600, 660) ) ]\n",
    "print( eq_interval.shape )\n",
    "\n",
    "uq, counts = np.unique( np.concatenate( ( eq_interval[:,-2:], \n",
    "                             np.ones(eq_interval.shape[0]).reshape(-1,1) ), \n",
    "                          axis=1 ).astype(np.uint16), \n",
    "          return_counts=True, axis=0 )\n",
    "V = np.concatenate( ( uq[:,:2], counts.reshape(-1,1) ), axis=1 )\n",
    "\n",
    "data_edge_index = V[:,:2].T\n",
    "data_edge_attr = V[:,-1].reshape(-1,1)\n",
    "data_x = tower_info[:,2:]\n",
    "data_edge_index.shape, data_edge_attr.shape, data_x.shape"
   ]
  },
  {
   "cell_type": "code",
   "execution_count": 30,
   "metadata": {
    "scrolled": true
   },
   "outputs": [
    {
     "data": {
      "image/png": "[encoded data removed]",
      "text/plain": [
       "<Figure size 432x288 with 1 Axes>"
      ]
     },
     "metadata": {
      "needs_background": "light"
     },
     "output_type": "display_data"
    }
   ],
   "source": [
    "_ = plt.hist( data_edge_attr.flatten(), np.arange(1,100,5) )"
   ]
  },
  {
   "cell_type": "code",
   "execution_count": 31,
   "metadata": {
    "scrolled": false
   },
   "outputs": [
    {
     "data": {
      "text/plain": [
       "0.7464670922298041"
      ]
     },
     "execution_count": 31,
     "metadata": {},
     "output_type": "execute_result"
    }
   ],
   "source": [
    "(data_edge_attr.flatten() == 1).sum() / data_edge_attr.flatten().shape[0]"
   ]
  },
  {
   "cell_type": "code",
   "execution_count": 32,
   "metadata": {},
   "outputs": [
    {
     "data": {
      "text/plain": [
       "0.1260320573109479"
      ]
     },
     "execution_count": 32,
     "metadata": {},
     "output_type": "execute_result"
    }
   ],
   "source": [
    "(data_edge_attr.flatten() == 2).sum() / data_edge_attr.flatten().shape[0]"
   ]
  },
  {
   "cell_type": "code",
   "execution_count": 33,
   "metadata": {},
   "outputs": [
    {
     "data": {
      "text/plain": [
       "0.04989494326936546"
      ]
     },
     "execution_count": 33,
     "metadata": {},
     "output_type": "execute_result"
    }
   ],
   "source": [
    "(data_edge_attr.flatten() == 3).sum() / data_edge_attr.flatten().shape[0]"
   ]
  },
  {
   "cell_type": "code",
   "execution_count": 34,
   "metadata": {
    "scrolled": true
   },
   "outputs": [
    {
     "data": {
      "text/plain": [
       "0.025333680187301144"
      ]
     },
     "execution_count": 34,
     "metadata": {},
     "output_type": "execute_result"
    }
   ],
   "source": [
    "(data_edge_attr.flatten() == 4).sum() / data_edge_attr.flatten().shape[0]"
   ]
  },
  {
   "cell_type": "code",
   "execution_count": 35,
   "metadata": {
    "scrolled": true
   },
   "outputs": [
    {
     "data": {
      "text/plain": [
       "0.014551858003321793"
      ]
     },
     "execution_count": 35,
     "metadata": {},
     "output_type": "execute_result"
    }
   ],
   "source": [
    "(data_edge_attr.flatten() == 5).sum() / data_edge_attr.flatten().shape[0]"
   ]
  },
  {
   "cell_type": "markdown",
   "metadata": {},
   "source": [
    "#### Very small number of valid events are registered in this 30 minutes period!"
   ]
  },
  {
   "cell_type": "code",
   "execution_count": 111,
   "metadata": {
    "scrolled": true
   },
   "outputs": [
    {
     "data": {
      "text/plain": [
       "0.9539953899346908"
      ]
     },
     "execution_count": 111,
     "metadata": {},
     "output_type": "execute_result"
    }
   ],
   "source": [
    "0.7171292739147138+0.13450482959222876+0.05554374073870808+0.029430327643927338+0.01738721804511278"
   ]
  },
  {
   "cell_type": "code",
   "execution_count": null,
   "metadata": {},
   "outputs": [],
   "source": []
  },
  {
   "cell_type": "markdown",
   "metadata": {},
   "source": [
    "### TODO:\n",
    "- investigate polygon grid\n",
    "- fix polygon grid somehow beyond days, towers should be at the same pos\n",
    "- maybe do it in post proc phase with np.isclose and threshold\n",
    "- check polygons for technology (2G, 3G, 4G), maybe embed data into multiple layers?\n",
    "\n",
    "\n",
    "- check mobilecell data for different kind of events (data, sms, call)\n",
    "- which is most problematic?\n",
    "\n",
    "\n",
    "- can do great improvement:\n",
    "    * match polygon grid with openstreetmap\n",
    "    * movements should be along roads, trainlines, etc.\n",
    "    * might be good to interpolate only events shorter that 60 minutes\n",
    "\n",
    "\n",
    "- goal: \n",
    "    * same network node distribution, same positions, but different links\n",
    "    * graph links evolving in time -> encoder embedding, LSTM or RNN to pred, then tranform back or look for link prediction algorithms"
   ]
  },
  {
   "cell_type": "markdown",
   "metadata": {},
   "source": [
    "Some sources:\n",
    "\n",
    "- https://github.com/facebookresearch/SEAL_OGB\n",
    "- https://ogb.stanford.edu/docs/linkprop/#ogbl-ppa\n",
    "- https://ogb.stanford.edu/docs/leader_linkprop/\n"
   ]
  },
  {
   "cell_type": "markdown",
   "metadata": {},
   "source": [
    "https://towardsdatascience.com/tutorial-on-variational-graph-auto-encoders-da9333281129\n",
    "\n",
    "https://github.com/tkipf/gae\n",
    "\n",
    "https://pytorch-geometric.readthedocs.io/en/latest/notes/introduction.html"
   ]
  }
 ],
 "metadata": {
  "kernelspec": {
   "display_name": "Python 3",
   "language": "python",
   "name": "python3"
  },
  "language_info": {
   "codemirror_mode": {
    "name": "ipython",
    "version": 3
   },
   "file_extension": ".py",
   "mimetype": "text/x-python",
   "name": "python",
   "nbconvert_exporter": "python",
   "pygments_lexer": "ipython3",
   "version": "3.6.9"
  }
 },
 "nbformat": 4,
 "nbformat_minor": 2
}
