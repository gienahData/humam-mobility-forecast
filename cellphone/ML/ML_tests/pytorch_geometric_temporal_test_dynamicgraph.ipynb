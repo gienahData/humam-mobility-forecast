{
 "cells": [
  {
   "cell_type": "code",
   "execution_count": 4,
   "metadata": {},
   "outputs": [],
   "source": [
    "import numpy as np\n",
    "import networkx as nx\n",
    "\n",
    "from torch_geometric_temporal.signal import temporal_signal_split\n",
    "from torch_geometric_temporal.signal import StaticGraphTemporalSignal\n",
    "from torch_geometric_temporal.dataset import PedalMeDatasetLoader, ChickenpoxDatasetLoader\n",
    "\n",
    "import torch\n",
    "import torch.nn.functional as F\n",
    "from torch_geometric_temporal.nn.recurrent import DCRNN\n",
    "\n",
    "from tqdm import tqdm\n",
    "\n",
    "from torch_geometric_temporal.signal import temporal_signal_split\n"
   ]
  },
  {
   "cell_type": "markdown",
   "metadata": {},
   "source": [
    "### https://pytorch-geometric-temporal.readthedocs.io/en/latest/notes/introduction.html#epidemiological-forecasting"
   ]
  },
  {
   "cell_type": "code",
   "execution_count": 5,
   "metadata": {},
   "outputs": [],
   "source": [
    "def get_edge_array(node_count, node_start):\n",
    "    edges = []\n",
    "    for edge in nx.gnp_random_graph(node_count, 0.1).edges():\n",
    "        edges.append([edge[0]+node_start, edge[1]+node_start])\n",
    "    return np.array(edges)\n",
    "\n",
    "def generate_signal(snapshot_count, node_count, feature_count, graph_count):\n",
    "    edge_indices= []\n",
    "    edge_weights = []\n",
    "    features = []\n",
    "    targets = []\n",
    "    batches = []\n",
    "    for snapshot in range(snapshot_count):\n",
    "        node_start = 0\n",
    "        edge_indices_s = []\n",
    "        edge_weights_s = []\n",
    "        features_s = []\n",
    "        targets_s = []\n",
    "        batches_s = []\n",
    "        for i in range(graph_count):\n",
    "            edge_indices_s.append(get_edge_array(node_count, node_start))\n",
    "            edge_weights_s.append((np.ones(edge_indices_s[-1].shape[0])))\n",
    "            features_s.append(np.random.uniform(0,1, (node_count, feature_count)))\n",
    "            targets_s.append(np.array([np.random.choice([0,1]) for _ in range(node_count)]))\n",
    "            batches_s.append(np.array([i for _ in range(node_count)]))\n",
    "            node_start = node_start + node_count\n",
    "        edge_indices.append(np.concatenate(edge_indices_s).T)\n",
    "        edge_weights.append(np.concatenate(edge_weights_s))\n",
    "        features.append(np.concatenate(features_s))\n",
    "        targets.append(np.concatenate(targets_s))\n",
    "        batches.append(np.concatenate(batches_s))\n",
    "    \n",
    "    return edge_indices, edge_weights, features, targets, batches"
   ]
  },
  {
   "cell_type": "code",
   "execution_count": 6,
   "metadata": {},
   "outputs": [],
   "source": [
    "snapshot_count = 250\n",
    "n_count = 100\n",
    "feature_count = 32\n",
    "graph_count = 10\n",
    "\n",
    "edge_indices, edge_weights, features, targets, batches = generate_signal(250, 100, 32, graph_count)"
   ]
  },
  {
   "cell_type": "code",
   "execution_count": 11,
   "metadata": {},
   "outputs": [
    {
     "data": {
      "text/plain": [
       "((2, 4960), (2, 5038), (2, 4839))"
      ]
     },
     "execution_count": 11,
     "metadata": {},
     "output_type": "execute_result"
    }
   ],
   "source": [
    "edge_indices[0].shape, edge_indices[1].shape, edge_indices[2].shape"
   ]
  },
  {
   "cell_type": "code",
   "execution_count": 19,
   "metadata": {},
   "outputs": [
    {
     "data": {
      "text/plain": [
       "[array([[  0,   0,   0, ..., 991, 992, 993],\n",
       "        [  4,  19,  30, ..., 994, 994, 996]]),\n",
       " array([[  0,   0,   0, ..., 991, 991, 993],\n",
       "        [  8,  11,  28, ..., 993, 998, 998]]),\n",
       " array([[  0,   0,   0, ..., 989, 990, 990],\n",
       "        [ 24,  36,  61, ..., 995, 992, 998]]),\n",
       " array([[  0,   0,   0, ..., 990, 990, 993],\n",
       "        [  6,  10,  24, ..., 993, 997, 996]]),\n",
       " array([[  0,   0,   0, ..., 992, 994, 998],\n",
       "        [  2,  12,  16, ..., 997, 995, 999]]),\n",
       " array([[  0,   0,   0, ..., 992, 992, 998],\n",
       "        [ 12,  13,  22, ..., 995, 996, 999]]),\n",
       " array([[  0,   0,   0, ..., 991, 994, 997],\n",
       "        [ 12,  27,  41, ..., 998, 998, 998]]),\n",
       " array([[  0,   0,   0, ..., 989, 989, 993],\n",
       "        [ 56,  62,  63, ..., 997, 999, 996]]),\n",
       " array([[  0,   0,   0, ..., 992, 993, 994],\n",
       "        [  5,  20,  69, ..., 996, 995, 997]]),\n",
       " array([[  0,   0,   0, ..., 993, 997, 997],\n",
       "        [ 18,  34,  39, ..., 999, 998, 999]])]"
      ]
     },
     "execution_count": 19,
     "metadata": {},
     "output_type": "execute_result"
    }
   ],
   "source": [
    "edge_indices[:10]"
   ]
  },
  {
   "cell_type": "code",
   "execution_count": null,
   "metadata": {},
   "outputs": [],
   "source": []
  },
  {
   "cell_type": "code",
   "execution_count": null,
   "metadata": {},
   "outputs": [],
   "source": []
  },
  {
   "cell_type": "code",
   "execution_count": null,
   "metadata": {},
   "outputs": [],
   "source": [
    "dataset = DynamicGraphTemporalSignalBatch(edge_indices, edge_weights, features, targets, batches)\n"
   ]
  },
  {
   "cell_type": "code",
   "execution_count": null,
   "metadata": {},
   "outputs": [],
   "source": [
    " for epoch in range(2):\n",
    "        for snapshot in dataset:\n",
    "            assert snapshot.edge_index.shape[0] == 2\n",
    "            assert snapshot.edge_index.shape[1] == snapshot.edge_attr.shape[0]\n",
    "            assert snapshot.x.shape == (1000, 32)\n",
    "            assert snapshot.y.shape == (1000, )\n",
    "            assert snapshot.batch.shape == (1000, )"
   ]
  }
 ],
 "metadata": {
  "kernelspec": {
   "display_name": "Python 3",
   "language": "python",
   "name": "python3"
  },
  "language_info": {
   "codemirror_mode": {
    "name": "ipython",
    "version": 3
   },
   "file_extension": ".py",
   "mimetype": "text/x-python",
   "name": "python",
   "nbconvert_exporter": "python",
   "pygments_lexer": "ipython3",
   "version": "3.6.9"
  }
 },
 "nbformat": 4,
 "nbformat_minor": 2
}
