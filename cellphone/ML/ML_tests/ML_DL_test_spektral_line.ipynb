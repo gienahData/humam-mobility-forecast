{
 "cells": [
  {
   "cell_type": "markdown",
   "metadata": {},
   "source": [
    "### Import packages"
   ]
  },
  {
   "cell_type": "code",
   "execution_count": 1,
   "metadata": {},
   "outputs": [],
   "source": [
    "import numpy as np\n",
    "import matplotlib.pyplot as plt\n",
    "import os\n",
    "import pandas as pd\n",
    "from scipy.spatial import distance\n",
    "from tqdm import tqdm\n",
    "\n",
    "import spektral\n",
    "import matplotlib.pyplot as plt\n",
    "\n",
    "from spektral.layers.convolutional import GraphSageConv, GCNConv, EdgeConv, ECCConv\n",
    "from spektral.layers.pooling import GlobalAttentionPool\n",
    "from spektral import utils\n",
    "\n",
    "import tensorflow as tf\n",
    "from tensorflow.keras.models import Model\n",
    "from tensorflow.keras.layers import Input, Dropout, Flatten, Concatenate, Dense\n",
    "from tensorflow.keras import backend as K\n",
    "from tensorflow.keras.metrics import mean_squared_error\n",
    "from tensorflow.keras.utils import multi_gpu_model\n",
    "from tensorflow.keras.optimizers import Adam"
   ]
  },
  {
   "cell_type": "markdown",
   "metadata": {},
   "source": [
    "### Load prepared data"
   ]
  },
  {
   "cell_type": "code",
   "execution_count": 18,
   "metadata": {
    "scrolled": true
   },
   "outputs": [
    {
     "data": {
      "text/plain": [
       "(array(['graphNN_linegraph_samples_series-3_target-1_20181201.npz',\n",
       "        'graphNN_linegraph_samples_series-3_target-1_20181202.npz',\n",
       "        'graphNN_linegraph_samples_series-3_target-1_20181203.npz',\n",
       "        'graphNN_linegraph_samples_series-3_target-1_20181204.npz',\n",
       "        'graphNN_linegraph_samples_series-3_target-1_20181205.npz',\n",
       "        'graphNN_linegraph_samples_series-3_target-1_20181206.npz',\n",
       "        'graphNN_linegraph_samples_series-3_target-1_20181207.npz',\n",
       "        'graphNN_linegraph_samples_series-3_target-1_20181208.npz',\n",
       "        'graphNN_linegraph_samples_series-3_target-1_20181209.npz',\n",
       "        'graphNN_linegraph_samples_series-3_target-1_20181210.npz'],\n",
       "       dtype='<U56'), (151,))"
      ]
     },
     "execution_count": 18,
     "metadata": {},
     "output_type": "execute_result"
    }
   ],
   "source": [
    "source = '/media/storage_3/abiricz/Mobilcell/TimeIntervalGraphs_spektral/'\n",
    "#source = '/media/Data_storage/Mobilcell/TimeIntervalGraphs_spektral/'\n",
    "source_pol = '/media/storage_3/abiricz/Mobilcell/DayPolygonData/'\n",
    "files = np.array( sorted([ i for i in os.listdir(source) if 'line' in i ]) )\n",
    "files = np.array( sorted([ j for j in files if '-3_' in j ]) )\n",
    "files[:10], files.shape"
   ]
  },
  {
   "cell_type": "code",
   "execution_count": 19,
   "metadata": {
    "scrolled": false
   },
   "outputs": [
    {
     "data": {
      "text/plain": [
       "array(['20181201', '20181202', '20181203', '20181204', '20181205'],\n",
       "      dtype='<U8')"
      ]
     },
     "execution_count": 19,
     "metadata": {},
     "output_type": "execute_result"
    }
   ],
   "source": [
    "dates = np.unique( [ j.split('_')[5][:-4] for j in files ] )\n",
    "dates[:5]"
   ]
  },
  {
   "cell_type": "markdown",
   "metadata": {},
   "source": [
    "### Concept:\n",
    "- node prediction on line graph -> edge weight prediction on the real graph\n",
    "- spektral is a lightweight package to try a basic model out\n",
    "- here presented: node prediction with minimal features (time, day coded) and 3 previous consequtive steps of edge weights are included to predict the edge weights for an hour in advance (t+1)"
   ]
  },
  {
   "cell_type": "markdown",
   "metadata": {},
   "source": [
    "### Data loader "
   ]
  },
  {
   "cell_type": "code",
   "execution_count": 16,
   "metadata": {},
   "outputs": [],
   "source": [
    "def load_data(daynum, week=False):\n",
    "    if not week:\n",
    "        loaded = np.load( source+'graphNN_linegraph_samples_series-3_target-1_'+dates[daynum]+'.npz' )\n",
    "\n",
    "        # load relevant data\n",
    "        nfs_line = loaded['nf_line'] # time and day added as node features\n",
    "        nf_line_targets = np.copy( nfs_line[:,:,3] )\n",
    "        nfs_line = nfs_line[:,:, np.concatenate( ( np.arange(0,3), \n",
    "                                     np.arange(4,7), \n",
    "                                     np.arange(8, nfs_line.shape[2]) ) ) ]\n",
    "        \n",
    "        # normalization\n",
    "        nfs_line[:,:,[0,1,2]] /= 1000\n",
    "        nf_line_targets /= 1000\n",
    "\n",
    "        # read and transform adj mat for use with graph NN\n",
    "        adj_mat_line = loaded['adj_mat_line']\n",
    "        adj_mat_line = utils.normalized_laplacian(adj_mat_line) # gen norm lapl\n",
    "        adj_mat_line = np.repeat( np.expand_dims(adj_mat_line, 0), 20, 0 )    \n",
    "        return adj_mat_line, nfs_line, nf_line_targets\n",
    "    else:\n",
    "        adj_mat_line_all = []\n",
    "        nfs_line_all = []\n",
    "        nf_line_targets_all = []\n",
    "        for n in range( daynum, daynum+7 ):\n",
    "            loaded = np.load( source+'graphNN_linegraph_samples_series-3_target-1_'+dates[daynum]+'.npz' )\n",
    "\n",
    "            # load relevant data\n",
    "            nfs_line = loaded['nf_line'] # time and day added as node features\n",
    "            nf_line_targets = np.copy( nfs_line[:,:,3] )\n",
    "            nfs_line = nfs_line[:,:, np.concatenate( ( np.arange(0,3), \n",
    "                                     np.arange(4,7), \n",
    "                                     np.arange(8, nfs_line.shape[2]) ) ) ]\n",
    "\n",
    "            # normalization\n",
    "            nfs_line[:,:,[0,1,2]] /= 1000\n",
    "            nf_line_targets /= 1000\n",
    "\n",
    "            # read and transform adj mat for use with graph NN\n",
    "            adj_mat_line = loaded['adj_mat_line']\n",
    "            adj_mat_line = utils.normalized_laplacian(adj_mat_line) # gen norm lapl\n",
    "            adj_mat_line = np.repeat( np.expand_dims(adj_mat_line, 0), 20, 0 )\n",
    "            \n",
    "            adj_mat_line_all.append( adj_mat_line )\n",
    "            nfs_line_all.append( nfs_line )\n",
    "            nf_line_targets_all.append( nf_line_targets )\n",
    "        adj_mat_line_all = np.concatenate( adj_mat_line_all )\n",
    "        nfs_line_all = np.concatenate( nfs_line_all )\n",
    "        nf_line_targets_all = np.concatenate( nf_line_targets_all )\n",
    "        \n",
    "        return adj_mat_line_all, nfs_line_all, nf_line_targets_all"
   ]
  },
  {
   "cell_type": "markdown",
   "metadata": {},
   "source": [
    "#### Load a day"
   ]
  },
  {
   "cell_type": "code",
   "execution_count": 5,
   "metadata": {},
   "outputs": [
    {
     "name": "stdout",
     "output_type": "stream",
     "text": [
      "(20, 3150, 33)\n"
     ]
    },
    {
     "data": {
      "text/plain": [
       "((20, 3150, 3150), (20, 3150, 31), (20, 3150))"
      ]
     },
     "execution_count": 5,
     "metadata": {},
     "output_type": "execute_result"
    }
   ],
   "source": [
    "adj_mat, nfs, nf_targets = load_data(0)\n",
    "adj_mat.shape, nfs.shape, nf_targets.shape"
   ]
  },
  {
   "cell_type": "markdown",
   "metadata": {},
   "source": [
    "#### Load a week"
   ]
  },
  {
   "cell_type": "raw",
   "metadata": {},
   "source": [
    "adj_mat, nfs, nf_targets = load_data(0, week=True)\n",
    "adj_mat.shape, nfs.shape, nf_targets.shape"
   ]
  },
  {
   "cell_type": "markdown",
   "metadata": {},
   "source": [
    "### ML"
   ]
  },
  {
   "cell_type": "markdown",
   "metadata": {},
   "source": [
    "#### Parameter settings"
   ]
  },
  {
   "cell_type": "code",
   "execution_count": 6,
   "metadata": {},
   "outputs": [],
   "source": [
    "# Parameters\n",
    "N = nfs.shape[-2]          # Number of nodes in the graphs\n",
    "F = nfs.shape[-1]          # Node features dimensionality\n",
    "#S = ef_mats.shape[-1]      # Edge feature dim\n",
    "#N_line = nf_train_line.shape[-2]          # Number of nodes in the graphs\n",
    "#F_line = nf_train_line.shape[-1]          # Node features dimensionality\n",
    "# Dimensionalities of the targets\n",
    "n_out = nf_targets.shape[-2]\n",
    "learning_rate = 1e-3      # Learning rate for SGD\n",
    "epochs = 20              # Number of training epochs\n",
    "batch_size = 4         # Batch size\n",
    "es_patience = 500           # Patience fot early stopping"
   ]
  },
  {
   "cell_type": "markdown",
   "metadata": {},
   "source": [
    "#### Model definition"
   ]
  },
  {
   "cell_type": "code",
   "execution_count": 7,
   "metadata": {},
   "outputs": [],
   "source": [
    "# Model definition\n",
    "nf_in = Input(shape=(N, F))\n",
    "adj_in = Input(shape=(N, N))\n",
    "\n",
    "gc0 = GCNConv( 256, activation='relu')([nf_in, adj_in])\n",
    "gc0 = GCNConv( 128, activation='relu')([gc0, adj_in])\n",
    "gc0 = GCNConv( 128, activation='relu')([gc0, adj_in])\n",
    "outp = GCNConv( 1, activation='relu')([gc0, adj_in])"
   ]
  },
  {
   "cell_type": "code",
   "execution_count": 8,
   "metadata": {
    "scrolled": false
   },
   "outputs": [
    {
     "name": "stdout",
     "output_type": "stream",
     "text": [
      "Model: \"functional_1\"\n",
      "__________________________________________________________________________________________________\n",
      "Layer (type)                    Output Shape         Param #     Connected to                     \n",
      "==================================================================================================\n",
      "input_1 (InputLayer)            [(None, 3150, 31)]   0                                            \n",
      "__________________________________________________________________________________________________\n",
      "input_2 (InputLayer)            [(None, 3150, 3150)] 0                                            \n",
      "__________________________________________________________________________________________________\n",
      "gcn_conv (GCNConv)              (None, 3150, 256)    8192        input_1[0][0]                    \n",
      "                                                                 input_2[0][0]                    \n",
      "__________________________________________________________________________________________________\n",
      "gcn_conv_1 (GCNConv)            (None, 3150, 128)    32896       gcn_conv[0][0]                   \n",
      "                                                                 input_2[0][0]                    \n",
      "__________________________________________________________________________________________________\n",
      "gcn_conv_2 (GCNConv)            (None, 3150, 128)    16512       gcn_conv_1[0][0]                 \n",
      "                                                                 input_2[0][0]                    \n",
      "__________________________________________________________________________________________________\n",
      "gcn_conv_3 (GCNConv)            (None, 3150, 1)      129         gcn_conv_2[0][0]                 \n",
      "                                                                 input_2[0][0]                    \n",
      "==================================================================================================\n",
      "Total params: 57,729\n",
      "Trainable params: 57,729\n",
      "Non-trainable params: 0\n",
      "__________________________________________________________________________________________________\n"
     ]
    }
   ],
   "source": [
    "# Build model\n",
    "model = Model( inputs=[nf_in, adj_in], outputs=outp )\n",
    "#model = multi_gpu_model(model, 2)\n",
    "optimizer = Adam( lr=learning_rate, amsgrad=True, decay=1e-6 )\n",
    "model.compile( optimizer=optimizer, loss='mae' )\n",
    "model.summary()"
   ]
  },
  {
   "cell_type": "code",
   "execution_count": 9,
   "metadata": {},
   "outputs": [],
   "source": [
    "import gc # to free memory"
   ]
  },
  {
   "cell_type": "markdown",
   "metadata": {},
   "source": [
    "#### Fitting the model"
   ]
  },
  {
   "cell_type": "code",
   "execution_count": 10,
   "metadata": {},
   "outputs": [],
   "source": [
    "def fit_model(start_day=0, end_day=100, week=True):\n",
    "    hists = []\n",
    "    for n in np.arange(start_day, end_day, 7):\n",
    "        adj_mat, nfs, nf_targets = load_data(n, week=week)\n",
    "        history = model.fit([nfs, adj_mat],\n",
    "                  nf_targets,\n",
    "                  batch_size=batch_size,\n",
    "                  validation_split=0.1,\n",
    "                  epochs=epochs)\n",
    "        hists.append(history)\n",
    "        del adj_mat, nfs, nf_targets\n",
    "        gc.collect()\n",
    "    return hists"
   ]
  },
  {
   "cell_type": "code",
   "execution_count": 11,
   "metadata": {
    "scrolled": true
   },
   "outputs": [
    {
     "name": "stdout",
     "output_type": "stream",
     "text": [
      "Epoch 1/20\n",
      "32/32 [==============================] - 2s 73ms/step - loss: 0.0515 - val_loss: 0.0527\n",
      "Epoch 2/20\n",
      "32/32 [==============================] - 2s 57ms/step - loss: 0.0427 - val_loss: 0.0452\n",
      "Epoch 3/20\n",
      "32/32 [==============================] - 2s 56ms/step - loss: 0.0377 - val_loss: 0.0394\n",
      "Epoch 4/20\n",
      "32/32 [==============================] - 2s 56ms/step - loss: 0.0339 - val_loss: 0.0378\n",
      "Epoch 5/20\n",
      "32/32 [==============================] - 2s 58ms/step - loss: 0.0329 - val_loss: 0.0356\n",
      "Epoch 6/20\n",
      "32/32 [==============================] - 2s 58ms/step - loss: 0.0309 - val_loss: 0.0342\n",
      "Epoch 7/20\n",
      "32/32 [==============================] - 2s 58ms/step - loss: 0.0299 - val_loss: 0.0334\n",
      "Epoch 8/20\n",
      "32/32 [==============================] - 2s 57ms/step - loss: 0.0291 - val_loss: 0.0321\n",
      "Epoch 9/20\n",
      "32/32 [==============================] - 2s 56ms/step - loss: 0.0284 - val_loss: 0.0313\n",
      "Epoch 10/20\n",
      "32/32 [==============================] - 2s 55ms/step - loss: 0.0286 - val_loss: 0.0321\n",
      "Epoch 11/20\n",
      "32/32 [==============================] - 2s 57ms/step - loss: 0.0284 - val_loss: 0.0313\n",
      "Epoch 12/20\n",
      "32/32 [==============================] - 2s 57ms/step - loss: 0.0279 - val_loss: 0.0316\n",
      "Epoch 13/20\n",
      "32/32 [==============================] - 2s 57ms/step - loss: 0.0276 - val_loss: 0.0311\n",
      "Epoch 14/20\n",
      "32/32 [==============================] - 2s 57ms/step - loss: 0.0272 - val_loss: 0.0299\n",
      "Epoch 15/20\n",
      "32/32 [==============================] - 2s 57ms/step - loss: 0.0264 - val_loss: 0.0295\n",
      "Epoch 16/20\n",
      "32/32 [==============================] - 2s 58ms/step - loss: 0.0260 - val_loss: 0.0291\n",
      "Epoch 17/20\n",
      "32/32 [==============================] - 2s 56ms/step - loss: 0.0262 - val_loss: 0.0296\n",
      "Epoch 18/20\n",
      "32/32 [==============================] - 2s 56ms/step - loss: 0.0260 - val_loss: 0.0297\n",
      "Epoch 19/20\n",
      "32/32 [==============================] - 2s 57ms/step - loss: 0.0258 - val_loss: 0.0291\n",
      "Epoch 20/20\n",
      "32/32 [==============================] - 2s 55ms/step - loss: 0.0262 - val_loss: 0.0297\n",
      "Epoch 1/20\n",
      "32/32 [==============================] - 2s 70ms/step - loss: 0.0275 - val_loss: 0.0328\n",
      "Epoch 2/20\n",
      "32/32 [==============================] - 2s 56ms/step - loss: 0.0269 - val_loss: 0.0318\n",
      "Epoch 3/20\n",
      "32/32 [==============================] - 2s 56ms/step - loss: 0.0271 - val_loss: 0.0320\n",
      "Epoch 4/20\n",
      "32/32 [==============================] - 2s 55ms/step - loss: 0.0267 - val_loss: 0.0313\n",
      "Epoch 5/20\n",
      "32/32 [==============================] - 2s 56ms/step - loss: 0.0260 - val_loss: 0.0309\n",
      "Epoch 6/20\n",
      "32/32 [==============================] - 2s 57ms/step - loss: 0.0258 - val_loss: 0.0306\n",
      "Epoch 7/20\n",
      "32/32 [==============================] - 2s 56ms/step - loss: 0.0257 - val_loss: 0.0308\n",
      "Epoch 8/20\n",
      "32/32 [==============================] - 2s 55ms/step - loss: 0.0255 - val_loss: 0.0302\n",
      "Epoch 9/20\n",
      "32/32 [==============================] - 2s 55ms/step - loss: 0.0253 - val_loss: 0.0300\n",
      "Epoch 10/20\n",
      "32/32 [==============================] - 2s 58ms/step - loss: 0.0253 - val_loss: 0.0300\n",
      "Epoch 11/20\n",
      "32/32 [==============================] - 2s 59ms/step - loss: 0.0251 - val_loss: 0.0304\n",
      "Epoch 12/20\n",
      "32/32 [==============================] - 2s 56ms/step - loss: 0.0260 - val_loss: 0.0300\n",
      "Epoch 13/20\n",
      "32/32 [==============================] - 2s 55ms/step - loss: 0.0257 - val_loss: 0.0314\n",
      "Epoch 14/20\n",
      "32/32 [==============================] - 2s 57ms/step - loss: 0.0255 - val_loss: 0.0302\n",
      "Epoch 15/20\n",
      "32/32 [==============================] - 2s 58ms/step - loss: 0.0254 - val_loss: 0.0297\n",
      "Epoch 16/20\n",
      "32/32 [==============================] - 2s 58ms/step - loss: 0.0251 - val_loss: 0.0297\n",
      "Epoch 17/20\n",
      "32/32 [==============================] - 2s 57ms/step - loss: 0.0255 - val_loss: 0.0293\n",
      "Epoch 18/20\n",
      "32/32 [==============================] - 2s 55ms/step - loss: 0.0250 - val_loss: 0.0294\n",
      "Epoch 19/20\n",
      "32/32 [==============================] - 2s 55ms/step - loss: 0.0250 - val_loss: 0.0301\n",
      "Epoch 20/20\n",
      "32/32 [==============================] - 2s 55ms/step - loss: 0.0248 - val_loss: 0.0301\n",
      "Epoch 1/20\n",
      "32/32 [==============================] - 2s 68ms/step - loss: 0.0259 - val_loss: 0.0291\n",
      "Epoch 2/20\n",
      "32/32 [==============================] - 2s 55ms/step - loss: 0.0251 - val_loss: 0.0289\n",
      "Epoch 3/20\n",
      "32/32 [==============================] - 2s 56ms/step - loss: 0.0249 - val_loss: 0.0284\n",
      "Epoch 4/20\n",
      "32/32 [==============================] - 2s 57ms/step - loss: 0.0245 - val_loss: 0.0279\n",
      "Epoch 5/20\n",
      "32/32 [==============================] - 2s 57ms/step - loss: 0.0244 - val_loss: 0.0277\n",
      "Epoch 6/20\n",
      "32/32 [==============================] - 2s 57ms/step - loss: 0.0242 - val_loss: 0.0275\n",
      "Epoch 7/20\n",
      "32/32 [==============================] - 2s 57ms/step - loss: 0.0240 - val_loss: 0.0271\n",
      "Epoch 8/20\n",
      "32/32 [==============================] - 2s 57ms/step - loss: 0.0243 - val_loss: 0.0280\n",
      "Epoch 9/20\n",
      "32/32 [==============================] - 2s 56ms/step - loss: 0.0246 - val_loss: 0.0281\n",
      "Epoch 10/20\n",
      "32/32 [==============================] - 2s 56ms/step - loss: 0.0243 - val_loss: 0.0274\n",
      "Epoch 11/20\n",
      "32/32 [==============================] - 2s 57ms/step - loss: 0.0242 - val_loss: 0.0277\n",
      "Epoch 12/20\n",
      "32/32 [==============================] - 2s 58ms/step - loss: 0.0240 - val_loss: 0.0273\n",
      "Epoch 13/20\n",
      "32/32 [==============================] - 2s 56ms/step - loss: 0.0238 - val_loss: 0.0268\n",
      "Epoch 14/20\n",
      "32/32 [==============================] - 2s 56ms/step - loss: 0.0234 - val_loss: 0.0269\n",
      "Epoch 15/20\n",
      "32/32 [==============================] - 2s 58ms/step - loss: 0.0231 - val_loss: 0.0263\n",
      "Epoch 16/20\n",
      "32/32 [==============================] - 2s 57ms/step - loss: 0.0236 - val_loss: 0.0270\n",
      "Epoch 17/20\n",
      "32/32 [==============================] - 2s 57ms/step - loss: 0.0234 - val_loss: 0.0275\n",
      "Epoch 18/20\n",
      "32/32 [==============================] - 2s 57ms/step - loss: 0.0237 - val_loss: 0.0264\n",
      "Epoch 19/20\n",
      "32/32 [==============================] - 2s 58ms/step - loss: 0.0234 - val_loss: 0.0270\n",
      "Epoch 20/20\n",
      "32/32 [==============================] - 2s 54ms/step - loss: 0.0236 - val_loss: 0.0261\n",
      "Epoch 1/20\n",
      "32/32 [==============================] - 2s 69ms/step - loss: 0.0247 - val_loss: 0.0290\n",
      "Epoch 2/20\n",
      "32/32 [==============================] - 2s 56ms/step - loss: 0.0243 - val_loss: 0.0287\n",
      "Epoch 3/20\n",
      "32/32 [==============================] - 2s 57ms/step - loss: 0.0237 - val_loss: 0.0282\n",
      "Epoch 4/20\n",
      "32/32 [==============================] - 2s 56ms/step - loss: 0.0234 - val_loss: 0.0280\n",
      "Epoch 5/20\n",
      "32/32 [==============================] - 2s 56ms/step - loss: 0.0236 - val_loss: 0.0287\n",
      "Epoch 6/20\n",
      "32/32 [==============================] - 2s 55ms/step - loss: 0.0239 - val_loss: 0.0281\n",
      "Epoch 7/20\n",
      "32/32 [==============================] - 2s 57ms/step - loss: 0.0234 - val_loss: 0.0294\n",
      "Epoch 8/20\n",
      "32/32 [==============================] - 2s 55ms/step - loss: 0.0240 - val_loss: 0.0275\n",
      "Epoch 9/20\n",
      "32/32 [==============================] - 2s 58ms/step - loss: 0.0233 - val_loss: 0.0272\n",
      "Epoch 10/20\n",
      "32/32 [==============================] - 2s 56ms/step - loss: 0.0233 - val_loss: 0.0275\n",
      "Epoch 11/20\n",
      "32/32 [==============================] - 2s 57ms/step - loss: 0.0231 - val_loss: 0.0272\n",
      "Epoch 12/20\n",
      "32/32 [==============================] - 2s 57ms/step - loss: 0.0234 - val_loss: 0.0316\n",
      "Epoch 13/20\n",
      "32/32 [==============================] - 2s 56ms/step - loss: 0.0241 - val_loss: 0.0272\n",
      "Epoch 14/20\n",
      "32/32 [==============================] - 2s 57ms/step - loss: 0.0228 - val_loss: 0.0275\n",
      "Epoch 15/20\n",
      "32/32 [==============================] - 2s 56ms/step - loss: 0.0237 - val_loss: 0.0286\n",
      "Epoch 16/20\n",
      "32/32 [==============================] - 2s 57ms/step - loss: 0.0232 - val_loss: 0.0273\n",
      "Epoch 17/20\n",
      "32/32 [==============================] - 2s 57ms/step - loss: 0.0226 - val_loss: 0.0267\n",
      "Epoch 18/20\n",
      "32/32 [==============================] - 2s 56ms/step - loss: 0.0224 - val_loss: 0.0263\n",
      "Epoch 19/20\n",
      "32/32 [==============================] - 2s 56ms/step - loss: 0.0224 - val_loss: 0.0266\n",
      "Epoch 20/20\n",
      "32/32 [==============================] - 2s 57ms/step - loss: 0.0221 - val_loss: 0.0261\n",
      "Epoch 1/20\n",
      "32/32 [==============================] - 2s 69ms/step - loss: 0.0182 - val_loss: 0.0217\n",
      "Epoch 2/20\n",
      "32/32 [==============================] - 2s 57ms/step - loss: 0.0177 - val_loss: 0.0218\n",
      "Epoch 3/20\n"
     ]
    },
    {
     "name": "stdout",
     "output_type": "stream",
     "text": [
      "32/32 [==============================] - 2s 57ms/step - loss: 0.0174 - val_loss: 0.0211\n",
      "Epoch 4/20\n",
      "32/32 [==============================] - 2s 55ms/step - loss: 0.0176 - val_loss: 0.0218\n",
      "Epoch 5/20\n",
      "32/32 [==============================] - 2s 56ms/step - loss: 0.0175 - val_loss: 0.0210\n",
      "Epoch 6/20\n",
      "32/32 [==============================] - 2s 56ms/step - loss: 0.0178 - val_loss: 0.0214\n",
      "Epoch 7/20\n",
      "32/32 [==============================] - 2s 57ms/step - loss: 0.0178 - val_loss: 0.0214\n",
      "Epoch 8/20\n",
      "32/32 [==============================] - 2s 56ms/step - loss: 0.0173 - val_loss: 0.0214\n",
      "Epoch 9/20\n",
      "32/32 [==============================] - 2s 58ms/step - loss: 0.0172 - val_loss: 0.0208\n",
      "Epoch 10/20\n",
      "32/32 [==============================] - 2s 55ms/step - loss: 0.0173 - val_loss: 0.0210\n",
      "Epoch 11/20\n",
      "32/32 [==============================] - 2s 57ms/step - loss: 0.0174 - val_loss: 0.0211\n",
      "Epoch 12/20\n",
      "32/32 [==============================] - 2s 57ms/step - loss: 0.0177 - val_loss: 0.0222\n",
      "Epoch 13/20\n",
      "32/32 [==============================] - 2s 57ms/step - loss: 0.0184 - val_loss: 0.0228\n",
      "Epoch 14/20\n",
      "32/32 [==============================] - 2s 58ms/step - loss: 0.0173 - val_loss: 0.0220\n",
      "Epoch 15/20\n",
      "32/32 [==============================] - 2s 57ms/step - loss: 0.0174 - val_loss: 0.0212\n",
      "Epoch 16/20\n",
      "32/32 [==============================] - 2s 57ms/step - loss: 0.0170 - val_loss: 0.0205\n",
      "Epoch 17/20\n",
      "32/32 [==============================] - 2s 57ms/step - loss: 0.0171 - val_loss: 0.0205\n",
      "Epoch 18/20\n",
      "32/32 [==============================] - 2s 56ms/step - loss: 0.0172 - val_loss: 0.0203\n",
      "Epoch 19/20\n",
      "32/32 [==============================] - 2s 58ms/step - loss: 0.0165 - val_loss: 0.0201\n",
      "Epoch 20/20\n",
      "32/32 [==============================] - 2s 56ms/step - loss: 0.0165 - val_loss: 0.0200\n",
      "Epoch 1/20\n",
      "32/32 [==============================] - 2s 70ms/step - loss: 0.0168 - val_loss: 0.0198\n",
      "Epoch 2/20\n",
      "32/32 [==============================] - 2s 57ms/step - loss: 0.0166 - val_loss: 0.0196\n",
      "Epoch 3/20\n",
      "32/32 [==============================] - 2s 57ms/step - loss: 0.0163 - val_loss: 0.0195\n",
      "Epoch 4/20\n",
      "32/32 [==============================] - 2s 56ms/step - loss: 0.0163 - val_loss: 0.0193\n",
      "Epoch 5/20\n",
      "32/32 [==============================] - 2s 55ms/step - loss: 0.0161 - val_loss: 0.0192\n",
      "Epoch 6/20\n",
      "32/32 [==============================] - 2s 57ms/step - loss: 0.0160 - val_loss: 0.0191\n",
      "Epoch 7/20\n",
      "32/32 [==============================] - 2s 56ms/step - loss: 0.0160 - val_loss: 0.0192\n",
      "Epoch 8/20\n",
      "32/32 [==============================] - 2s 58ms/step - loss: 0.0160 - val_loss: 0.0192\n",
      "Epoch 9/20\n",
      "32/32 [==============================] - 2s 56ms/step - loss: 0.0161 - val_loss: 0.0204\n",
      "Epoch 10/20\n",
      "32/32 [==============================] - 2s 56ms/step - loss: 0.0166 - val_loss: 0.0192\n",
      "Epoch 11/20\n",
      "32/32 [==============================] - 2s 56ms/step - loss: 0.0160 - val_loss: 0.0188\n",
      "Epoch 12/20\n",
      "32/32 [==============================] - 2s 57ms/step - loss: 0.0159 - val_loss: 0.0189\n",
      "Epoch 13/20\n",
      "32/32 [==============================] - 2s 58ms/step - loss: 0.0159 - val_loss: 0.0188\n",
      "Epoch 14/20\n",
      "32/32 [==============================] - 2s 57ms/step - loss: 0.0161 - val_loss: 0.0196\n",
      "Epoch 15/20\n",
      "32/32 [==============================] - 2s 57ms/step - loss: 0.0163 - val_loss: 0.0205\n",
      "Epoch 16/20\n",
      "32/32 [==============================] - 2s 56ms/step - loss: 0.0169 - val_loss: 0.0195\n",
      "Epoch 17/20\n",
      "32/32 [==============================] - 2s 57ms/step - loss: 0.0160 - val_loss: 0.0187\n",
      "Epoch 18/20\n",
      "32/32 [==============================] - 2s 57ms/step - loss: 0.0160 - val_loss: 0.0202\n",
      "Epoch 19/20\n",
      "32/32 [==============================] - 2s 58ms/step - loss: 0.0160 - val_loss: 0.0186\n",
      "Epoch 20/20\n",
      "32/32 [==============================] - 2s 55ms/step - loss: 0.0155 - val_loss: 0.0184\n",
      "Epoch 1/20\n",
      "32/32 [==============================] - 2s 70ms/step - loss: 0.0168 - val_loss: 0.0203\n",
      "Epoch 2/20\n",
      "32/32 [==============================] - 2s 53ms/step - loss: 0.0167 - val_loss: 0.0194\n",
      "Epoch 3/20\n",
      "32/32 [==============================] - 2s 55ms/step - loss: 0.0166 - val_loss: 0.0201\n",
      "Epoch 4/20\n",
      "32/32 [==============================] - 2s 58ms/step - loss: 0.0165 - val_loss: 0.0196\n",
      "Epoch 5/20\n",
      "32/32 [==============================] - 2s 57ms/step - loss: 0.0166 - val_loss: 0.0193\n",
      "Epoch 6/20\n",
      "32/32 [==============================] - 2s 55ms/step - loss: 0.0163 - val_loss: 0.0198\n",
      "Epoch 7/20\n",
      "32/32 [==============================] - 2s 58ms/step - loss: 0.0167 - val_loss: 0.0199\n",
      "Epoch 8/20\n",
      "32/32 [==============================] - 2s 57ms/step - loss: 0.0164 - val_loss: 0.0191\n",
      "Epoch 9/20\n",
      "32/32 [==============================] - 2s 55ms/step - loss: 0.0161 - val_loss: 0.0190\n",
      "Epoch 10/20\n",
      "32/32 [==============================] - 2s 58ms/step - loss: 0.0161 - val_loss: 0.0192\n",
      "Epoch 11/20\n",
      "32/32 [==============================] - 2s 57ms/step - loss: 0.0159 - val_loss: 0.0187\n",
      "Epoch 12/20\n",
      "32/32 [==============================] - 2s 58ms/step - loss: 0.0159 - val_loss: 0.0186\n",
      "Epoch 13/20\n",
      "32/32 [==============================] - 2s 58ms/step - loss: 0.0158 - val_loss: 0.0198\n",
      "Epoch 14/20\n",
      "32/32 [==============================] - 2s 56ms/step - loss: 0.0160 - val_loss: 0.0187\n",
      "Epoch 15/20\n",
      "32/32 [==============================] - 2s 57ms/step - loss: 0.0159 - val_loss: 0.0189\n",
      "Epoch 16/20\n",
      "32/32 [==============================] - 2s 57ms/step - loss: 0.0164 - val_loss: 0.0189\n",
      "Epoch 17/20\n",
      "32/32 [==============================] - 2s 58ms/step - loss: 0.0161 - val_loss: 0.0188\n",
      "Epoch 18/20\n",
      "32/32 [==============================] - 2s 57ms/step - loss: 0.0162 - val_loss: 0.0189\n",
      "Epoch 19/20\n",
      "32/32 [==============================] - 2s 58ms/step - loss: 0.0161 - val_loss: 0.0199\n",
      "Epoch 20/20\n",
      "32/32 [==============================] - 2s 56ms/step - loss: 0.0167 - val_loss: 0.0193\n",
      "Epoch 1/20\n",
      "32/32 [==============================] - 2s 71ms/step - loss: 0.0174 - val_loss: 0.0197\n",
      "Epoch 2/20\n",
      "32/32 [==============================] - 2s 56ms/step - loss: 0.0165 - val_loss: 0.0197\n",
      "Epoch 3/20\n",
      "32/32 [==============================] - 2s 57ms/step - loss: 0.0164 - val_loss: 0.0193\n",
      "Epoch 4/20\n",
      "32/32 [==============================] - 2s 55ms/step - loss: 0.0161 - val_loss: 0.0189\n",
      "Epoch 5/20\n",
      "32/32 [==============================] - 2s 58ms/step - loss: 0.0159 - val_loss: 0.0197\n",
      "Epoch 6/20\n",
      "32/32 [==============================] - 2s 59ms/step - loss: 0.0162 - val_loss: 0.0194\n",
      "Epoch 7/20\n",
      "32/32 [==============================] - 2s 55ms/step - loss: 0.0162 - val_loss: 0.0189\n",
      "Epoch 8/20\n",
      "32/32 [==============================] - 2s 56ms/step - loss: 0.0160 - val_loss: 0.0189\n",
      "Epoch 9/20\n",
      "32/32 [==============================] - 2s 56ms/step - loss: 0.0157 - val_loss: 0.0187\n",
      "Epoch 10/20\n",
      "32/32 [==============================] - 2s 57ms/step - loss: 0.0159 - val_loss: 0.0190\n",
      "Epoch 11/20\n",
      "32/32 [==============================] - 2s 57ms/step - loss: 0.0160 - val_loss: 0.0193\n",
      "Epoch 12/20\n",
      "32/32 [==============================] - 2s 58ms/step - loss: 0.0161 - val_loss: 0.0191\n",
      "Epoch 13/20\n",
      "32/32 [==============================] - 2s 57ms/step - loss: 0.0160 - val_loss: 0.0186\n",
      "Epoch 14/20\n",
      "32/32 [==============================] - 2s 57ms/step - loss: 0.0157 - val_loss: 0.0187\n",
      "Epoch 15/20\n",
      "32/32 [==============================] - 2s 56ms/step - loss: 0.0158 - val_loss: 0.0186\n",
      "Epoch 16/20\n",
      "32/32 [==============================] - 2s 56ms/step - loss: 0.0157 - val_loss: 0.0184\n",
      "Epoch 17/20\n",
      "32/32 [==============================] - 2s 58ms/step - loss: 0.0157 - val_loss: 0.0187\n",
      "Epoch 18/20\n",
      "32/32 [==============================] - 2s 57ms/step - loss: 0.0157 - val_loss: 0.0184\n",
      "Epoch 19/20\n",
      "32/32 [==============================] - 2s 57ms/step - loss: 0.0157 - val_loss: 0.0185\n",
      "Epoch 20/20\n",
      "32/32 [==============================] - 2s 55ms/step - loss: 0.0158 - val_loss: 0.0187\n",
      "Epoch 1/20\n",
      "32/32 [==============================] - 2s 69ms/step - loss: 0.0161 - val_loss: 0.0192\n",
      "Epoch 2/20\n",
      "32/32 [==============================] - 2s 56ms/step - loss: 0.0158 - val_loss: 0.0185\n",
      "Epoch 3/20\n",
      "32/32 [==============================] - 2s 57ms/step - loss: 0.0154 - val_loss: 0.0181\n",
      "Epoch 4/20\n",
      "32/32 [==============================] - 2s 57ms/step - loss: 0.0155 - val_loss: 0.0181\n",
      "Epoch 5/20\n"
     ]
    },
    {
     "name": "stdout",
     "output_type": "stream",
     "text": [
      "32/32 [==============================] - 2s 58ms/step - loss: 0.0157 - val_loss: 0.0183\n",
      "Epoch 6/20\n",
      "32/32 [==============================] - 2s 56ms/step - loss: 0.0152 - val_loss: 0.0176\n",
      "Epoch 7/20\n",
      "32/32 [==============================] - 2s 57ms/step - loss: 0.0151 - val_loss: 0.0177\n",
      "Epoch 8/20\n",
      "32/32 [==============================] - 2s 56ms/step - loss: 0.0149 - val_loss: 0.0178\n",
      "Epoch 9/20\n",
      "32/32 [==============================] - 2s 55ms/step - loss: 0.0151 - val_loss: 0.0195\n",
      "Epoch 10/20\n",
      "32/32 [==============================] - 2s 56ms/step - loss: 0.0153 - val_loss: 0.0179\n",
      "Epoch 11/20\n",
      "32/32 [==============================] - 2s 57ms/step - loss: 0.0153 - val_loss: 0.0182\n",
      "Epoch 12/20\n",
      "32/32 [==============================] - 2s 57ms/step - loss: 0.0158 - val_loss: 0.0186\n",
      "Epoch 13/20\n",
      "32/32 [==============================] - 2s 56ms/step - loss: 0.0158 - val_loss: 0.0180\n",
      "Epoch 14/20\n",
      "32/32 [==============================] - 2s 56ms/step - loss: 0.0150 - val_loss: 0.0175\n",
      "Epoch 15/20\n",
      "32/32 [==============================] - 2s 56ms/step - loss: 0.0150 - val_loss: 0.0195\n",
      "Epoch 16/20\n",
      "32/32 [==============================] - 2s 57ms/step - loss: 0.0152 - val_loss: 0.0189\n",
      "Epoch 17/20\n",
      "32/32 [==============================] - 2s 58ms/step - loss: 0.0158 - val_loss: 0.0183\n",
      "Epoch 18/20\n",
      "32/32 [==============================] - 2s 56ms/step - loss: 0.0155 - val_loss: 0.0186\n",
      "Epoch 19/20\n",
      "32/32 [==============================] - 2s 56ms/step - loss: 0.0149 - val_loss: 0.0172\n",
      "Epoch 20/20\n",
      "32/32 [==============================] - 2s 55ms/step - loss: 0.0148 - val_loss: 0.0176\n",
      "Epoch 1/20\n",
      "32/32 [==============================] - 2s 69ms/step - loss: 0.0166 - val_loss: 0.0192\n",
      "Epoch 2/20\n",
      "32/32 [==============================] - 2s 55ms/step - loss: 0.0164 - val_loss: 0.0191\n",
      "Epoch 3/20\n",
      "32/32 [==============================] - 2s 57ms/step - loss: 0.0163 - val_loss: 0.0189\n",
      "Epoch 4/20\n",
      "32/32 [==============================] - 2s 57ms/step - loss: 0.0160 - val_loss: 0.0186\n",
      "Epoch 5/20\n",
      "32/32 [==============================] - 2s 57ms/step - loss: 0.0160 - val_loss: 0.0190\n",
      "Epoch 6/20\n",
      "32/32 [==============================] - 2s 56ms/step - loss: 0.0159 - val_loss: 0.0186\n",
      "Epoch 7/20\n",
      "32/32 [==============================] - 2s 57ms/step - loss: 0.0160 - val_loss: 0.0192\n",
      "Epoch 8/20\n",
      "32/32 [==============================] - 2s 56ms/step - loss: 0.0161 - val_loss: 0.0188\n",
      "Epoch 9/20\n",
      "32/32 [==============================] - 2s 57ms/step - loss: 0.0160 - val_loss: 0.0186\n",
      "Epoch 10/20\n",
      "32/32 [==============================] - 2s 58ms/step - loss: 0.0163 - val_loss: 0.0194\n",
      "Epoch 11/20\n",
      "32/32 [==============================] - 2s 58ms/step - loss: 0.0163 - val_loss: 0.0202\n",
      "Epoch 12/20\n",
      "32/32 [==============================] - 2s 57ms/step - loss: 0.0166 - val_loss: 0.0191\n",
      "Epoch 13/20\n",
      "32/32 [==============================] - 2s 57ms/step - loss: 0.0163 - val_loss: 0.0187\n",
      "Epoch 14/20\n",
      "32/32 [==============================] - 2s 58ms/step - loss: 0.0159 - val_loss: 0.0189\n",
      "Epoch 15/20\n",
      "32/32 [==============================] - 2s 56ms/step - loss: 0.0158 - val_loss: 0.0194\n",
      "Epoch 16/20\n",
      "32/32 [==============================] - 2s 58ms/step - loss: 0.0160 - val_loss: 0.0184\n",
      "Epoch 17/20\n",
      "32/32 [==============================] - 2s 58ms/step - loss: 0.0156 - val_loss: 0.0187\n",
      "Epoch 18/20\n",
      "32/32 [==============================] - 2s 57ms/step - loss: 0.0157 - val_loss: 0.0182\n",
      "Epoch 19/20\n",
      "32/32 [==============================] - 2s 55ms/step - loss: 0.0154 - val_loss: 0.0184\n",
      "Epoch 20/20\n",
      "32/32 [==============================] - 2s 55ms/step - loss: 0.0157 - val_loss: 0.0181\n",
      "Epoch 1/20\n",
      "32/32 [==============================] - 2s 69ms/step - loss: 0.0174 - val_loss: 0.0201\n",
      "Epoch 2/20\n",
      "32/32 [==============================] - 2s 58ms/step - loss: 0.0170 - val_loss: 0.0197\n",
      "Epoch 3/20\n",
      "32/32 [==============================] - 2s 57ms/step - loss: 0.0169 - val_loss: 0.0200\n",
      "Epoch 4/20\n",
      "32/32 [==============================] - 2s 58ms/step - loss: 0.0168 - val_loss: 0.0196\n",
      "Epoch 5/20\n",
      "32/32 [==============================] - 2s 56ms/step - loss: 0.0172 - val_loss: 0.0208\n",
      "Epoch 6/20\n",
      "32/32 [==============================] - 2s 58ms/step - loss: 0.0169 - val_loss: 0.0195\n",
      "Epoch 7/20\n",
      "32/32 [==============================] - 2s 56ms/step - loss: 0.0167 - val_loss: 0.0199\n",
      "Epoch 8/20\n",
      "32/32 [==============================] - 2s 56ms/step - loss: 0.0168 - val_loss: 0.0199\n",
      "Epoch 9/20\n",
      "32/32 [==============================] - 2s 57ms/step - loss: 0.0168 - val_loss: 0.0196\n",
      "Epoch 10/20\n",
      "32/32 [==============================] - 2s 57ms/step - loss: 0.0168 - val_loss: 0.0196\n",
      "Epoch 11/20\n",
      "32/32 [==============================] - 2s 57ms/step - loss: 0.0167 - val_loss: 0.0195\n",
      "Epoch 12/20\n",
      "32/32 [==============================] - 2s 56ms/step - loss: 0.0165 - val_loss: 0.0191\n",
      "Epoch 13/20\n",
      "32/32 [==============================] - 2s 55ms/step - loss: 0.0168 - val_loss: 0.0198\n",
      "Epoch 14/20\n",
      "32/32 [==============================] - 2s 57ms/step - loss: 0.0170 - val_loss: 0.0197\n",
      "Epoch 15/20\n",
      "32/32 [==============================] - 2s 56ms/step - loss: 0.0166 - val_loss: 0.0200\n",
      "Epoch 16/20\n",
      "32/32 [==============================] - 2s 55ms/step - loss: 0.0164 - val_loss: 0.0196\n",
      "Epoch 17/20\n",
      "32/32 [==============================] - 2s 58ms/step - loss: 0.0162 - val_loss: 0.0191\n",
      "Epoch 18/20\n",
      "32/32 [==============================] - 2s 57ms/step - loss: 0.0165 - val_loss: 0.0195\n",
      "Epoch 19/20\n",
      "32/32 [==============================] - 2s 56ms/step - loss: 0.0167 - val_loss: 0.0195\n",
      "Epoch 20/20\n",
      "32/32 [==============================] - 2s 56ms/step - loss: 0.0163 - val_loss: 0.0189\n",
      "Epoch 1/20\n",
      "32/32 [==============================] - 2s 69ms/step - loss: 0.0170 - val_loss: 0.0197\n",
      "Epoch 2/20\n",
      "32/32 [==============================] - 2s 56ms/step - loss: 0.0166 - val_loss: 0.0194\n",
      "Epoch 3/20\n",
      "32/32 [==============================] - 2s 57ms/step - loss: 0.0164 - val_loss: 0.0194\n",
      "Epoch 4/20\n",
      "32/32 [==============================] - 2s 55ms/step - loss: 0.0166 - val_loss: 0.0203\n",
      "Epoch 5/20\n",
      "32/32 [==============================] - 2s 55ms/step - loss: 0.0168 - val_loss: 0.0195\n",
      "Epoch 6/20\n",
      "32/32 [==============================] - 2s 55ms/step - loss: 0.0164 - val_loss: 0.0191\n",
      "Epoch 7/20\n",
      "32/32 [==============================] - 2s 55ms/step - loss: 0.0163 - val_loss: 0.0189\n",
      "Epoch 8/20\n",
      "32/32 [==============================] - 2s 57ms/step - loss: 0.0161 - val_loss: 0.0190\n",
      "Epoch 9/20\n",
      "32/32 [==============================] - 2s 58ms/step - loss: 0.0163 - val_loss: 0.0189\n",
      "Epoch 10/20\n",
      "32/32 [==============================] - 2s 57ms/step - loss: 0.0161 - val_loss: 0.0194\n",
      "Epoch 11/20\n",
      "32/32 [==============================] - 2s 55ms/step - loss: 0.0167 - val_loss: 0.0194\n",
      "Epoch 12/20\n",
      "32/32 [==============================] - 2s 57ms/step - loss: 0.0165 - val_loss: 0.0220\n",
      "Epoch 13/20\n",
      "32/32 [==============================] - 2s 57ms/step - loss: 0.0166 - val_loss: 0.0190\n",
      "Epoch 14/20\n",
      "32/32 [==============================] - 2s 57ms/step - loss: 0.0161 - val_loss: 0.0189\n",
      "Epoch 15/20\n",
      "32/32 [==============================] - 2s 58ms/step - loss: 0.0162 - val_loss: 0.0188\n",
      "Epoch 16/20\n",
      "32/32 [==============================] - 2s 56ms/step - loss: 0.0167 - val_loss: 0.0193\n",
      "Epoch 17/20\n",
      "32/32 [==============================] - 2s 56ms/step - loss: 0.0161 - val_loss: 0.0187\n",
      "Epoch 18/20\n",
      "32/32 [==============================] - 2s 58ms/step - loss: 0.0159 - val_loss: 0.0190\n",
      "Epoch 19/20\n",
      "32/32 [==============================] - 2s 56ms/step - loss: 0.0160 - val_loss: 0.0196\n",
      "Epoch 20/20\n",
      "32/32 [==============================] - 2s 56ms/step - loss: 0.0162 - val_loss: 0.0188\n",
      "Epoch 1/20\n",
      "32/32 [==============================] - 2s 68ms/step - loss: 0.0161 - val_loss: 0.0185\n",
      "Epoch 2/20\n",
      "32/32 [==============================] - 2s 58ms/step - loss: 0.0157 - val_loss: 0.0182\n",
      "Epoch 3/20\n",
      "32/32 [==============================] - 2s 58ms/step - loss: 0.0155 - val_loss: 0.0180\n",
      "Epoch 4/20\n",
      "32/32 [==============================] - 2s 56ms/step - loss: 0.0155 - val_loss: 0.0184\n",
      "Epoch 5/20\n",
      "32/32 [==============================] - 2s 57ms/step - loss: 0.0160 - val_loss: 0.0192\n",
      "Epoch 6/20\n",
      "32/32 [==============================] - 2s 56ms/step - loss: 0.0159 - val_loss: 0.0187\n",
      "Epoch 7/20\n"
     ]
    },
    {
     "name": "stdout",
     "output_type": "stream",
     "text": [
      "32/32 [==============================] - 2s 57ms/step - loss: 0.0158 - val_loss: 0.0180\n",
      "Epoch 8/20\n",
      "32/32 [==============================] - 2s 61ms/step - loss: 0.0156 - val_loss: 0.0178\n",
      "Epoch 9/20\n",
      "32/32 [==============================] - 2s 56ms/step - loss: 0.0155 - val_loss: 0.0176\n",
      "Epoch 10/20\n",
      "32/32 [==============================] - 2s 56ms/step - loss: 0.0153 - val_loss: 0.0178\n",
      "Epoch 11/20\n",
      "32/32 [==============================] - 2s 56ms/step - loss: 0.0153 - val_loss: 0.0177\n",
      "Epoch 12/20\n",
      "32/32 [==============================] - 2s 58ms/step - loss: 0.0150 - val_loss: 0.0178\n",
      "Epoch 13/20\n",
      "32/32 [==============================] - 2s 57ms/step - loss: 0.0151 - val_loss: 0.0180\n",
      "Epoch 14/20\n",
      "32/32 [==============================] - 2s 59ms/step - loss: 0.0155 - val_loss: 0.0181\n",
      "Epoch 15/20\n",
      "32/32 [==============================] - 2s 57ms/step - loss: 0.0151 - val_loss: 0.0175\n",
      "Epoch 16/20\n",
      "32/32 [==============================] - 2s 57ms/step - loss: 0.0150 - val_loss: 0.0174\n",
      "Epoch 17/20\n",
      "32/32 [==============================] - 2s 56ms/step - loss: 0.0151 - val_loss: 0.0174\n",
      "Epoch 18/20\n",
      "32/32 [==============================] - 2s 56ms/step - loss: 0.0154 - val_loss: 0.0177\n",
      "Epoch 19/20\n",
      "32/32 [==============================] - 2s 58ms/step - loss: 0.0157 - val_loss: 0.0181\n",
      "Epoch 20/20\n",
      "32/32 [==============================] - 2s 53ms/step - loss: 0.0150 - val_loss: 0.0173\n",
      "Epoch 1/20\n",
      "32/32 [==============================] - 2s 70ms/step - loss: 0.0167 - val_loss: 0.0193\n",
      "Epoch 2/20\n",
      "32/32 [==============================] - 2s 58ms/step - loss: 0.0163 - val_loss: 0.0188\n",
      "Epoch 3/20\n",
      "32/32 [==============================] - 2s 56ms/step - loss: 0.0162 - val_loss: 0.0185\n",
      "Epoch 4/20\n",
      "32/32 [==============================] - 2s 58ms/step - loss: 0.0161 - val_loss: 0.0183\n",
      "Epoch 5/20\n",
      "32/32 [==============================] - 2s 58ms/step - loss: 0.0159 - val_loss: 0.0181\n",
      "Epoch 6/20\n",
      "32/32 [==============================] - 2s 56ms/step - loss: 0.0157 - val_loss: 0.0179\n",
      "Epoch 7/20\n",
      "32/32 [==============================] - 2s 58ms/step - loss: 0.0156 - val_loss: 0.0181\n",
      "Epoch 8/20\n",
      "32/32 [==============================] - 2s 57ms/step - loss: 0.0156 - val_loss: 0.0180\n",
      "Epoch 9/20\n",
      "32/32 [==============================] - 2s 57ms/step - loss: 0.0159 - val_loss: 0.0183\n",
      "Epoch 10/20\n",
      "32/32 [==============================] - 2s 57ms/step - loss: 0.0157 - val_loss: 0.0178\n",
      "Epoch 11/20\n",
      "32/32 [==============================] - 2s 56ms/step - loss: 0.0156 - val_loss: 0.0181\n",
      "Epoch 12/20\n",
      "32/32 [==============================] - 2s 57ms/step - loss: 0.0158 - val_loss: 0.0184\n",
      "Epoch 13/20\n",
      "32/32 [==============================] - 2s 59ms/step - loss: 0.0158 - val_loss: 0.0181\n",
      "Epoch 14/20\n",
      "32/32 [==============================] - 2s 58ms/step - loss: 0.0155 - val_loss: 0.0177\n",
      "Epoch 15/20\n",
      "32/32 [==============================] - 2s 58ms/step - loss: 0.0155 - val_loss: 0.0188\n",
      "Epoch 16/20\n",
      "32/32 [==============================] - 2s 57ms/step - loss: 0.0158 - val_loss: 0.0188\n",
      "Epoch 17/20\n",
      "32/32 [==============================] - 2s 57ms/step - loss: 0.0159 - val_loss: 0.0184\n",
      "Epoch 18/20\n",
      "32/32 [==============================] - 2s 58ms/step - loss: 0.0166 - val_loss: 0.0188\n",
      "Epoch 19/20\n",
      "32/32 [==============================] - 2s 57ms/step - loss: 0.0160 - val_loss: 0.0189\n",
      "Epoch 20/20\n",
      "32/32 [==============================] - 2s 54ms/step - loss: 0.0156 - val_loss: 0.0176\n",
      "Epoch 1/20\n",
      "32/32 [==============================] - 2s 70ms/step - loss: 0.0179 - val_loss: 0.0241\n",
      "Epoch 2/20\n",
      "32/32 [==============================] - 2s 56ms/step - loss: 0.0185 - val_loss: 0.0207\n",
      "Epoch 3/20\n",
      "32/32 [==============================] - 2s 57ms/step - loss: 0.0177 - val_loss: 0.0206\n",
      "Epoch 4/20\n",
      "32/32 [==============================] - 2s 57ms/step - loss: 0.0175 - val_loss: 0.0201\n",
      "Epoch 5/20\n",
      "32/32 [==============================] - 2s 56ms/step - loss: 0.0174 - val_loss: 0.0199\n",
      "Epoch 6/20\n",
      "32/32 [==============================] - 2s 58ms/step - loss: 0.0172 - val_loss: 0.0199\n",
      "Epoch 7/20\n",
      "32/32 [==============================] - 2s 58ms/step - loss: 0.0171 - val_loss: 0.0199\n",
      "Epoch 8/20\n",
      "32/32 [==============================] - 2s 56ms/step - loss: 0.0170 - val_loss: 0.0198\n",
      "Epoch 9/20\n",
      "32/32 [==============================] - 2s 57ms/step - loss: 0.0175 - val_loss: 0.0205\n",
      "Epoch 10/20\n",
      "32/32 [==============================] - 2s 58ms/step - loss: 0.0182 - val_loss: 0.0208\n",
      "Epoch 11/20\n",
      "32/32 [==============================] - 2s 55ms/step - loss: 0.0176 - val_loss: 0.0202\n",
      "Epoch 12/20\n",
      "32/32 [==============================] - 2s 55ms/step - loss: 0.0170 - val_loss: 0.0198\n",
      "Epoch 13/20\n",
      "32/32 [==============================] - 2s 57ms/step - loss: 0.0171 - val_loss: 0.0195\n",
      "Epoch 14/20\n",
      "32/32 [==============================] - 2s 56ms/step - loss: 0.0167 - val_loss: 0.0194\n",
      "Epoch 15/20\n",
      "32/32 [==============================] - 2s 58ms/step - loss: 0.0170 - val_loss: 0.0196\n",
      "Epoch 16/20\n",
      "32/32 [==============================] - 2s 57ms/step - loss: 0.0168 - val_loss: 0.0201\n",
      "Epoch 17/20\n",
      "32/32 [==============================] - 2s 56ms/step - loss: 0.0170 - val_loss: 0.0203\n",
      "Epoch 18/20\n",
      "32/32 [==============================] - 2s 57ms/step - loss: 0.0171 - val_loss: 0.0193\n",
      "Epoch 19/20\n",
      "32/32 [==============================] - 2s 58ms/step - loss: 0.0168 - val_loss: 0.0192\n",
      "Epoch 20/20\n",
      "32/32 [==============================] - 2s 56ms/step - loss: 0.0169 - val_loss: 0.0196\n"
     ]
    }
   ],
   "source": [
    "hists = fit_model(0, 100, True)"
   ]
  },
  {
   "cell_type": "markdown",
   "metadata": {},
   "source": [
    "#### Loss at learning"
   ]
  },
  {
   "cell_type": "code",
   "execution_count": 13,
   "metadata": {},
   "outputs": [
    {
     "data": {
      "text/plain": [
       "<matplotlib.legend.Legend at 0x7f7958350400>"
      ]
     },
     "execution_count": 13,
     "metadata": {},
     "output_type": "execute_result"
    },
    {
     "data": {
      "image/png": "[encoded data removed]",
      "text/plain": [
       "<Figure size 720x576 with 1 Axes>"
      ]
     },
     "metadata": {
      "needs_background": "light"
     },
     "output_type": "display_data"
    }
   ],
   "source": [
    "plt.figure( figsize=(10,8) )\n",
    "plt.plot( np.arange(len(hists)*epochs)+1, np.concatenate( [ j.history['loss']  for j in hists ] ), label='loss' )\n",
    "plt.plot( np.arange(len(hists)*epochs)+1, np.concatenate( [ j.history['val_loss']  for j in hists ] ), label='val_loss' )\n",
    "plt.xlabel('Epochs', fontsize=20)\n",
    "plt.ylabel('MAE loss', fontsize=20)\n",
    "plt.tick_params(labelsize=18)\n",
    "plt.legend( fontsize=14 )"
   ]
  },
  {
   "cell_type": "markdown",
   "metadata": {},
   "source": [
    "### Evaluation"
   ]
  },
  {
   "cell_type": "code",
   "execution_count": 20,
   "metadata": {
    "scrolled": true
   },
   "outputs": [
    {
     "name": "stderr",
     "output_type": "stream",
     "text": [
      "\n",
      "  0%|          | 0/50 [00:00<?, ?it/s]\u001b[A\n",
      "  2%|▏         | 1/50 [00:02<01:52,  2.30s/it]\u001b[A\n",
      "  4%|▍         | 2/50 [00:04<01:49,  2.29s/it]\u001b[A\n",
      "  6%|▌         | 3/50 [00:06<01:46,  2.27s/it]\u001b[A\n",
      "  8%|▊         | 4/50 [00:08<01:43,  2.26s/it]\u001b[A\n",
      " 10%|█         | 5/50 [00:11<01:41,  2.25s/it]\u001b[A\n",
      " 12%|█▏        | 6/50 [00:13<01:41,  2.31s/it]\u001b[A\n",
      " 14%|█▍        | 7/50 [00:15<01:38,  2.29s/it]\u001b[A\n",
      " 16%|█▌        | 8/50 [00:18<01:35,  2.27s/it]\u001b[A\n",
      " 18%|█▊        | 9/50 [00:20<01:34,  2.31s/it]\u001b[A\n",
      " 20%|██        | 10/50 [00:22<01:31,  2.29s/it]\u001b[A\n",
      " 22%|██▏       | 11/50 [00:25<01:29,  2.29s/it]\u001b[A\n",
      " 24%|██▍       | 12/50 [00:27<01:26,  2.27s/it]\u001b[A\n",
      " 26%|██▌       | 13/50 [00:29<01:23,  2.26s/it]\u001b[A\n",
      " 28%|██▊       | 14/50 [00:31<01:21,  2.25s/it]\u001b[A\n",
      " 30%|███       | 15/50 [00:34<01:18,  2.25s/it]\u001b[A\n",
      " 32%|███▏      | 16/50 [00:36<01:16,  2.25s/it]\u001b[A\n",
      " 34%|███▍      | 17/50 [00:38<01:15,  2.29s/it]\u001b[A\n",
      " 36%|███▌      | 18/50 [00:41<01:14,  2.33s/it]\u001b[A\n",
      " 38%|███▊      | 19/50 [00:43<01:11,  2.30s/it]\u001b[A\n",
      " 40%|████      | 20/50 [00:45<01:11,  2.37s/it]\u001b[A\n",
      " 42%|████▏     | 21/50 [00:48<01:07,  2.33s/it]\u001b[A\n",
      " 44%|████▍     | 22/50 [00:50<01:04,  2.30s/it]\u001b[A\n",
      " 46%|████▌     | 23/50 [00:52<01:01,  2.28s/it]\u001b[A\n",
      " 48%|████▊     | 24/50 [00:54<00:59,  2.27s/it]\u001b[A\n",
      " 50%|█████     | 25/50 [00:57<00:56,  2.26s/it]\u001b[A\n",
      " 52%|█████▏    | 26/50 [00:59<00:55,  2.30s/it]\u001b[A\n",
      " 54%|█████▍    | 27/50 [01:01<00:52,  2.28s/it]\u001b[A\n",
      " 56%|█████▌    | 28/50 [01:03<00:49,  2.27s/it]\u001b[A\n",
      " 58%|█████▊    | 29/50 [01:06<00:48,  2.33s/it]\u001b[A\n",
      " 60%|██████    | 30/50 [01:08<00:45,  2.30s/it]\u001b[A\n",
      " 62%|██████▏   | 31/50 [01:10<00:43,  2.28s/it]\u001b[A\n",
      " 64%|██████▍   | 32/50 [01:13<00:40,  2.27s/it]\u001b[A\n",
      " 66%|██████▌   | 33/50 [01:15<00:38,  2.26s/it]\u001b[A\n",
      " 68%|██████▊   | 34/50 [01:17<00:36,  2.31s/it]\u001b[A\n",
      " 70%|███████   | 35/50 [01:19<00:34,  2.28s/it]\u001b[A\n",
      " 72%|███████▏  | 36/50 [01:22<00:31,  2.27s/it]\u001b[A\n",
      " 74%|███████▍  | 37/50 [01:24<00:29,  2.26s/it]\u001b[A\n",
      " 76%|███████▌  | 38/50 [01:26<00:27,  2.26s/it]\u001b[A\n",
      " 78%|███████▊  | 39/50 [01:28<00:24,  2.25s/it]\u001b[A\n",
      " 80%|████████  | 40/50 [01:31<00:22,  2.25s/it]\u001b[A\n",
      " 82%|████████▏ | 41/50 [01:33<00:20,  2.24s/it]\u001b[A\n",
      " 84%|████████▍ | 42/50 [01:35<00:18,  2.29s/it]\u001b[A\n",
      " 86%|████████▌ | 43/50 [01:38<00:16,  2.36s/it]\u001b[A\n",
      " 88%|████████▊ | 44/50 [01:40<00:13,  2.33s/it]\u001b[A\n",
      " 90%|█████████ | 45/50 [01:42<00:11,  2.30s/it]\u001b[A\n",
      " 92%|█████████▏| 46/50 [01:45<00:09,  2.28s/it]\u001b[A\n",
      " 94%|█████████▍| 47/50 [01:47<00:06,  2.27s/it]\u001b[A\n",
      " 96%|█████████▌| 48/50 [01:49<00:04,  2.26s/it]\u001b[A\n",
      " 98%|█████████▊| 49/50 [01:51<00:02,  2.26s/it]\u001b[A\n",
      "100%|██████████| 50/50 [01:54<00:00,  2.28s/it]\u001b[A\n"
     ]
    }
   ],
   "source": [
    "# Eval model\n",
    "eval_losses = []\n",
    "for n in tqdm( range(100, 150) ):\n",
    "    adj_mat, nfs, nf_targets = load_data(n)\n",
    "    eval_loss = model.evaluate([nfs, adj_mat],\n",
    "              nf_targets,\n",
    "              batch_size=batch_size, verbose=0 )\n",
    "    eval_losses.append(eval_loss)"
   ]
  },
  {
   "cell_type": "code",
   "execution_count": 32,
   "metadata": {
    "scrolled": false
   },
   "outputs": [
    {
     "data": {
      "text/plain": [
       "Text(0, 0.5, 'Occurences')"
      ]
     },
     "execution_count": 32,
     "metadata": {},
     "output_type": "execute_result"
    },
    {
     "data": {
      "image/png": "[encoded data removed]",
      "text/plain": [
       "<Figure size 576x432 with 1 Axes>"
      ]
     },
     "metadata": {
      "needs_background": "light"
     },
     "output_type": "display_data"
    }
   ],
   "source": [
    "plt.figure( figsize=(8,6) )\n",
    "_ = plt.hist( eval_losses, bins=np.linspace( min(eval_losses), max(eval_losses), 20 ) )\n",
    "plt.xlabel( 'Evaluation MAE loss', fontsize=18 )\n",
    "plt.ylabel( 'Occurences', fontsize=18)"
   ]
  },
  {
   "cell_type": "markdown",
   "metadata": {},
   "source": [
    "### Prediction"
   ]
  },
  {
   "cell_type": "markdown",
   "metadata": {},
   "source": [
    "#### Load info of graph conversion"
   ]
  },
  {
   "cell_type": "code",
   "execution_count": 79,
   "metadata": {
    "scrolled": true
   },
   "outputs": [
    {
     "data": {
      "text/plain": [
       "['nodes_line_graph', 'edges_original_graph']"
      ]
     },
     "execution_count": 79,
     "metadata": {},
     "output_type": "execute_result"
    }
   ],
   "source": [
    "load_graph_info = np.load(source+'../'+'graph_conversion_info.npz')\n",
    "list( load_graph_info.keys() )"
   ]
  },
  {
   "cell_type": "code",
   "execution_count": 80,
   "metadata": {},
   "outputs": [
    {
     "data": {
      "text/plain": [
       "(array(['(55, 386)', '(112, 2416)', '(0, 136)'], dtype='<U12'),\n",
       " array(['(0, 2)', '(0, 3)', '(0, 4)'], dtype='<U12'))"
      ]
     },
     "execution_count": 80,
     "metadata": {},
     "output_type": "execute_result"
    }
   ],
   "source": [
    "L_nodes = load_graph_info['nodes_line_graph']\n",
    "Q_edges = load_graph_info['edges_original_graph']\n",
    "L_nodes[:3], Q_edges[:3]"
   ]
  },
  {
   "cell_type": "markdown",
   "metadata": {},
   "source": [
    "#### Prediction "
   ]
  },
  {
   "cell_type": "code",
   "execution_count": 81,
   "metadata": {},
   "outputs": [],
   "source": [
    "adj_mat, nfs, nf_targets = load_data(0) # day 0"
   ]
  },
  {
   "cell_type": "code",
   "execution_count": 82,
   "metadata": {
    "scrolled": false
   },
   "outputs": [
    {
     "data": {
      "text/plain": [
       "(20, 3150, 1)"
      ]
     },
     "execution_count": 82,
     "metadata": {},
     "output_type": "execute_result"
    }
   ],
   "source": [
    "preds = model.predict([nfs, adj_mat] )\n",
    "preds.shape"
   ]
  },
  {
   "cell_type": "code",
   "execution_count": 83,
   "metadata": {},
   "outputs": [
    {
     "data": {
      "text/plain": [
       "array([0.046, 0.062, 0.08 , 0.2  , 0.322, 0.077, 0.264, 0.387, 0.21 ,\n",
       "       0.035], dtype=float32)"
      ]
     },
     "execution_count": 83,
     "metadata": {},
     "output_type": "execute_result"
    }
   ],
   "source": [
    "nf_targets[10][:10]"
   ]
  },
  {
   "cell_type": "code",
   "execution_count": 84,
   "metadata": {
    "scrolled": true
   },
   "outputs": [
    {
     "data": {
      "text/plain": [
       "array([[0.09165695],\n",
       "       [0.09274086],\n",
       "       [0.06924459],\n",
       "       [0.13552892],\n",
       "       [0.4448724 ],\n",
       "       [0.        ],\n",
       "       [0.47145522],\n",
       "       [0.26018184],\n",
       "       [0.13145538],\n",
       "       [0.05473823]], dtype=float32)"
      ]
     },
     "execution_count": 84,
     "metadata": {},
     "output_type": "execute_result"
    }
   ],
   "source": [
    "preds[10][:10]"
   ]
  },
  {
   "cell_type": "markdown",
   "metadata": {},
   "source": [
    "##### distribution of edge weights of original and predicted sample"
   ]
  },
  {
   "cell_type": "code",
   "execution_count": 89,
   "metadata": {
    "scrolled": true
   },
   "outputs": [
    {
     "data": {
      "text/plain": [
       "(0, 220)"
      ]
     },
     "execution_count": 89,
     "metadata": {},
     "output_type": "execute_result"
    },
    {
     "data": {
      "image/png": "[encoded data removed]",
      "text/plain": [
       "<Figure size 432x288 with 1 Axes>"
      ]
     },
     "metadata": {
      "needs_background": "light"
     },
     "output_type": "display_data"
    }
   ],
   "source": [
    "_ = plt.hist( nf_targets[10], bins=np.linspace(0,0.5,100))\n",
    "plt.xlim([0.01,0.5])\n",
    "plt.ylim([0,220])"
   ]
  },
  {
   "cell_type": "code",
   "execution_count": 90,
   "metadata": {},
   "outputs": [
    {
     "data": {
      "text/plain": [
       "(0, 220)"
      ]
     },
     "execution_count": 90,
     "metadata": {},
     "output_type": "execute_result"
    },
    {
     "data": {
      "image/png": "[encoded data removed]",
      "text/plain": [
       "<Figure size 432x288 with 1 Axes>"
      ]
     },
     "metadata": {
      "needs_background": "light"
     },
     "output_type": "display_data"
    }
   ],
   "source": [
    "_ = plt.hist(preds[10], bins=np.linspace(0,0.5,100) )\n",
    "plt.xlim([0.01,0.5])\n",
    "plt.ylim([0,220])"
   ]
  },
  {
   "cell_type": "markdown",
   "metadata": {},
   "source": [
    "#### Save data for visualization"
   ]
  },
  {
   "cell_type": "code",
   "execution_count": 91,
   "metadata": {
    "scrolled": false
   },
   "outputs": [
    {
     "data": {
      "text/plain": [
       "(array(['(55, 386)', '(112, 2416)', '(0, 136)', ..., '(943, 1003)',\n",
       "        '(436, 475)', '(2102, 2206)'], dtype='<U12'),\n",
       " array(['(0, 2)', '(0, 3)', '(0, 4)', ..., '(3163, 3165)', '(3252, 3312)',\n",
       "        '(3302, 3390)'], dtype='<U12'))"
      ]
     },
     "execution_count": 91,
     "metadata": {},
     "output_type": "execute_result"
    }
   ],
   "source": [
    "L_nodes, Q_edges"
   ]
  },
  {
   "cell_type": "code",
   "execution_count": 92,
   "metadata": {},
   "outputs": [],
   "source": [
    "L_nodes_to_weights = dict( zip( L_nodes, preds[10].flatten() ) )\n",
    "#L_nodes_to_weights"
   ]
  },
  {
   "cell_type": "code",
   "execution_count": 93,
   "metadata": {
    "scrolled": false
   },
   "outputs": [
    {
     "data": {
      "text/plain": [
       "(3150,)"
      ]
     },
     "execution_count": 93,
     "metadata": {},
     "output_type": "execute_result"
    }
   ],
   "source": [
    "Q_edge_features_pred = np.array( [ L_nodes_to_weights[ q ] for q in Q_edges ] )\n",
    "Q_edge_features_pred.shape"
   ]
  },
  {
   "cell_type": "code",
   "execution_count": 94,
   "metadata": {},
   "outputs": [],
   "source": [
    "np.save( source+'../'+'GraphNN_linegraph_edge_prediction_test', Q_edge_features_pred )"
   ]
  },
  {
   "cell_type": "markdown",
   "metadata": {},
   "source": [
    "### Visualization is in the data prep notebook!"
   ]
  }
 ],
 "metadata": {
  "kernelspec": {
   "display_name": "Python 3",
   "language": "python",
   "name": "python3"
  },
  "language_info": {
   "codemirror_mode": {
    "name": "ipython",
    "version": 3
   },
   "file_extension": ".py",
   "mimetype": "text/x-python",
   "name": "python",
   "nbconvert_exporter": "python",
   "pygments_lexer": "ipython3",
   "version": "3.6.9"
  }
 },
 "nbformat": 4,
 "nbformat_minor": 2
}
